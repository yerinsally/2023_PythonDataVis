{
  "nbformat": 4,
  "nbformat_minor": 0,
  "metadata": {
    "colab": {
      "provenance": [],
      "authorship_tag": "ABX9TyNswTQfjvoyiK0sI1i+Q1bo",
      "include_colab_link": true
    },
    "kernelspec": {
      "name": "python3",
      "display_name": "Python 3"
    },
    "language_info": {
      "name": "python"
    }
  },
  "cells": [
    {
      "cell_type": "markdown",
      "metadata": {
        "id": "view-in-github",
        "colab_type": "text"
      },
      "source": [
        "<a href=\"https://colab.research.google.com/github/yerinsally/2023_PythonDataVis/blob/main/mid_code.ipynb\" target=\"_parent\"><img src=\"https://colab.research.google.com/assets/colab-badge.svg\" alt=\"Open In Colab\"/></a>"
      ]
    },
    {
      "cell_type": "markdown",
      "source": [
        "# Week 1\n",
        "### Python 개요"
      ],
      "metadata": {
        "id": "J3HDQUCyWI8z"
      }
    },
    {
      "cell_type": "code",
      "execution_count": null,
      "metadata": {
        "colab": {
          "base_uri": "https://localhost:8080/"
        },
        "id": "zyrnJ_KcWDHe",
        "outputId": "6a35036c-9054-4ae4-ff44-44d1a1c62783"
      },
      "outputs": [
        {
          "output_type": "stream",
          "name": "stdout",
          "text": [
            "안녕하세요\n",
            "117\n",
            "Hello Python\n",
            "Welcome to Python World\n",
            "117\n",
            "나는 숙명여자대학교 눈송이입니다.\n"
          ]
        }
      ],
      "source": [
        "print(\"안녕하세요\")\n",
        "print(2023-1906)\n",
        "print('Hello Python')\n",
        "\n",
        "print(\"Welcome to Python World\")\n",
        "print(\"나는 숙명여자대학교 눈송이입니다.\")"
      ]
    },
    {
      "cell_type": "code",
      "source": [
        "# 터틀그래픽 : 파이참으로 실행\n",
        "'''\n",
        "import turtle as t\n",
        "t.shape(\"turtle\")\n",
        "\n",
        "t.up()\n",
        "t.goto(-150,0)\n",
        "t.down()\n",
        "t.circle(80)\n",
        "\n",
        "t.up()\n",
        "t.goto(-0,0)\n",
        "t.down()\n",
        "t.circle(80)\n",
        "\n",
        "t.up()\n",
        "t.goto(150,0)\n",
        "t.down()\n",
        "t.circle(80)\n",
        "\n",
        "t.up()\n",
        "t.goto(-80,-100)\n",
        "t.down()\n",
        "t.circle(80)\n",
        "\n",
        "t.up()\n",
        "t.goto(80,-100)\n",
        "t.down()\n",
        "t.circle(80)\n",
        "'''\n",
        "\n",
        "# 터틀그래픽 2\n",
        "'''\n",
        "import turtle\n",
        "\n",
        "colors = [\"red\",\"purple\",\"blue\",\"green\",\"yellow\",\"orange\"]\n",
        "t = turtle.Turtle()\n",
        "\n",
        "turtle.bgcolor(\"black\")\n",
        "t.speed(0)\n",
        "t.width(3)\n",
        "length = 10\n",
        "\n",
        "while length < 500:\n",
        "    t.forward(length)\n",
        "    t.pencolor(colors[length%6])\n",
        "    t.right(89)\n",
        "    length += 5\n",
        "    '''"
      ],
      "metadata": {
        "colab": {
          "base_uri": "https://localhost:8080/",
          "height": 53
        },
        "id": "wyzASXD2W5Am",
        "outputId": "e6c17ae1-f4cc-4f75-af16-5cb27077c964"
      },
      "execution_count": null,
      "outputs": [
        {
          "output_type": "execute_result",
          "data": {
            "text/plain": [
              "'\\nimport turtle\\n\\ncolors = [\"red\",\"purple\",\"blue\",\"green\",\"yellow\",\"orange\"]\\nt = turtle.Turtle()\\n\\nturtle.bgcolor(\"black\")\\nt.speed(0)\\nt.width(3)\\nlength = 10\\n\\nwhile length < 500:\\n    t.forward(length)\\n    t.pencolor(colors[length%6])\\n    t.right(89)\\n    length += 5\\n    '"
            ],
            "application/vnd.google.colaboratory.intrinsic+json": {
              "type": "string"
            }
          },
          "metadata": {},
          "execution_count": 6
        }
      ]
    },
    {
      "cell_type": "markdown",
      "source": [
        "# Week 2\n",
        "### Pycharm, 입출력 함수"
      ],
      "metadata": {
        "id": "fYUHUL8aXjUW"
      }
    },
    {
      "cell_type": "code",
      "source": [
        "# 도전문제1\n",
        "\n",
        "print('Hello', ',' , 'World', '!')\n",
        "print ('Hello' + ',' + 'World' + '!')\n",
        "print('헬로, 파이썬!')\n",
        "print('Hello' , 'Python!', sep=' ')\n",
        "print('Hello' , 'Python!', sep=',')"
      ],
      "metadata": {
        "colab": {
          "base_uri": "https://localhost:8080/"
        },
        "id": "WX_ka0qmZUui",
        "outputId": "e2506d97-0544-4e32-ada2-c67fba813ce1"
      },
      "execution_count": null,
      "outputs": [
        {
          "output_type": "stream",
          "name": "stdout",
          "text": [
            "Hello , World !\n",
            "Hello,World!\n",
            "헬로, 파이썬!\n",
            "Hello Python!\n",
            "Hello,Python!\n"
          ]
        }
      ]
    },
    {
      "cell_type": "markdown",
      "source": [
        "print 함수의 sep 파라미터 = 기호 다음에 나오는 파라미터 값으로 출력할 요소들을 구분하는 기능"
      ],
      "metadata": {
        "id": "M5QFjSqTZZpr"
      }
    },
    {
      "cell_type": "code",
      "source": [
        "# 도전문제2\n",
        "\n",
        "print(350 + 150)\n",
        "print('350 + 150')\n",
        "print(3.141592 * 2)\n",
        "print((1/100) * 1234)\n",
        "print(2345 * (8976 - 5678))\n",
        "print(3/2.4)"
      ],
      "metadata": {
        "colab": {
          "base_uri": "https://localhost:8080/"
        },
        "id": "4wT2OrnDZkv9",
        "outputId": "c053cb68-4433-46e5-fa07-d2c4bd94058c"
      },
      "execution_count": null,
      "outputs": [
        {
          "output_type": "stream",
          "name": "stdout",
          "text": [
            "500\n",
            "350 + 150\n",
            "6.283184\n",
            "12.34\n",
            "7733810\n",
            "1.25\n"
          ]
        }
      ]
    },
    {
      "cell_type": "code",
      "source": [
        "# 화씨온도를 섭씨온도로 변환\n",
        "f_temp = int(input(\"화씨온도 입력:\"))\n",
        "c_temp = (f_temp-32)*5/9\n",
        "print(\"섭씨온도:\", c_temp)\n",
        "print(\"섭씨온도:%0.2f\" %c_temp) # 소수점 자리\n",
        "\n",
        "# 섭씨온도를 화씨온도로 변환\n",
        "c_temp = int(input(\"섭씨온도 입력:\"))\n",
        "f_temp = (c_temp*9/5)+32\n",
        "print(\"화씨온도:\", f_temp)"
      ],
      "metadata": {
        "colab": {
          "base_uri": "https://localhost:8080/"
        },
        "id": "V7hpPXevXBL7",
        "outputId": "488366a3-a494-44b4-dc07-bd2425f707db"
      },
      "execution_count": null,
      "outputs": [
        {
          "output_type": "stream",
          "name": "stdout",
          "text": [
            "화씨온도 입력:100\n",
            "섭씨온도: 37.77777777777778\n",
            "섭씨온도:37.78\n",
            "섭씨온도 입력:100\n",
            "화씨온도: 212.0\n"
          ]
        }
      ]
    },
    {
      "cell_type": "markdown",
      "source": [
        "# Week 3\n",
        "### 자료형_숫자문자형"
      ],
      "metadata": {
        "id": "MnxjC2fnZygL"
      }
    },
    {
      "cell_type": "code",
      "source": [
        "# 문자열 자료형 연습\n",
        "\n",
        "print(\"\\n줄바꿈\\n연습\")              # 줄바꿈\n",
        "print(\"\\t탭키\\t연습\")                # 탭\n",
        "print(\"글자가 \\'강조\\'되는 효과\")    # 홑따옴표\n",
        "print(\"\\\\\\\\\\\\역슬래쉬 세 개 출력\")   # 역슬래쉬\n",
        "print('c:\\windows\\no1SMU\\test')      # 결과는?\n",
        "print('c:\\windows\\\\no1SMU\\\\test')\n",
        "print(r'c:\\windows\\no1SMU\\test')     # r = raw\n",
        "print('c:\\windows\\no1SWU\\test')"
      ],
      "metadata": {
        "colab": {
          "base_uri": "https://localhost:8080/"
        },
        "id": "vasNgtACZL_J",
        "outputId": "3a6cd32e-0c06-4125-dbc5-00cb6f29055b"
      },
      "execution_count": null,
      "outputs": [
        {
          "output_type": "stream",
          "name": "stdout",
          "text": [
            "\n",
            "줄바꿈\n",
            "연습\n",
            "\t탭키\t연습\n",
            "글자가 '강조'되는 효과\n",
            "\\\\\\역슬래쉬 세 개 출력\n",
            "c:\\windows\n",
            "o1SMU\test\n",
            "c:\\windows\\no1SMU\\test\n",
            "c:\\windows\\no1SMU\\test\n",
            "c:\\windows\n",
            "o1SWU\test\n"
          ]
        }
      ]
    },
    {
      "cell_type": "code",
      "source": [
        "# 반복연습\n",
        "print('='*20)\n",
        "print('My Program')\n",
        "print('='*20)\n",
        "\n",
        "# 문자열 길이 구하기\n",
        "a = \"Life is too short, You need Python\"\n",
        "print(len(a))"
      ],
      "metadata": {
        "colab": {
          "base_uri": "https://localhost:8080/"
        },
        "id": "pg1mdOOHdF1I",
        "outputId": "83484b2f-0d14-4478-d607-e28f6830b5a0"
      },
      "execution_count": null,
      "outputs": [
        {
          "output_type": "stream",
          "name": "stdout",
          "text": [
            "====================\n",
            "My Program\n",
            "====================\n",
            "34\n"
          ]
        }
      ]
    },
    {
      "cell_type": "code",
      "source": [
        "# 문자열 인덱싱\n",
        "a = \"Life if too short, You need Python\"\n",
        "print(len(a))\n",
        "print(a[3])\n",
        "print(a[0])\n",
        "print(a[33])\n",
        "print(a[-1])\n",
        "print(a[-6])\n",
        "print(a[-0])\n",
        "print(a[0] + a[1] + a[2] + a[3])\n",
        "\n",
        "# 문자열 슬라이싱\n",
        "# 슬라이싱 시 끝 인덱스는 포함되지 않음\n",
        "print(a[0:5])\n",
        "print(a[0:3])\n",
        "print(a[12:17])\n",
        "print(a[19:])\n",
        "print(a[:17])\n",
        "print(a[19:-7])"
      ],
      "metadata": {
        "colab": {
          "base_uri": "https://localhost:8080/"
        },
        "id": "C_r1hCcFeOYo",
        "outputId": "49b4cf23-c542-4bf7-f78d-7f61dae7e72a"
      },
      "execution_count": null,
      "outputs": [
        {
          "output_type": "stream",
          "name": "stdout",
          "text": [
            "34\n",
            "e\n",
            "L\n",
            "n\n",
            "n\n",
            "P\n",
            "L\n",
            "Life\n",
            "Life \n",
            "Lif\n",
            "short\n",
            "You need Python\n",
            "Life if too short\n",
            "You need\n"
          ]
        }
      ]
    },
    {
      "cell_type": "code",
      "source": [
        "# 문자열의 요소값은 바꿀 수 없다 : immutable 자료형\n",
        "a = \"Pithon\"\n",
        "print(a[:1])\n",
        "print(a[2:])\n",
        "print(a[:1] + 'y' + a[2:])"
      ],
      "metadata": {
        "colab": {
          "base_uri": "https://localhost:8080/"
        },
        "id": "8zfo_l98eSZa",
        "outputId": "bc27945c-2b30-47cd-8370-f23976ce1662"
      },
      "execution_count": null,
      "outputs": [
        {
          "output_type": "stream",
          "name": "stdout",
          "text": [
            "P\n",
            "thon\n",
            "Python\n"
          ]
        }
      ]
    },
    {
      "cell_type": "code",
      "source": [
        "# 문자열 포매팅 학습\n",
        "print(\"I eat %d apples.\" %3)\n",
        "print(\"I eat %s appples.\" %\"five\")\n",
        "# 문자열은 s 삽입\n",
        "#  %s 포맷 코드로 어떤 형태로든 변환 가능\n",
        "\n",
        "number = 3\n",
        "day = \"three\"\n",
        "print(\"I eat %d apples.\" %number)\n",
        "print(\"I ate %d apples. So I was sick %s days.\" %(number, day))\n",
        "\n",
        "print(\"Error is %d%%\" %98)"
      ],
      "metadata": {
        "colab": {
          "base_uri": "https://localhost:8080/"
        },
        "id": "1ZOhc745kADY",
        "outputId": "bfd95b98-d693-4247-dc05-c9101a69045f"
      },
      "execution_count": null,
      "outputs": [
        {
          "output_type": "stream",
          "name": "stdout",
          "text": [
            "I eat 3 apples.\n",
            "I eat five appples.\n",
            "I eat 3 apples.\n",
            "I ate 3 apples. So I was sick three days.\n",
            "Error is 98%\n"
          ]
        }
      ]
    },
    {
      "cell_type": "code",
      "source": [
        "# 포맷코드와 숫자 함께 사용하기\n",
        "\n",
        "# 정렬과 공백\n",
        "print(\"%10s\" %\"hi\")\n",
        "print(\"%-10s\" %\"hi\")\n",
        "print(\"%-10sjane\" %\"hi\")\n",
        "\n",
        "# 소수점 표현하기\n",
        "print(\"%0.4f\" %3.1234567890)\n",
        "print(\"%0.2f\" %3.1234567890)\n",
        "print(\"%.2f\" %3.1234567890)\n",
        "print(\"%10.4f\" %3.1234567890) # 전체 10자리에 소숫점 4자리까지\n",
        "\n",
        "# .format() 함수\n",
        "print(\"I eat {} apples.\".format(3))\n",
        "print(\"I eat {} apples.\".format(\"five\"))\n",
        "\n",
        "number = 10\n",
        "day = \"three\"\n",
        "print(\"I ate {} apples. So I was sick {} days.\".format(number, day))\n",
        "print(\"I ate {} apples. So I was sick {day} days.\".format(3, day = \"three\"))\n",
        "\n",
        "# f 문자열 포매팅\n",
        "name = \"눈송이\"\n",
        "age = 23\n",
        "print(f\"나의 이름은 {name}입니다. 나이는 {age}입니다.\")\n",
        "print(f\"눈송이는 내년에 {age+1}살이 됩니다.\")"
      ],
      "metadata": {
        "colab": {
          "base_uri": "https://localhost:8080/"
        },
        "id": "jYQd4GpWkSeW",
        "outputId": "b1021aa1-ae5f-425b-96cf-0a6c47c9dc92"
      },
      "execution_count": null,
      "outputs": [
        {
          "output_type": "stream",
          "name": "stdout",
          "text": [
            "        hi\n",
            "hi        \n",
            "hi        jane\n",
            "3.1235\n",
            "3.12\n",
            "3.12\n",
            "    3.1235\n",
            "I eat 3 apples.\n",
            "I eat five apples.\n",
            "I ate 10 apples. So I was sick three days.\n",
            "I ate 3 apples. So I was sick three days.\n",
            "나의 이름은 눈송이입니다. 나이는 23입니다.\n",
            "눈송이는 내년에 24살이 됩니다.\n"
          ]
        }
      ]
    },
    {
      "cell_type": "code",
      "source": [
        "# 고급 문자열 포매팅\n",
        "\n",
        "# 1. 왼쪽 정렬\n",
        "print(\"{0:<10}\".format(\"hi\"))\n",
        "print(f'{\"hi\":<10}')\n",
        "\n",
        "# 2. 오른쪽 정렬\n",
        "print(\"{0:>10}\".format(\"hi\"))\n",
        "print(f'{\"hi\":>10}')\n",
        "\n",
        "# 3. 가운데 정렬\n",
        "print(\"{0:^10}\".format(\"hi\"))\n",
        "print(f'{\"hi\":^10}')\n",
        "\n",
        "# 4. 공백 대신 다른 문자\n",
        "print(\"{0:=^10}\".format(\"hi\"))\n",
        "print(\"{0:!<10}\".format(\"hi\"))\n",
        "print(f'{\"hi\":!<10}')"
      ],
      "metadata": {
        "colab": {
          "base_uri": "https://localhost:8080/"
        },
        "id": "MLyNuknJlcTu",
        "outputId": "130fc106-0f0e-4d0f-8905-77c000801317"
      },
      "execution_count": null,
      "outputs": [
        {
          "output_type": "stream",
          "name": "stdout",
          "text": [
            "hi        \n",
            "hi        \n",
            "        hi\n",
            "        hi\n",
            "    hi    \n",
            "    hi    \n",
            "====hi====\n",
            "hi!!!!!!!!\n",
            "hi!!!!!!!!\n"
          ]
        }
      ]
    },
    {
      "cell_type": "code",
      "source": [
        "# 소수점 표현하기\n",
        "y = 3.4211234234\n",
        "print('{0:0.4f}'.format(y))\n",
        "print(f'{y:0.4f}')\n",
        "\n",
        "# {} 문자 표현하기\n",
        "print(\"{{ and }}\".format())\n",
        "print(f'{{and}}')"
      ],
      "metadata": {
        "colab": {
          "base_uri": "https://localhost:8080/"
        },
        "id": "zxJs7O6VlygT",
        "outputId": "c1e0ba19-387a-448a-98b9-d54d5558541e"
      },
      "execution_count": null,
      "outputs": [
        {
          "output_type": "stream",
          "name": "stdout",
          "text": [
            "3.4211\n",
            "3.4211\n",
            "{ and }\n",
            "{and}\n"
          ]
        }
      ]
    },
    {
      "cell_type": "code",
      "source": [
        "# 문자열 함수\n",
        "a = \"hobby\"\n",
        "print(a.count('b'))\n",
        "a = \"Python is the best choice.\"\n",
        "print(a.find('b'))\n",
        "print(a.find('k'))\n",
        "print(a.index('b'))\n",
        "\n",
        "# 문자열 삽입 : join\n",
        "print(\",\".join(\"abcd\"))\n",
        "\n",
        "# 공백 지우기 (왼쪽, 오른족, 양쪽) : strip\n",
        "a = \"      hi\"\n",
        "print(a.lstrip())\n",
        "a = \"hi      \"\n",
        "print(a.rstrip())\n",
        "a = \"   hi   \"\n",
        "print(a.strip())\n",
        "\n",
        "# 문자열 바꾸기 : replace\n",
        "a = \"Life is too short\"\n",
        "print(a.replace(\"Life\", \"Your leg\"))"
      ],
      "metadata": {
        "colab": {
          "base_uri": "https://localhost:8080/"
        },
        "id": "AsizrUH5l2WM",
        "outputId": "fc58b039-b78e-4a22-8ab8-f5389212d895"
      },
      "execution_count": null,
      "outputs": [
        {
          "output_type": "stream",
          "name": "stdout",
          "text": [
            "2\n",
            "14\n",
            "-1\n",
            "14\n",
            "a,b,c,d\n",
            "hi\n",
            "hi\n",
            "hi\n",
            "Your leg is too short\n"
          ]
        }
      ]
    },
    {
      "cell_type": "code",
      "source": [
        "# 연습문제\n",
        "\n",
        "# (1) 마일 킬로미터 변환\n",
        "miles = float(input(\"마일입력:\"))\n",
        "kms = miles * 1.6\n",
        "print(\"%.1f 마일은 %.1f 킬로미터 입니다.\" %(miles, kms))\n",
        "print(\"{0} 마일은 {1} 킬로미터 입니다.\".format(miles, kms))\n",
        "print(f\"{miles} 마일은 {kms} 킬로미터 입니다.\")"
      ],
      "metadata": {
        "colab": {
          "base_uri": "https://localhost:8080/"
        },
        "id": "DIRM8-iHmDEt",
        "outputId": "c55a02f7-e65f-4a80-f615-931beb34d86e"
      },
      "execution_count": null,
      "outputs": [
        {
          "output_type": "stream",
          "name": "stdout",
          "text": [
            "마일입력:61.5\n",
            "61.5 마일은 98.4 킬로미터 입니다.\n",
            "61.5 마일은 98.4 킬로미터 입니다.\n",
            "61.5 마일은 98.4 킬로미터 입니다.\n"
          ]
        }
      ]
    },
    {
      "cell_type": "code",
      "source": [
        "# (2) 시, 분, 초 계산\n",
        "time = int(input(\"시간을 초 단위로 입력:\"))\n",
        "sec = time % 60\n",
        "min = time // 60\n",
        "hour = min // 60\n",
        "min = min % 60      # 앞 min 변수의 몫\n",
        "print(\"%d초는 %d시간 %d분 %d초 입니다.\" %(time, hour, min, sec))\n",
        "print(\"{0}초는 {1}시간 {2}분 {3}초 입니다.\".format(time, hour, min, sec))\n",
        "print(f\"{time}초는 {hour}시간 {min}분 {sec}초 입니다.\")"
      ],
      "metadata": {
        "colab": {
          "base_uri": "https://localhost:8080/"
        },
        "id": "PaNRzm1xmM9X",
        "outputId": "45959222-e087-4cb7-cfd0-dd509ef36afe"
      },
      "execution_count": null,
      "outputs": [
        {
          "output_type": "stream",
          "name": "stdout",
          "text": [
            "시간을 초 단위로 입력:6585\n",
            "6585초는 1시간 49분 45초 입니다.\n",
            "6585초는 1시간 49분 45초 입니다.\n",
            "6585초는 1시간 49분 45초 입니다.\n"
          ]
        }
      ]
    },
    {
      "cell_type": "markdown",
      "source": [
        "# Week 4\n",
        "### 자료형_리스트, 튜플, 딕셔너리"
      ],
      "metadata": {
        "id": "27IUmMxtnKHP"
      }
    },
    {
      "cell_type": "code",
      "source": [
        "# 리스트 관련 함수\n",
        "\n",
        "# append()\n",
        "a = [1,2,3]\n",
        "a.append(4)\n",
        "print(a)\n",
        "\n",
        "# sort()\n",
        "a = [1,4,2,3]\n",
        "a.sort()\n",
        "print(a)\n",
        "\n",
        "# reverse()\n",
        "a = ['a','c','b']\n",
        "a.reverse()\n",
        "print(a)\n",
        "\n",
        "# index()\n",
        "a = [1,2,3,4,5]\n",
        "b = a.index(3)\n",
        "print(b)\n",
        "print(a.index(1))\n",
        "\n",
        "# remove()\n",
        "a = [1,2,3,1,2,3]\n",
        "a.remove(3)\n",
        "print(a)\n",
        "\n",
        "# pop()\n",
        "a = [1,2,3]\n",
        "a.pop(1)    # 위치값\n",
        "print(a)\n",
        "\n",
        "# count()\n",
        "a = [1,2,3,1]\n",
        "b = a.count(1)\n",
        "print(b)\n",
        "\n",
        "# extend()\n",
        "a = [1,2,3]\n",
        "a.extend([4,5])\n",
        "print(a)"
      ],
      "metadata": {
        "colab": {
          "base_uri": "https://localhost:8080/"
        },
        "id": "WsLd1L1EnJ1E",
        "outputId": "f0564a3b-0e99-4c7e-952f-8164287918f3"
      },
      "execution_count": null,
      "outputs": [
        {
          "output_type": "stream",
          "name": "stdout",
          "text": [
            "[1, 2, 3, 4]\n",
            "[1, 2, 3, 4]\n",
            "['b', 'c', 'a']\n",
            "2\n",
            "0\n",
            "[1, 2, 1, 2, 3]\n",
            "[1, 3]\n",
            "2\n",
            "[1, 2, 3, 4, 5]\n"
          ]
        }
      ]
    },
    {
      "cell_type": "code",
      "source": [
        "# Q1\n",
        "pin = '881120-1068234'\n",
        "ymd = pin[:6]\n",
        "num = pin[7:]\n",
        "print('연월일:', ymd)\n",
        "print('번호:', num)\n",
        "\n",
        "# Q2\n",
        "sex = pin[7]\n",
        "print('성별:', sex)\n",
        "\n",
        "# Q3\n",
        "a = 'a:b:c:d'\n",
        "b = a.replace(':','#')\n",
        "print(b)"
      ],
      "metadata": {
        "colab": {
          "base_uri": "https://localhost:8080/"
        },
        "id": "c_hXmKJXPAGa",
        "outputId": "6abb662d-ccba-4d2d-9e9a-97b502eac2a2"
      },
      "execution_count": null,
      "outputs": [
        {
          "output_type": "stream",
          "name": "stdout",
          "text": [
            "연월일: 881120\n",
            "번호: 1068234\n",
            "성별: 1\n",
            "a#b#c#d\n"
          ]
        }
      ]
    },
    {
      "cell_type": "code",
      "source": [
        "# Q4\n",
        "a = [1,3,5,4,2]\n",
        "a.sort()\n",
        "a.reverse()\n",
        "print(a)\n",
        "\n",
        "# Q5\n",
        "a = ['Life','is','too','short']\n",
        "b = \" \".join(a)\n",
        "print(b)"
      ],
      "metadata": {
        "colab": {
          "base_uri": "https://localhost:8080/"
        },
        "id": "bEpVqu-YREgO",
        "outputId": "e576adae-9099-49ea-d35d-b83bf2bb74a0"
      },
      "execution_count": null,
      "outputs": [
        {
          "output_type": "stream",
          "name": "stdout",
          "text": [
            "[5, 4, 3, 2, 1]\n",
            "Life is too short\n"
          ]
        }
      ]
    },
    {
      "cell_type": "markdown",
      "source": [
        "리스트의 각 단어들을 한 문장으로 합칠 때 단어들 사이마다 공백을 넣어줘야 함 → \" \" 사용하여 join"
      ],
      "metadata": {
        "id": "lf-Er7i3RNln"
      }
    },
    {
      "cell_type": "code",
      "source": [
        "# 딕셔너리\n",
        "\n",
        "# key로 value 얻기\n",
        "grade = {'kim':10, 'park':99}\n",
        "print(grade['kim'])\n",
        "\n",
        "# 관련 함수\n",
        "# keys()\n",
        "a = {'name':'kim', 'phone':'01099993323', 'birth':'1118'}\n",
        "print(a.keys())\n",
        "print(list(a.keys()))\n",
        "\n",
        "# values()\n",
        "print(a.values())\n",
        "\n",
        "# items()\n",
        "print(a.items())\n",
        "\n",
        "# get()\n",
        "print(a.get('phone'))\n",
        "\n",
        "# in\n",
        "print('name' in a)\n",
        "print('email' in a)"
      ],
      "metadata": {
        "colab": {
          "base_uri": "https://localhost:8080/"
        },
        "id": "z7sWlMJeRWJ6",
        "outputId": "1f52b7db-f86b-481f-faaa-2afa8f41051b"
      },
      "execution_count": null,
      "outputs": [
        {
          "output_type": "stream",
          "name": "stdout",
          "text": [
            "10\n",
            "dict_keys(['name', 'phone', 'birth'])\n",
            "['name', 'phone', 'birth']\n",
            "dict_values(['kim', '01099993323', '1118'])\n",
            "dict_items([('name', 'kim'), ('phone', '01099993323'), ('birth', '1118')])\n",
            "01099993323\n",
            "True\n",
            "False\n"
          ]
        }
      ]
    },
    {
      "cell_type": "code",
      "source": [
        "# Q2\n",
        "a = {'A':90, 'B':80, 'C':70}\n",
        "result = a.pop('B')\n",
        "print(a)\n",
        "print(result)   # 딕셔너리도 pop 함수 사용 가능\n",
        "\n",
        "# Q3\n",
        "price = {'pork':25.3, 'beef':33.8, 'chicken':22.7}\n",
        "print('key_list =', list(price.keys()))\n",
        "print('val_list =', list(price.values()))\n",
        "print('item_list =', list(price.items()))"
      ],
      "metadata": {
        "colab": {
          "base_uri": "https://localhost:8080/"
        },
        "id": "AxTKLu1fYzLy",
        "outputId": "ffa4e787-772f-4459-b3f0-5458962c9c40"
      },
      "execution_count": null,
      "outputs": [
        {
          "output_type": "stream",
          "name": "stdout",
          "text": [
            "{'A': 90, 'C': 70}\n",
            "80\n",
            "key_list = ['pork', 'beef', 'chicken']\n",
            "val_list = [25.3, 33.8, 22.7]\n",
            "item_list = [('pork', 25.3), ('beef', 33.8), ('chicken', 22.7)]\n"
          ]
        }
      ]
    },
    {
      "cell_type": "markdown",
      "source": [
        "# Week 5\n",
        "### 집합(set), 불(bool), 조건문 if문"
      ],
      "metadata": {
        "id": "74FOWU8KczF_"
      }
    },
    {
      "cell_type": "code",
      "source": [
        "# 불 자료형\n",
        "# and : 논리곱, or : 논리합, & : 논리곱(비트연산자), | : 논리합 (비트연산자)\n",
        "\n",
        "print(True or True, True or False, False or True, False or False)\n",
        "print(True | True, True | False, False | True, False | False)\n",
        "print(True and True, True and False, False and True, False and False)\n",
        "print(True & True, True & False, False & True, False & False)\n",
        "\n",
        "print(not True, not False)\n",
        "print(int(True), int(False), float(True), float(False))\n",
        "\n",
        "print(bool(0), bool(1), bool(-3.14))\n",
        "print(bool(\"\"), bool(\" \"), bool(\"False\"))\n",
        "\n",
        "print(False + False, True + False, True + True, False * True, True * True)\n",
        "\n",
        "x = True or False and True   #and 연산후 or\n",
        "y = True or True and False   #and 연산후 or\n",
        "print(\"x =\",x,\"y =\",y)\n",
        "\n",
        "x = (True or False) and True\n",
        "y = (True or True) and False\n",
        "print(\"x =\",x,\"y =\",y)\n",
        "\n",
        "print(not False & False)  #1. False & False 2.not\n",
        "\n",
        "print(True and (not True)) #1. (  )  2.True and"
      ],
      "metadata": {
        "colab": {
          "base_uri": "https://localhost:8080/"
        },
        "id": "N9wN_JVzdaA_",
        "outputId": "3baafa90-ef42-418b-cabf-b4e9c2490b1e"
      },
      "execution_count": null,
      "outputs": [
        {
          "output_type": "stream",
          "name": "stdout",
          "text": [
            "True True True False\n",
            "True True True False\n",
            "True False False False\n",
            "True False False False\n",
            "False True\n",
            "1 0 1.0 0.0\n",
            "False True True\n",
            "False True True\n",
            "0 1 2 0 1\n",
            "x = True y = True\n",
            "x = True y = False\n",
            "True\n",
            "False\n"
          ]
        }
      ]
    },
    {
      "cell_type": "code",
      "source": [
        "# 조건문 if문\n",
        "\n",
        "# 비교연산자\n",
        "# 첫번째 예제\n",
        "money = int(input('돈 입력 : '))\n",
        "if money >= 3000:\n",
        "  print('택시를 타고 가라')\n",
        "else:\n",
        "  print('걸어가라')\n",
        "\n",
        "# 동전 던지기 게임\n",
        "import random\n",
        "print('동전 던지기 게입을 합니다.')\n",
        "coin = random.randrange(2)      # 0 또는 1\n",
        "print(coin)\n",
        "if coin == 1:\n",
        "  print('앞면입니다.')\n",
        "else:\n",
        "  print('뒷면입니다.')\n",
        "print('게임이 종료되었습니다.')"
      ],
      "metadata": {
        "colab": {
          "base_uri": "https://localhost:8080/"
        },
        "id": "c23pyqzEmfAO",
        "outputId": "dff9fe16-b282-4f82-c3f4-f074e57a64ed"
      },
      "execution_count": null,
      "outputs": [
        {
          "output_type": "stream",
          "name": "stdout",
          "text": [
            "돈 입력 : 4000\n",
            "택시를 타고 가라\n",
            "동전 던지기 게입을 합니다.\n",
            "0\n",
            "뒷면입니다.\n",
            "게임이 종료되었습니다.\n"
          ]
        }
      ]
    },
    {
      "cell_type": "code",
      "source": [
        "# 논리연산자 : 택시예제\n",
        "money = int(input('돈 입력 : '))\n",
        "card = True\n",
        "if money >= 3000 or card:\n",
        "    print('택시를 타고 가라')\n",
        "else:\n",
        "    print('걸어가라')\n",
        "\n",
        "# x in s : 택시예제\n",
        "pocket = ['paper', 'cellphone', 'money']\n",
        "if 'money' in pocket:\n",
        "    print('택시를 타고 가라')\n",
        "else:\n",
        "    print('걸어가라')\n",
        "\n",
        "# 조건부 표현식\n",
        "score = int(input('점수 입력 : '))\n",
        "if score >= 60:\n",
        "    message = 'success'\n",
        "else:\n",
        "    message = 'failure'\n",
        "print(message)\n",
        "\n",
        "message = 'success' if score >= 60 else 'failure'\n",
        "print(message)"
      ],
      "metadata": {
        "colab": {
          "base_uri": "https://localhost:8080/"
        },
        "id": "KniFHLUkg2RL",
        "outputId": "1c65ebbb-0438-4b2a-88b0-a202165f958f"
      },
      "execution_count": null,
      "outputs": [
        {
          "output_type": "stream",
          "name": "stdout",
          "text": [
            "돈 입력 : 6000\n",
            "택시를 타고 가라\n",
            "택시를 타고 가라\n",
            "점수 입력 : 50\n",
            "failure\n",
            "failure\n"
          ]
        }
      ]
    },
    {
      "cell_type": "code",
      "source": [
        "# 실습 예제2\n",
        "fruit = 'apple'\n",
        "if fruit == 'Apple':\n",
        "   fruit = 'Apple'\n",
        "elif fruit == 'fruit':\n",
        "     fruit = 'fruit'\n",
        "else:\n",
        "  fruit = fruit\n",
        "print(fruit)"
      ],
      "metadata": {
        "colab": {
          "base_uri": "https://localhost:8080/"
        },
        "id": "_giaSdarljUT",
        "outputId": "bad7d651-8b8d-42ec-e20b-f710f2424264"
      },
      "execution_count": null,
      "outputs": [
        {
          "output_type": "stream",
          "name": "stdout",
          "text": [
            "apple\n"
          ]
        }
      ]
    },
    {
      "cell_type": "code",
      "source": [
        "# 실습 예제3\n",
        "myage = int(input('Tell me your age? : '))\n",
        "if myage <= 30:\n",
        "    print('Welcome to the Club')\n",
        "else:\n",
        "    print('Oh! No. You are not accepted.')\n",
        "# 조건부 표현식\n",
        "print('Welcome to the Club') if myage <= 30 else print('Oh! No. You are not accepted.')"
      ],
      "metadata": {
        "colab": {
          "base_uri": "https://localhost:8080/"
        },
        "id": "SUb5dj8ulr5D",
        "outputId": "699c1a1d-6a9d-46bb-d397-302e045045cc"
      },
      "execution_count": null,
      "outputs": [
        {
          "output_type": "stream",
          "name": "stdout",
          "text": [
            "Tell me your age? : 31\n",
            "Oh! No. You are not accepted.\n",
            "Oh! No. You are not accepted.\n"
          ]
        }
      ]
    },
    {
      "cell_type": "markdown",
      "source": [
        "# Week 6\n",
        "### while문, for문"
      ],
      "metadata": {
        "id": "friX_Lg1l_rx"
      }
    },
    {
      "cell_type": "code",
      "source": [
        "# while문\n",
        "treeHit = 0\n",
        "while treeHit < 10:\n",
        "  treeHit = treeHit + 1\n",
        "  print('나무를 %d번 찍었습니다.' %treeHit)\n",
        "  if treeHit == 10:\n",
        "    print('나무 넘어갑니다.')"
      ],
      "metadata": {
        "colab": {
          "base_uri": "https://localhost:8080/"
        },
        "id": "jEYzJCx0mv7u",
        "outputId": "34f54dcd-cbfc-4df5-bcd1-8b7378bcabac"
      },
      "execution_count": null,
      "outputs": [
        {
          "output_type": "stream",
          "name": "stdout",
          "text": [
            "나무를 1번 찍었습니다.\n",
            "나무를 2번 찍었습니다.\n",
            "나무를 3번 찍었습니다.\n",
            "나무를 4번 찍었습니다.\n",
            "나무를 5번 찍었습니다.\n",
            "나무를 6번 찍었습니다.\n",
            "나무를 7번 찍었습니다.\n",
            "나무를 8번 찍었습니다.\n",
            "나무를 9번 찍었습니다.\n",
            "나무를 10번 찍었습니다.\n",
            "나무 넘어갑니다.\n"
          ]
        }
      ]
    },
    {
      "cell_type": "code",
      "source": [
        "# break문 : 커피자판기 예제\n",
        "coffee = 10\n",
        "money = 30\n",
        "while money:\n",
        "  print('커피 서비스')\n",
        "  coffee -= 1\n",
        "  print('남은 커피의 양은 %d개' %coffee)\n",
        "  if coffee == 0:\n",
        "    print('커피가 다 떨어졌습니다. 판매를 중지합니다.')\n",
        "    break"
      ],
      "metadata": {
        "colab": {
          "base_uri": "https://localhost:8080/"
        },
        "id": "nbcStLnvofR3",
        "outputId": "741534ea-730f-4ef6-9eb6-d6d6ee97e4e9"
      },
      "execution_count": null,
      "outputs": [
        {
          "output_type": "stream",
          "name": "stdout",
          "text": [
            "커피 서비스\n",
            "남은 커피의 양은 9개\n",
            "커피 서비스\n",
            "남은 커피의 양은 8개\n",
            "커피 서비스\n",
            "남은 커피의 양은 7개\n",
            "커피 서비스\n",
            "남은 커피의 양은 6개\n",
            "커피 서비스\n",
            "남은 커피의 양은 5개\n",
            "커피 서비스\n",
            "남은 커피의 양은 4개\n",
            "커피 서비스\n",
            "남은 커피의 양은 3개\n",
            "커피 서비스\n",
            "남은 커피의 양은 2개\n",
            "커피 서비스\n",
            "남은 커피의 양은 1개\n",
            "커피 서비스\n",
            "남은 커피의 양은 0개\n",
            "커피가 다 떨어졌습니다. 판매를 중지합니다.\n"
          ]
        }
      ]
    },
    {
      "cell_type": "code",
      "source": [
        "# 실제 동작 과정과 유사한 커피자판기 실습\n",
        "coffee = 10\n",
        "while True:\n",
        "  money = int(input('돈 입력 : '))\n",
        "  if money == 300:\n",
        "    print('커피를 줍니다.')\n",
        "    coffee -= 1\n",
        "  elif money > 300:\n",
        "    print('거스름돈 %d를 주고 커피를 줍니다.' %(money - 300))\n",
        "    coffee -= 1\n",
        "  else:\n",
        "    print('돈을 다시 돌려주고 커피를 주지 않습니다.')\n",
        "    print('남은 커피의 양은 %d개입니다.' %coffee)\n",
        "  if coffee == 0:\n",
        "     print('커피가 다 떨어졌습니다. 판매를 중지합니다.')\n",
        "     break"
      ],
      "metadata": {
        "colab": {
          "base_uri": "https://localhost:8080/"
        },
        "id": "j2zjBRNwmv3i",
        "outputId": "d32ba78f-73a7-4b76-9cee-f55a416e1121"
      },
      "execution_count": null,
      "outputs": [
        {
          "output_type": "stream",
          "name": "stdout",
          "text": [
            "돈 입력 : 500\n",
            "거스름돈 200를 주고 커피를 줍니다.\n",
            "돈 입력 : 600\n",
            "거스름돈 300를 주고 커피를 줍니다.\n",
            "돈 입력 : 700\n",
            "거스름돈 400를 주고 커피를 줍니다.\n",
            "돈 입력 : 100\n",
            "돈을 다시 돌려주고 커피를 주지 않습니다.\n",
            "남은 커피의 양은 7개입니다.\n",
            "돈 입력 : 1000\n",
            "거스름돈 700를 주고 커피를 줍니다.\n",
            "돈 입력 : 700\n",
            "거스름돈 400를 주고 커피를 줍니다.\n",
            "돈 입력 : 500\n",
            "거스름돈 200를 주고 커피를 줍니다.\n",
            "돈 입력 : 900\n",
            "거스름돈 600를 주고 커피를 줍니다.\n",
            "돈 입력 : 800\n",
            "거스름돈 500를 주고 커피를 줍니다.\n",
            "돈 입력 : 500\n",
            "거스름돈 200를 주고 커피를 줍니다.\n",
            "돈 입력 : 700\n",
            "거스름돈 400를 주고 커피를 줍니다.\n",
            "커피가 다 떨어졌습니다. 판매를 중지합니다.\n"
          ]
        }
      ]
    },
    {
      "cell_type": "code",
      "source": [
        "# 연습문제1\n",
        "a = 0       # 초기화\n",
        "sum = 0     # 초기화\n",
        "while a < 1000:\n",
        "  a = a + 1\n",
        "  if a % 3 == 0:\n",
        "    sum = sum + a\n",
        "print('1~1000까지 3의 배수의 합 :',sum)"
      ],
      "metadata": {
        "colab": {
          "base_uri": "https://localhost:8080/"
        },
        "id": "kShUlftrpDxs",
        "outputId": "c80d5c43-524c-44d3-8df6-8e2ee18cd6fc"
      },
      "execution_count": null,
      "outputs": [
        {
          "output_type": "stream",
          "name": "stdout",
          "text": [
            "1~1000까지 3의 배수의 합 : 166833\n"
          ]
        }
      ]
    },
    {
      "cell_type": "code",
      "source": [
        "# 연습문제2\n",
        "b = 0\n",
        "while b < 10:\n",
        "  b += 1\n",
        "  if b % 3 == 0:\n",
        "    continue\n",
        "  else:\n",
        "    print(b, end=' ')   # 가로출력 방법\n",
        "print()     # 줄바꿈"
      ],
      "metadata": {
        "colab": {
          "base_uri": "https://localhost:8080/"
        },
        "id": "10SA6elCpKca",
        "outputId": "ac60458a-2a3d-4e25-e121-6e587a5681bc"
      },
      "execution_count": null,
      "outputs": [
        {
          "output_type": "stream",
          "name": "stdout",
          "text": [
            "1 2 4 5 7 8 10 \n"
          ]
        }
      ]
    },
    {
      "cell_type": "code",
      "source": [
        "# 연습문제3\n",
        "while True:\n",
        "  line = input('>')\n",
        "  if line == 'quit' or line == 'exit':\n",
        "    break\n",
        "  else:\n",
        "     print(line)"
      ],
      "metadata": {
        "colab": {
          "base_uri": "https://localhost:8080/"
        },
        "id": "NsLzgwOIpfz2",
        "outputId": "6a7ca9d9-ceb2-434c-aae1-966db57a8e15"
      },
      "execution_count": null,
      "outputs": [
        {
          "name": "stdout",
          "output_type": "stream",
          "text": [
            ">hi\n",
            "hi\n",
            ">exit\n"
          ]
        }
      ]
    },
    {
      "cell_type": "code",
      "source": [
        "# 연습문제4 : 짝수인 인덱스 값의 합\n",
        "score_list = [5, 10, 15, 20, 25, 30]\n",
        "sum_score = 0\n",
        "i = 0\n",
        "while i < len(score_list):\n",
        "  if i % 2 == 0:\n",
        "    sum_score += score_list[i]\n",
        "  i += 1\n",
        "print(sum_score)"
      ],
      "metadata": {
        "colab": {
          "base_uri": "https://localhost:8080/"
        },
        "id": "wlyMquxZprPP",
        "outputId": "43f7e758-08c7-4419-d2b2-fbccbba41219"
      },
      "execution_count": null,
      "outputs": [
        {
          "output_type": "stream",
          "name": "stdout",
          "text": [
            "45\n"
          ]
        }
      ]
    },
    {
      "cell_type": "code",
      "source": [
        "# for문\n",
        "marks = [90,25,67,45,80]\n",
        "number = 0\n",
        "for mark in marks:\n",
        "    number += 1\n",
        "    if mark >= 60:\n",
        "        print('{0}번 학생은 합격입니다.'.format(number))\n",
        "    else:\n",
        "        print('{0}번 학생은 불합격입니다.'.format(number))\n",
        "\n",
        "# for문 & continue\n",
        "marks = [90,25,67,45,80]\n",
        "number = 0\n",
        "for mark in marks:\n",
        "    number += 1\n",
        "    if mark < 60:\n",
        "        continue    # 불합격이면 출력하지 않음\n",
        "    else:\n",
        "        print('{0}번 학생은 합격입니다.'.format(number))"
      ],
      "metadata": {
        "colab": {
          "base_uri": "https://localhost:8080/"
        },
        "id": "9KxY30-YuUG_",
        "outputId": "fef259d4-d447-452c-8b8f-f4aa4e780d69"
      },
      "execution_count": null,
      "outputs": [
        {
          "output_type": "stream",
          "name": "stdout",
          "text": [
            "1번 학생은 합격입니다.\n",
            "2번 학생은 불합격입니다.\n",
            "3번 학생은 합격입니다.\n",
            "4번 학생은 불합격입니다.\n",
            "5번 학생은 합격입니다.\n",
            "1번 학생은 합격입니다.\n",
            "3번 학생은 합격입니다.\n",
            "5번 학생은 합격입니다.\n"
          ]
        }
      ]
    },
    {
      "cell_type": "code",
      "source": [
        "# for문 & range함수\n",
        "add = 0\n",
        "for i in range(1,11):\n",
        "    add += i\n",
        "print('1부터 10까지 총합 :', add)\n",
        "\n",
        "# range 함수 사용 예제\n",
        "marks = [90,25,67,45,80]\n",
        "for number in range(len(marks)):\n",
        "    if marks[number] < 60:\n",
        "        continue\n",
        "    else:\n",
        "        print('%d번 학생 축하합니다. 합격입니다.' %(number+1))  # number+1 주의!\n",
        "\n",
        "# 터틀그래픽 : for, range로 회오리 그리기 → 파이참으로 실행\n",
        "'''\n",
        "import turtle as t\n",
        "t.shape('turtle')\n",
        "t.color('blue')\n",
        "t.speed(0)\n",
        "angle = 91\n",
        "for x in range(200):    # 사각형이 커지면서 회전\n",
        "    t.fd(x)\n",
        "    t.left(angle)\n",
        "t.hideturtle()\n",
        "t.exitonclick()\n",
        "'''"
      ],
      "metadata": {
        "colab": {
          "base_uri": "https://localhost:8080/",
          "height": 126
        },
        "id": "N5ydxaBQv-ar",
        "outputId": "116941a2-3837-4610-9bfe-f12fca578aa3"
      },
      "execution_count": null,
      "outputs": [
        {
          "output_type": "stream",
          "name": "stdout",
          "text": [
            "1부터 10까지 총합 : 55\n",
            "1번 학생 축하합니다. 합격입니다.\n",
            "3번 학생 축하합니다. 합격입니다.\n",
            "5번 학생 축하합니다. 합격입니다.\n"
          ]
        },
        {
          "output_type": "execute_result",
          "data": {
            "text/plain": [
              "\"\\nimport turtle as t\\nt.shape('turtle')\\nt.color('blue')\\nt.speed(0)\\nangle = 91\\nfor x in range(200):    # 사각형이 커지면서 회전\\n    t.fd(x)\\n    t.left(angle)\\nt.hideturtle()\\nt.exitonclick()\\n\""
            ],
            "application/vnd.google.colaboratory.intrinsic+json": {
              "type": "string"
            }
          },
          "metadata": {},
          "execution_count": 28
        }
      ]
    },
    {
      "cell_type": "code",
      "source": [
        "# 구구단 출력 : 이중 중첩 for 루프 사용\n",
        "for i in range(2, 10):\n",
        "    for j in range(1, 10):\n",
        "        print(i*j, end=' ')   # 가로 출력, 한칸 띄기\n",
        "    print('')"
      ],
      "metadata": {
        "colab": {
          "base_uri": "https://localhost:8080/"
        },
        "id": "5Lq7GVb4wAcf",
        "outputId": "733803d7-f3d7-4b0b-fad0-8fdd5d88bffb"
      },
      "execution_count": null,
      "outputs": [
        {
          "output_type": "stream",
          "name": "stdout",
          "text": [
            "2 4 6 8 10 12 14 16 18 \n",
            "3 6 9 12 15 18 21 24 27 \n",
            "4 8 12 16 20 24 28 32 36 \n",
            "5 10 15 20 25 30 35 40 45 \n",
            "6 12 18 24 30 36 42 48 54 \n",
            "7 14 21 28 35 42 49 56 63 \n",
            "8 16 24 32 40 48 56 64 72 \n",
            "9 18 27 36 45 54 63 72 81 \n"
          ]
        }
      ]
    },
    {
      "cell_type": "code",
      "source": [
        "# 리스트 내포 예제\n",
        "a = [1,2,3,4]\n",
        "result = []\n",
        "for num in a:\n",
        "    result.append(num*3)\n",
        "print(result)   # 4 이후엔 거짓이 되어 프린트문으로\n",
        "\n",
        "a = [1,2,3,4]\n",
        "result = [num*3 for num in a]\n",
        "print(result)\n",
        "\n",
        "# 짝수에만 3 곱하기\n",
        "result = [num*3 for num in a if num % 2 == 0]\n",
        "print(result)"
      ],
      "metadata": {
        "colab": {
          "base_uri": "https://localhost:8080/"
        },
        "id": "vFCXPUOvwi-q",
        "outputId": "69d15db0-da70-43d6-e9af-d66535f1a003"
      },
      "execution_count": null,
      "outputs": [
        {
          "output_type": "stream",
          "name": "stdout",
          "text": [
            "[3, 6, 9, 12]\n",
            "[3, 6, 9, 12]\n",
            "[6, 12]\n"
          ]
        }
      ]
    },
    {
      "cell_type": "markdown",
      "source": [
        "# Week 7\n",
        "### 함수, 파일 읽고쓰기"
      ],
      "metadata": {
        "id": "vpuSYQzK2QkG"
      }
    },
    {
      "cell_type": "code",
      "source": [
        "# 함수의 매개변수 *args\n",
        "def add_many(*args):\n",
        "    result = 0  # 변수 result 초기화\n",
        "    for i in args:\n",
        "        result += i\n",
        "    return result\n",
        "    \n",
        "result = add_many(1,2,3)\n",
        "print(result)\n",
        "result = add_many(1,2,3,4,5,6,7,8,9,10)\n",
        "print(result)"
      ],
      "metadata": {
        "colab": {
          "base_uri": "https://localhost:8080/"
        },
        "id": "UUmJZClf2P6b",
        "outputId": "fd11a9cf-d208-45df-f36c-c0086a2c096a"
      },
      "execution_count": null,
      "outputs": [
        {
          "output_type": "stream",
          "name": "stdout",
          "text": [
            "6\n",
            "55\n"
          ]
        }
      ]
    },
    {
      "cell_type": "code",
      "source": [
        "# 매개변수가 있는 *args, add_mul()\n",
        "def add_mul(choice, *args):\n",
        "    if choice == 'add':\n",
        "      result = 0\n",
        "      for i in args:\n",
        "        result += i\n",
        "    elif choice == 'mul':\n",
        "      result = 1\n",
        "      for i in args:\n",
        "        result *= i\n",
        "    return result\n",
        "    \n",
        "result = add_mul('add', 1,2,3,4,5)\n",
        "print('add =', result)\n",
        "result = add_mul('mul', 1,2,3,4,5)\n",
        "print('mul =', result)"
      ],
      "metadata": {
        "colab": {
          "base_uri": "https://localhost:8080/"
        },
        "id": "1CU4vID52dyw",
        "outputId": "d991c6e0-25c6-4bf8-d8e2-c888f06efb64"
      },
      "execution_count": null,
      "outputs": [
        {
          "output_type": "stream",
          "name": "stdout",
          "text": [
            "add = 15\n",
            "mul = 120\n"
          ]
        }
      ]
    },
    {
      "cell_type": "code",
      "source": [
        "# **kwargs : 딕셔너리 자료형으로 만들어줌\n",
        "def p_kwargs(**kwargs):\n",
        "    print(kwargs)\n",
        "p_kwargs(a=1)\n",
        "p_kwargs(name='눈송이', age=24)\n",
        "\n",
        "# 함수 빠져나올때 return\n",
        "def say_nick(nick):\n",
        "    if nick == '바보':\n",
        "      return\n",
        "    print('나의 별명은 %s입니다.' %nick)\n",
        "say_nick('야호')\n",
        "say_nick('바보')"
      ],
      "metadata": {
        "colab": {
          "base_uri": "https://localhost:8080/"
        },
        "id": "A0zX_Unw2rEX",
        "outputId": "65c39274-58e7-4f42-b4b2-0635e950cb1e"
      },
      "execution_count": null,
      "outputs": [
        {
          "output_type": "stream",
          "name": "stdout",
          "text": [
            "{'a': 1}\n",
            "{'name': '눈송이', 'age': 24}\n",
            "나의 별명은 야호입니다.\n"
          ]
        }
      ]
    },
    {
      "cell_type": "code",
      "source": [
        "# 전역변수, 지역변수 이해\n",
        "a = 1\n",
        "def vartest1(a):\n",
        "    a += 1\n",
        "vartest1(a)  # 함수 안의 a : 아무것도 없음\n",
        "print(a)     # 함수 밖의 a\n",
        "\n",
        "#  함수 밖 변수 변경 : return\n",
        "a = 1\n",
        "def vartest2(a):\n",
        "    a += 1\n",
        "    return(a)\n",
        "a = vartest2(a)\n",
        "print(a)\n",
        "\n",
        "# 함수 밖 변수 변경 : global\n",
        "a = 1\n",
        "def vartest3():\n",
        "  global a\n",
        "  a += 1\n",
        "vartest3()\n",
        "print(a)"
      ],
      "metadata": {
        "colab": {
          "base_uri": "https://localhost:8080/"
        },
        "id": "lH48IZsx2xe8",
        "outputId": "a7240c80-1330-4408-c0ef-01a2952f612f"
      },
      "execution_count": null,
      "outputs": [
        {
          "output_type": "stream",
          "name": "stdout",
          "text": [
            "1\n",
            "2\n",
            "2\n"
          ]
        }
      ]
    },
    {
      "cell_type": "code",
      "source": [
        "# lambda\n",
        "def add(a,b):\n",
        "    return a + b\n",
        "result = add(3,4)\n",
        "print(result)\n",
        "\n",
        "add = lambda a,b : a+b\n",
        "result = add(3,4)\n",
        "print(result)"
      ],
      "metadata": {
        "colab": {
          "base_uri": "https://localhost:8080/"
        },
        "id": "Q14GJPhW3hMe",
        "outputId": "45573e5c-bd80-44b2-925c-da18ce3b5adc"
      },
      "execution_count": null,
      "outputs": [
        {
          "output_type": "stream",
          "name": "stdout",
          "text": [
            "7\n",
            "7\n"
          ]
        }
      ]
    },
    {
      "cell_type": "code",
      "source": [
        "# 실습문제\n",
        "# 1번\n",
        "def print_school(name, school):\n",
        "    print('이름:',name)\n",
        "    print('학교:',school)\n",
        "print_school('눈송이', '숙명여자대학교')"
      ],
      "metadata": {
        "colab": {
          "base_uri": "https://localhost:8080/"
        },
        "id": "fY83IA-n4E34",
        "outputId": "3e4802f3-8ee5-43bf-cf77-e8e473905457"
      },
      "execution_count": null,
      "outputs": [
        {
          "output_type": "stream",
          "name": "stdout",
          "text": [
            "이름: 눈송이\n",
            "학교: 숙명여자대학교\n"
          ]
        }
      ]
    },
    {
      "cell_type": "code",
      "source": [
        "# 2번\n",
        "def get_sum(start, end):\n",
        "    sum = 0\n",
        "    for i in range(start,end):\n",
        "        sum += i\n",
        "    return(sum)\n",
        "\n",
        "print('start에서 end까지의 합:', get_sum(1,10))\n",
        "print('start에서 end까지의 합:', get_sum(1,1000))"
      ],
      "metadata": {
        "colab": {
          "base_uri": "https://localhost:8080/"
        },
        "id": "HEydXgBH5XjA",
        "outputId": "ae10c267-48d3-42a1-d508-66b5d0e846e9"
      },
      "execution_count": null,
      "outputs": [
        {
          "output_type": "stream",
          "name": "stdout",
          "text": [
            "start에서 end까지의 합: 45\n",
            "start에서 end까지의 합: 499500\n"
          ]
        }
      ]
    },
    {
      "cell_type": "code",
      "source": [
        "# 3번\n",
        "def get_square(a,b,c):\n",
        "    return a**2, b**2, c**2\n",
        "a_sq, b_sq, c_sq = get_square(2, 5, 7)\n",
        "print('2의제곱:',a_sq, ', 5의제곱:',b_sq, ', 7의제곱:',c_sq)"
      ],
      "metadata": {
        "colab": {
          "base_uri": "https://localhost:8080/"
        },
        "id": "4l5eB_SR5dFs",
        "outputId": "e1dbf741-4693-48a8-b32c-39df285f614f"
      },
      "execution_count": null,
      "outputs": [
        {
          "output_type": "stream",
          "name": "stdout",
          "text": [
            "2의제곱: 4 , 5의제곱: 25 , 7의제곱: 49\n"
          ]
        }
      ]
    },
    {
      "cell_type": "code",
      "source": [
        "# random 가위바위보 맞추기\n",
        "import random\n",
        "computer = random.randint(0,2)\n",
        "mine = input('가위,바위,보 중 하나를 입력하세요:')\n",
        "gbbGames = ['가위','바위','보']\n",
        "if mine == gbbGames[computer]:\n",
        "  print('맞혔습니다.')\n",
        "else:\n",
        "  print('틀렸습니다.')\n",
        "print('저는 <',gbbGames[computer],'> 였습니다.')"
      ],
      "metadata": {
        "colab": {
          "base_uri": "https://localhost:8080/"
        },
        "id": "HVEDYQS05njl",
        "outputId": "5c52c35b-09ef-4450-d9a5-2dbcd4ab52d4"
      },
      "execution_count": null,
      "outputs": [
        {
          "output_type": "stream",
          "name": "stdout",
          "text": [
            "가위,바위,보 중 하나를 입력하세요:보\n",
            "틀렸습니다.\n",
            "저는 < 가위 > 였습니다.\n"
          ]
        }
      ]
    },
    {
      "cell_type": "code",
      "source": [
        "# 파일 읽고 쓰기 : 파이참"
      ],
      "metadata": {
        "id": "9Yjybdvd78J9"
      },
      "execution_count": null,
      "outputs": []
    },
    {
      "cell_type": "markdown",
      "source": [
        "\n",
        "\n",
        "```\n",
        "# 파일 생성하기\n",
        "f = open('C:\\doit\\새파일.txt','w')\n",
        "for i in range(1,11):\n",
        "    data = ('%d번째 줄입니다. \\n' %i)\n",
        "    f.write(data)   # data를 파일객체 f에 넣기\n",
        "    print('%d번째 줄입니다.' %i)\n",
        "f.close()\n",
        "\n",
        "# 파일 읽기 : f.readline()\n",
        "f = open('C:\\doit\\새파일.txt', 'r')\n",
        "while True:\n",
        "    line = f.readline() # readline()으로 읽기\n",
        "    if not line:\n",
        "        break\n",
        "    print(line.strip('\\n'))\n",
        "f.close()\n",
        "\n",
        "while True:\n",
        "    data = input('입력:')\n",
        "    if not data:\n",
        "        break\n",
        "    print(data)\n",
        "```\n",
        "\n"
      ],
      "metadata": {
        "id": "g9iVFVqz7y2Y"
      }
    },
    {
      "cell_type": "markdown",
      "source": [
        "\n",
        "\n",
        "```\n",
        "# readlines() 함수\n",
        "f = open('C:\\doit\\새파일.txt','r')\n",
        "lines = f.readlines()   # 모두 읽어서 리스트 형태로 돌려줌\n",
        "for line in lines:\n",
        "    print(line.strip('\\n'))\n",
        "f.close()\n",
        "\n",
        "# read() 함수\n",
        "f = open('C:\\doit\\새파일.txt','r')\n",
        "data = f.read()     # 파일 내용을 전체로 읽음\n",
        "print(data)\n",
        "f.close()\n",
        "\n",
        "# 파일에 새로운 내용 추가하기 : 'a' 모드\n",
        "f = open('C:\\doit\\새파일.txt','a')     # append\n",
        "for i in range(11,20):\n",
        "    data = '%d번째 줄 입니다.\\n'%i\n",
        "    f.write(data)\n",
        "f.close()\n",
        "\n",
        "# with문 함께 사용 : close() 없는 문\n",
        "f = open('C:\\doit/foo.txt','w')\n",
        "f.write('Life is too short, you need python')\n",
        "f.close()\n",
        "\n",
        "with open('C:\\doit/foo2.txt','w') as f:\n",
        "    f.write('Life is too short, you need python')\n",
        "# with 블록을 벗어나면 열린 파일객체 f가 자동으로 close\n",
        "```\n",
        "\n"
      ],
      "metadata": {
        "id": "-9SDU97Y7_hn"
      }
    },
    {
      "cell_type": "markdown",
      "source": [
        "\n",
        "\n",
        "```\n",
        "# yesterday.txt 파일\n",
        "f = open('C:/doit/yesterday.txt','r')\n",
        "data = f.readline()\n",
        "print(data)\n",
        "f.close()\n",
        "\n",
        "f = open('C:/doit/yesterday.txt','r')\n",
        "data = f.read()\n",
        "print(data)\n",
        "f.close()\n",
        "```\n",
        "\n"
      ],
      "metadata": {
        "id": "6BZdE91U8OWU"
      }
    },
    {
      "cell_type": "markdown",
      "source": [
        "# Quiz 1"
      ],
      "metadata": {
        "id": "q7EDl4tyXP9A"
      }
    },
    {
      "cell_type": "code",
      "source": [
        "# Quiz 1 실습문제 코딩하기\n",
        "\n",
        "# 실습문제1\n",
        "americano_price = 2000\n",
        "cafelatte_price = 3000\n",
        "capucino_price = 3500\n",
        "americanos = int(input('아메리카노 판매 개수: ',))\n",
        "cafelattes = int(input('카페라테 판매 개수: ',))\n",
        "capucinos = int(input('카푸치노 판매 개수: ',))\n",
        "sales = americanos*americano_price + cafelattes*cafelatte_price + capucinos*capucino_price\n",
        "print('총 매출은 ', sales, ' 원 입니다.')"
      ],
      "metadata": {
        "colab": {
          "base_uri": "https://localhost:8080/"
        },
        "id": "c6kRaLtWXRKK",
        "outputId": "7ec0e524-6856-44d3-de4d-5b4a9a1c23c2"
      },
      "execution_count": null,
      "outputs": [
        {
          "output_type": "stream",
          "name": "stdout",
          "text": [
            "아메리카노 판매 개수: 10\n",
            "카페라테 판매 개수: 20\n",
            "카푸치노 판매 개수: 30\n",
            "총 매출은  185000  원 입니다.\n"
          ]
        }
      ]
    },
    {
      "cell_type": "code",
      "source": [
        "# 실습문제2\n",
        "weight = float(input('몸무게를 kg 단위로 입력: '),)\n",
        "height = float(input('키를 미터 단위로 입력: ',))\n",
        "BMI = weight / height**2\n",
        "print('당신의 BMI= %.1f'%BMI)"
      ],
      "metadata": {
        "colab": {
          "base_uri": "https://localhost:8080/"
        },
        "id": "_GRRnlDy9QLE",
        "outputId": "f83c4b6a-503d-431d-b321-06dd5c52d8e6"
      },
      "execution_count": null,
      "outputs": [
        {
          "output_type": "stream",
          "name": "stdout",
          "text": [
            "몸무게를 kg 단위로 입력: 85\n",
            "키를 미터 단위로 입력: 1.75\n",
            "당신의 BMI= 27.8\n"
          ]
        }
      ]
    },
    {
      "cell_type": "code",
      "source": [
        "# 실습문제3\n",
        "money = int(input('투입한 돈: '),)\n",
        "price = int(input('물건 값: '),)\n",
        "change = money - price\n",
        "print('거스름돈: {0}' .format(change))\n",
        "\n",
        "coin500 = change//500\n",
        "change = change % 500\n",
        "coin100 = change//100\n",
        "print('500원 동전개수: {0}' .format(coin500))\n",
        "print('100원 동전개수: {0}' .format(coin100))"
      ],
      "metadata": {
        "colab": {
          "base_uri": "https://localhost:8080/"
        },
        "id": "to-ivHrF9THc",
        "outputId": "7eaad714-f6c4-425f-faa7-129a26dc7de2"
      },
      "execution_count": null,
      "outputs": [
        {
          "output_type": "stream",
          "name": "stdout",
          "text": [
            "투입한 돈: 5000\n",
            "물건 값: 2600\n",
            "거스름돈: 2400\n",
            "500원 동전개수: 4\n",
            "100원 동전개수: 4\n"
          ]
        }
      ]
    },
    {
      "cell_type": "code",
      "source": [
        "# 실습문제4\n",
        "price = int(input('기계값 입력: '),)\n",
        "used = int(input('사용 개월 수: '),)\n",
        "mpay = float(price/24)\n",
        "left = 24 - used\n",
        "charge = mpay*left\n",
        "\n",
        "print('매달 내는 돈: {0} 원' .format(mpay))\n",
        "print('남은 약정기간: {0} 개월' .format(left))\n",
        "print('위약금: {0} 원' .format(charge))"
      ],
      "metadata": {
        "colab": {
          "base_uri": "https://localhost:8080/"
        },
        "id": "JBfK1hUM9VLm",
        "outputId": "524be20c-3786-45fd-dc0c-3fe90eb39766"
      },
      "execution_count": null,
      "outputs": [
        {
          "output_type": "stream",
          "name": "stdout",
          "text": [
            "기계값 입력: 1150000\n",
            "사용 개월 수: 18\n",
            "매달 내는 돈: 47916.666666666664 원\n",
            "남은 약정기간: 6 개월\n",
            "위약금: 287500.0 원\n"
          ]
        }
      ]
    },
    {
      "cell_type": "code",
      "source": [
        "# 실습문제5\n",
        "person = int(input('MT 인원수: '),)\n",
        "amount = int(input('1인당 생수 개수: '),)\n",
        "total_amount = person*amount\n",
        "print('필요한 생수 개수: {0}' .format(total_amount))\n",
        "\n",
        "pack = total_amount // 15\n",
        "pack_price = pack*10000\n",
        "bottle = total_amount % 15\n",
        "bottle_price = bottle*900\n",
        "total = pack_price + bottle_price\n",
        "\n",
        "print('생수 팩 구매량: {0} , 구입가격: {1} 원' .format(pack,pack_price))\n",
        "print('생수 낱개 구매량: {0} , 가격: {1} 원' .format(bottle,bottle_price))\n",
        "print('생수 총 구매 비용: {0} 원' .format(total))"
      ],
      "metadata": {
        "colab": {
          "base_uri": "https://localhost:8080/"
        },
        "id": "akCWbCHs9WUA",
        "outputId": "a78439a7-384d-49a3-bd0a-8ec940e585f7"
      },
      "execution_count": null,
      "outputs": [
        {
          "output_type": "stream",
          "name": "stdout",
          "text": [
            "MT 인원수: 57\n",
            "1인당 생수 개수: 3\n",
            "필요한 생수 개수: 171\n",
            "생수 팩 구매량: 11 , 구입가격: 110000 원\n",
            "생수 낱개 구매량: 6 , 가격: 5400 원\n",
            "생수 총 구매 비용: 115400 원\n"
          ]
        }
      ]
    }
  ]
}