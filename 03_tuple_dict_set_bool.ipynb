{
  "nbformat": 4,
  "nbformat_minor": 0,
  "metadata": {
    "colab": {
      "provenance": [],
      "authorship_tag": "ABX9TyMo0k0nVm/hcvakJ9ixssh0",
      "include_colab_link": true
    },
    "kernelspec": {
      "name": "python3",
      "display_name": "Python 3"
    },
    "language_info": {
      "name": "python"
    }
  },
  "cells": [
    {
      "cell_type": "markdown",
      "metadata": {
        "id": "view-in-github",
        "colab_type": "text"
      },
      "source": [
        "<a href=\"https://colab.research.google.com/github/yerinsally/2023_PythonDataVis/blob/main/03_tuple_dict_set_bool.ipynb\" target=\"_parent\"><img src=\"https://colab.research.google.com/assets/colab-badge.svg\" alt=\"Open In Colab\"/></a>"
      ]
    },
    {
      "cell_type": "markdown",
      "source": [
        "# 튜플 자료형\n",
        "튜플(tuple)은 몇 가지 점을 제외하곤 리스트와 거의 비슷하며 리스트와 다른 점은 다음과 같다.\n",
        "\n",
        "- 리스트는 [ ]으로 둘러싸지만 튜플은 ( )으로 둘러싼다.\n",
        "- 리스트는 요소 값의 생성, 삭제, 수정이 가능하지만 튜플은 요소 값을 바꿀 수 없다."
      ],
      "metadata": {
        "id": "5A-QuY6FqZSY"
      }
    },
    {
      "cell_type": "code",
      "execution_count": null,
      "metadata": {
        "id": "A3JqEpnmqRzg"
      },
      "outputs": [],
      "source": [
        "t1 = ()\n",
        "t2 = (1,)\n",
        "t3 = (1,2,3)\n",
        "t4 = 1,2,3\n",
        "t5 = ('a','b',('ab','cd'))"
      ]
    },
    {
      "cell_type": "markdown",
      "source": [
        "튜플 요솟값을 삭제하거나 변경하려하면 Error"
      ],
      "metadata": {
        "id": "l53KpKkmIIAf"
      }
    },
    {
      "cell_type": "markdown",
      "source": [
        "## 튜플 다루기"
      ],
      "metadata": {
        "id": "3JxLud3HIUNK"
      }
    },
    {
      "cell_type": "code",
      "source": [
        "# 인덱싱\n",
        "t1 = (1,2,'a','b')\n",
        "print(t1[0])\n",
        "print(t1[3])\n",
        "\n",
        "# 슬라이싱\n",
        "print(t1[1:])\n",
        "\n",
        "# 튜플 더하기\n",
        "t2 = (3,4)\n",
        "t3 = t1 + t2\n",
        "print(t3)\n",
        "\n",
        "# 튜플 곱하기\n",
        "t3 = t2 * 3\n",
        "print(t3)\n",
        "\n",
        "# 튜플 길이 구하기\n",
        "print(len(t1))"
      ],
      "metadata": {
        "colab": {
          "base_uri": "https://localhost:8080/"
        },
        "id": "EvKSj7EcIWl0",
        "outputId": "d4e36da9-b0c5-40ff-8cf1-656c656e8c73"
      },
      "execution_count": null,
      "outputs": [
        {
          "output_type": "stream",
          "name": "stdout",
          "text": [
            "1\n",
            "b\n",
            "(2, 'a', 'b')\n",
            "(1, 2, 'a', 'b', 3, 4)\n",
            "(3, 4, 3, 4, 3, 4)\n",
            "4\n"
          ]
        }
      ]
    },
    {
      "cell_type": "markdown",
      "source": [
        "# 딕셔너리 자료형\n",
        "기본 딕셔너리의 모습\n",
        "\n",
        "{Key1 : Value1, Key2 : Value2, Key3 : Value3, ...}\n",
        "\n",
        "- Key와 Value의 쌍 여러 개가 { }로 둘러싸여 있다. \n",
        "- 각각의 요소는 Key : Value 형태로 이루어져 있고 쉼표(,)로 구분되어 있다."
      ],
      "metadata": {
        "id": "J9Bb-nQIxipL"
      }
    },
    {
      "cell_type": "code",
      "source": [
        "dic = {'name':'pey', 'phone':'010-9999-1234', 'birth': '1118'}\n",
        "dic"
      ],
      "metadata": {
        "colab": {
          "base_uri": "https://localhost:8080/"
        },
        "id": "Ouv1cu9FxkJy",
        "outputId": "ba6cad54-d2c5-49a5-8eee-cb92f30cb03d"
      },
      "execution_count": null,
      "outputs": [
        {
          "output_type": "execute_result",
          "data": {
            "text/plain": [
              "{'name': 'pey', 'phone': '010-9999-1234', 'birth': '1118'}"
            ]
          },
          "metadata": {},
          "execution_count": 4
        }
      ]
    },
    {
      "cell_type": "code",
      "source": [
        "# 딕셔너리 쌍 추가 및 삭제\n",
        "a = {1:'a'}\n",
        "a[2] = 'b'\n",
        "print(a)\n",
        "\n",
        "a['name'] = 'pay'\n",
        "print(a)\n",
        "\n",
        "a[3] = [1,2,3]\n",
        "print(a)"
      ],
      "metadata": {
        "colab": {
          "base_uri": "https://localhost:8080/"
        },
        "id": "kyQSGVtYx4wU",
        "outputId": "7b04ecbd-d071-4527-b4c0-b8d177db2007"
      },
      "execution_count": null,
      "outputs": [
        {
          "output_type": "stream",
          "name": "stdout",
          "text": [
            "{1: 'a', 2: 'b'}\n",
            "{1: 'a', 2: 'b', 'name': 'pay'}\n",
            "{1: 'a', 2: 'b', 'name': 'pay', 3: [1, 2, 3]}\n"
          ]
        }
      ]
    },
    {
      "cell_type": "code",
      "source": [
        "del a[1]\n",
        "a"
      ],
      "metadata": {
        "colab": {
          "base_uri": "https://localhost:8080/"
        },
        "id": "67470aBdykEu",
        "outputId": "8f1ac92d-eb9c-4baf-9235-3966c1bed71e"
      },
      "execution_count": null,
      "outputs": [
        {
          "output_type": "execute_result",
          "data": {
            "text/plain": [
              "{2: 'b', 'name': 'pay', 3: [1, 2, 3]}"
            ]
          },
          "metadata": {},
          "execution_count": 7
        }
      ]
    },
    {
      "cell_type": "markdown",
      "source": [
        "## 딕셔너리 활용하기"
      ],
      "metadata": {
        "id": "POQRWM8AMjX3"
      }
    },
    {
      "cell_type": "code",
      "source": [
        "# 딕셔너리에서 key 사용해 value 얻기\n",
        "print(dic['name'])\n",
        "print(dic['phone'])\n",
        "print(dic['birth'])\n",
        "\n",
        "grade = {'pey': 10, 'julliet': 99}\n",
        "print(grade['pey'])"
      ],
      "metadata": {
        "colab": {
          "base_uri": "https://localhost:8080/"
        },
        "id": "_uJMny7Uyo2V",
        "outputId": "db463705-ea92-4a71-d6f4-6a9e8e281734"
      },
      "execution_count": null,
      "outputs": [
        {
          "output_type": "stream",
          "name": "stdout",
          "text": [
            "pey\n",
            "010-9999-1234\n",
            "1118\n",
            "10\n"
          ]
        }
      ]
    },
    {
      "cell_type": "code",
      "source": [
        "# 중복\n",
        "a = {1:'a', 1:'b'}\n",
        "a"
      ],
      "metadata": {
        "colab": {
          "base_uri": "https://localhost:8080/"
        },
        "id": "osxARp52zTNM",
        "outputId": "f8ed213c-e77e-406c-ca3f-31d7f3380806"
      },
      "execution_count": null,
      "outputs": [
        {
          "output_type": "execute_result",
          "data": {
            "text/plain": [
              "{1: 'b'}"
            ]
          },
          "metadata": {},
          "execution_count": 9
        }
      ]
    },
    {
      "cell_type": "markdown",
      "source": [
        "딕셔너리에서 Key는 고유한 값이므로 중복되는 Key 값을 설정해 놓으면 하나를 제외한 나머지 것들이 모두 무시됨"
      ],
      "metadata": {
        "id": "FR0ry2DMM-J1"
      }
    },
    {
      "cell_type": "markdown",
      "source": [
        "## 딕셔너리 관련 함수"
      ],
      "metadata": {
        "id": "2G06CTdBNCwV"
      }
    },
    {
      "cell_type": "code",
      "source": [
        "# key 리스트 만들기 : keys\n",
        "a = {'name': 'pey', 'phone': '010-9999-1234', 'birth': '1118'}\n",
        "print(a.keys())\n",
        "\n",
        "for k in a.keys():\n",
        "  print(k)\n",
        "\n",
        "# 리스트로 변환\n",
        "list(a.keys())"
      ],
      "metadata": {
        "colab": {
          "base_uri": "https://localhost:8080/"
        },
        "id": "NvlTcsrVziOo",
        "outputId": "e92cbe36-c27e-4877-cf36-c5cd6b1730b9"
      },
      "execution_count": null,
      "outputs": [
        {
          "output_type": "stream",
          "name": "stdout",
          "text": [
            "dict_keys(['name', 'phone', 'birth'])\n",
            "name\n",
            "phone\n",
            "birth\n"
          ]
        },
        {
          "output_type": "execute_result",
          "data": {
            "text/plain": [
              "['name', 'phone', 'birth']"
            ]
          },
          "metadata": {},
          "execution_count": 14
        }
      ]
    },
    {
      "cell_type": "code",
      "source": [
        "# value 리스트 만들기 : values\n",
        "print(a.values())\n",
        "\n",
        "# key, value 쌍 얻기 : items\n",
        "print(a.items())\n",
        "\n",
        "# key:value 쌍 모두 지우기 : clear\n",
        "a.clear()\n",
        "print(a)\n",
        "\n",
        "# key로 value 얻기 : get\n",
        "a = {'name': 'pey', 'phone': '010-9999-1234', 'birth': '1118'}\n",
        "print(a.get('name'))\n",
        "print(a.get('nokey'))\n",
        "\n",
        "# 해당 key가 딕셔너리 안에 있는지 조사하기 : in\n",
        "print('name' in a)\n",
        "print('email' in a)"
      ],
      "metadata": {
        "colab": {
          "base_uri": "https://localhost:8080/"
        },
        "id": "unuAwn0fz8Ra",
        "outputId": "49cdff79-d491-403e-d266-6f138a13f96f"
      },
      "execution_count": null,
      "outputs": [
        {
          "output_type": "stream",
          "name": "stdout",
          "text": [
            "dict_values(['pey', '010-9999-1234', '1118'])\n",
            "dict_items([('name', 'pey'), ('phone', '010-9999-1234'), ('birth', '1118')])\n",
            "{}\n",
            "pey\n",
            "None\n",
            "True\n",
            "False\n"
          ]
        }
      ]
    },
    {
      "cell_type": "markdown",
      "source": [
        "# 집합 자료형\n",
        "- 중복을 허용하지 않는다\n",
        "- 순서가 없다(Unordered)"
      ],
      "metadata": {
        "id": "vgZEUa9q3T_2"
      }
    },
    {
      "cell_type": "code",
      "source": [
        "t1 = [1,2,3,4,5,4,6,3,7]\n",
        "t1"
      ],
      "metadata": {
        "colab": {
          "base_uri": "https://localhost:8080/"
        },
        "id": "QdC8qYF_24-0",
        "outputId": "1a31cab8-3538-4b64-c953-0b5231c74dd7"
      },
      "execution_count": null,
      "outputs": [
        {
          "output_type": "execute_result",
          "data": {
            "text/plain": [
              "[1, 2, 3, 4, 5, 4, 6, 3, 7]"
            ]
          },
          "metadata": {},
          "execution_count": 21
        }
      ]
    },
    {
      "cell_type": "code",
      "source": [
        "# 집합은 중복 허용 안함\n",
        "s1 = set([1,2,3,4,5,4,6,3,7])\n",
        "s1"
      ],
      "metadata": {
        "colab": {
          "base_uri": "https://localhost:8080/"
        },
        "id": "cXt1POCU2-xA",
        "outputId": "a366b678-bf1f-4187-9194-3c60d403e289"
      },
      "execution_count": null,
      "outputs": [
        {
          "output_type": "execute_result",
          "data": {
            "text/plain": [
              "{1, 2, 3, 4, 5, 6, 7}"
            ]
          },
          "metadata": {},
          "execution_count": 22
        }
      ]
    },
    {
      "cell_type": "code",
      "execution_count": null,
      "metadata": {
        "colab": {
          "base_uri": "https://localhost:8080/"
        },
        "id": "Xh9R5xcO1XYD",
        "outputId": "2d832a3e-4a74-4ce6-80f6-f31bb0e4b15a"
      },
      "outputs": [
        {
          "output_type": "stream",
          "name": "stdout",
          "text": [
            "{1, 2, 3}\n",
            "{'H', 'e', 'o', 'l'}\n"
          ]
        }
      ],
      "source": [
        "s1 = set([1,2,3])\n",
        "print(s1)\n",
        "\n",
        "s2 = set('Hello')\n",
        "print(s2)"
      ]
    },
    {
      "cell_type": "code",
      "source": [
        "s1 = set([1,2,3])\n",
        "l1 = list(s1)\n",
        "print(l1[0])\n",
        "\n",
        "t1 = tuple(s1)\n",
        "print(t1[0])"
      ],
      "metadata": {
        "colab": {
          "base_uri": "https://localhost:8080/"
        },
        "id": "iPx3AUwOOxp9",
        "outputId": "7628bfef-2400-410c-c1a3-980657a7a9c2"
      },
      "execution_count": null,
      "outputs": [
        {
          "output_type": "stream",
          "name": "stdout",
          "text": [
            "1\n",
            "1\n"
          ]
        }
      ]
    },
    {
      "cell_type": "markdown",
      "source": [
        "set 자료형에 저장된 값을 인덱싱으로 접근하려면 리스트나 튜플로 변환해야함"
      ],
      "metadata": {
        "id": "Mvg_f3sIO5TE"
      }
    },
    {
      "cell_type": "markdown",
      "source": [
        "## 교집합, 합집합, 차집합"
      ],
      "metadata": {
        "id": "ez5IIMIrPJos"
      }
    },
    {
      "cell_type": "code",
      "source": [
        "s1 = set([1,2,3,4,5,6])\n",
        "s2 = set([4,5,6,7,8,9])\n",
        "\n",
        "# 교잽합\n",
        "print(s1 & s2)\n",
        "print(s1.intersection(s2))\n",
        "\n",
        "# 합집합\n",
        "print(s1 | s2)\n",
        "print(s1.union(s2))\n",
        "\n",
        "# 차집합\n",
        "print(s1 - s2)\n",
        "print(s2 - s1)\n",
        "print(s1.difference(s2))\n",
        "print(s2.difference(s1))"
      ],
      "metadata": {
        "id": "PvHxibr317fn",
        "colab": {
          "base_uri": "https://localhost:8080/"
        },
        "outputId": "7bfd585b-12ee-41b9-de5b-6b1120769c99"
      },
      "execution_count": null,
      "outputs": [
        {
          "output_type": "stream",
          "name": "stdout",
          "text": [
            "{4, 5, 6}\n",
            "{4, 5, 6}\n",
            "{1, 2, 3, 4, 5, 6, 7, 8, 9}\n",
            "{1, 2, 3, 4, 5, 6, 7, 8, 9}\n",
            "{1, 2, 3}\n",
            "{8, 9, 7}\n",
            "{1, 2, 3}\n",
            "{8, 9, 7}\n"
          ]
        }
      ]
    },
    {
      "cell_type": "markdown",
      "source": [
        "## 집합 관련 함수"
      ],
      "metadata": {
        "id": "NOE_7kbWPvc9"
      }
    },
    {
      "cell_type": "code",
      "source": [
        "# 값 1개 추가하기 : add\n",
        "s1.add(10)\n",
        "print(s1)\n",
        "\n",
        "# 값 여러 개 추가하기 : update\n",
        "s1.update([4,5,7,20,22,25])\n",
        "print(s1)\n",
        "\n",
        "# 특정 값 제거하기 : remove\n",
        "s1.remove(22)\n",
        "print(s1)"
      ],
      "metadata": {
        "colab": {
          "base_uri": "https://localhost:8080/"
        },
        "id": "l8ybT-Tj2nDa",
        "outputId": "b6ae7437-f522-44aa-baab-9755fde151c6"
      },
      "execution_count": null,
      "outputs": [
        {
          "output_type": "stream",
          "name": "stdout",
          "text": [
            "{1, 2, 3, 4, 5, 6, 7, 10}\n",
            "{1, 2, 3, 4, 5, 6, 7, 10, 20, 22, 25}\n",
            "{1, 2, 3, 4, 5, 6, 7, 10, 20, 25}\n"
          ]
        }
      ]
    },
    {
      "cell_type": "markdown",
      "source": [
        "# 불 자료형\n",
        "참(True)과 거짓(False)을 나타내는 자료형"
      ],
      "metadata": {
        "id": "WHa2OKy73Wmm"
      }
    },
    {
      "cell_type": "code",
      "source": [
        "a = True\n",
        "b = False\n",
        "type(a)"
      ],
      "metadata": {
        "colab": {
          "base_uri": "https://localhost:8080/"
        },
        "id": "TwoeQCW_3SVL",
        "outputId": "1f72dc71-8b11-4382-95bd-75d388c6259f"
      },
      "execution_count": null,
      "outputs": [
        {
          "output_type": "execute_result",
          "data": {
            "text/plain": [
              "bool"
            ]
          },
          "metadata": {},
          "execution_count": 24
        }
      ]
    },
    {
      "cell_type": "code",
      "source": [
        "print(1 == 1)\n",
        "print(1 == 2)\n",
        "print(1 > 2)"
      ],
      "metadata": {
        "colab": {
          "base_uri": "https://localhost:8080/"
        },
        "id": "zevV-ORF3gRL",
        "outputId": "092f9451-e515-4c03-a71a-73f22701ba60"
      },
      "execution_count": null,
      "outputs": [
        {
          "output_type": "stream",
          "name": "stdout",
          "text": [
            "True\n",
            "False\n",
            "False\n"
          ]
        }
      ]
    },
    {
      "cell_type": "markdown",
      "source": [
        "문자열, 리스트, 튜플, 딕셔너리 등의 값이 비어 있으면(\" \", [ ], ( ), { }) 거짓"
      ],
      "metadata": {
        "id": "_tofA69jQ0NP"
      }
    },
    {
      "cell_type": "code",
      "source": [
        "# while문에 활용하기\n",
        "a = [1,2,3,4]\n",
        "while a:\n",
        "  print(a.pop())\n",
        "print('Finish')"
      ],
      "metadata": {
        "colab": {
          "base_uri": "https://localhost:8080/"
        },
        "id": "5ZvNUtUQ3l__",
        "outputId": "d72bc7d2-3540-48ce-98de-52727570ee2e"
      },
      "execution_count": null,
      "outputs": [
        {
          "output_type": "stream",
          "name": "stdout",
          "text": [
            "4\n",
            "3\n",
            "2\n",
            "1\n",
            "Finish\n"
          ]
        }
      ]
    },
    {
      "cell_type": "code",
      "source": [
        "if []:\n",
        "  print('참')\n",
        "else:\n",
        "  print('거짓')"
      ],
      "metadata": {
        "colab": {
          "base_uri": "https://localhost:8080/"
        },
        "id": "ah6q7Jy74USF",
        "outputId": "5bf9111d-5a39-437a-bf0d-0f14ea8e8890"
      },
      "execution_count": null,
      "outputs": [
        {
          "output_type": "stream",
          "name": "stdout",
          "text": [
            "거짓\n"
          ]
        }
      ]
    },
    {
      "cell_type": "code",
      "source": [
        "print(bool('python'))\n",
        "print(bool(''))\n",
        "print(bool([1,2,3]))\n",
        "print(bool(0))\n",
        "print(bool(3))"
      ],
      "metadata": {
        "colab": {
          "base_uri": "https://localhost:8080/"
        },
        "id": "gA9o-hpmRE-6",
        "outputId": "220fbe21-c0c5-412a-f971-3cb2519c7257"
      },
      "execution_count": null,
      "outputs": [
        {
          "output_type": "stream",
          "name": "stdout",
          "text": [
            "True\n",
            "False\n",
            "True\n",
            "False\n",
            "True\n"
          ]
        }
      ]
    }
  ]
}