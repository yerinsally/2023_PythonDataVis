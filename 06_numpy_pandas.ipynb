{
  "nbformat": 4,
  "nbformat_minor": 0,
  "metadata": {
    "colab": {
      "provenance": [],
      "authorship_tag": "ABX9TyPu2P8VCsemVwzS6Z/T/W/C",
      "include_colab_link": true
    },
    "kernelspec": {
      "name": "python3",
      "display_name": "Python 3"
    },
    "language_info": {
      "name": "python"
    }
  },
  "cells": [
    {
      "cell_type": "markdown",
      "metadata": {
        "id": "view-in-github",
        "colab_type": "text"
      },
      "source": [
        "<a href=\"https://colab.research.google.com/github/yerinsally/2023_PythonDataVis/blob/main/06_numpy_pandas.ipynb\" target=\"_parent\"><img src=\"https://colab.research.google.com/assets/colab-badge.svg\" alt=\"Open In Colab\"/></a>"
      ]
    },
    {
      "cell_type": "markdown",
      "source": [
        "# Numpy\n",
        "- 다차원 데이터의 데이터를 쉽게 처리하도록 돕는 패키지\n",
        "- 다차원 배열, 행렬의 생성과 연산, 정렬 등의 기능"
      ],
      "metadata": {
        "id": "HPmFJp60nx9o"
      }
    },
    {
      "cell_type": "code",
      "source": [
        "import numpy as np\n",
        "print(np.array([1,2,3,4]))  # 1차원배열\n",
        "print(np.array([[1,2,3,4],[11,12,13,14]]))  # 2차원 배열\n",
        "print(np.array([[[1,2,3,4],[11,12,13,14]],[[21,22,23,24],[31,32,33,34]]]))  # 3차원 배열"
      ],
      "metadata": {
        "colab": {
          "base_uri": "https://localhost:8080/"
        },
        "id": "-5UY9GhwoQgW",
        "outputId": "a8d1e3ae-817b-47ec-9a44-7170d2ee9365"
      },
      "execution_count": null,
      "outputs": [
        {
          "output_type": "stream",
          "name": "stdout",
          "text": [
            "[1 2 3 4]\n",
            "[[ 1  2  3  4]\n",
            " [11 12 13 14]]\n",
            "[[[ 1  2  3  4]\n",
            "  [11 12 13 14]]\n",
            "\n",
            " [[21 22 23 24]\n",
            "  [31 32 33 34]]]\n"
          ]
        }
      ]
    },
    {
      "cell_type": "markdown",
      "source": [
        "## 다차원 배열\n",
        "np.array(인자1_리스트)\n",
        "- 인자1_리스트 : 가장 안쪽의 []가 넘파이 배열에서 가장 마지막 차원이 된다."
      ],
      "metadata": {
        "id": "9I6cydBopZZ0"
      }
    },
    {
      "cell_type": "code",
      "source": [
        "# 리스트로 배열 생성\n",
        "# 2차원 배열\n",
        "np_array2 = np.array([[1,2,3,4],[11,12,13,14]])\n",
        "print(np_array2)\n",
        "\n",
        "# 3차원 배열\n",
        "np_array3 = np.array([[[1,2,3,4],[11,12,13,14]],\n",
        "                      [[21,22,23,24],[31,32,33,34]]])\n",
        "print(np_array3)\n",
        "\n",
        "# 배열의 모양 : shape\n",
        "print(np_array2.shape)\n",
        "print(np_array3.shape)"
      ],
      "metadata": {
        "colab": {
          "base_uri": "https://localhost:8080/"
        },
        "id": "UL-JXRS1oQeI",
        "outputId": "fcef5aad-7087-4550-9bf2-fc051d49ce0c"
      },
      "execution_count": null,
      "outputs": [
        {
          "output_type": "stream",
          "name": "stdout",
          "text": [
            "[[ 1  2  3  4]\n",
            " [11 12 13 14]]\n",
            "[[[ 1  2  3  4]\n",
            "  [11 12 13 14]]\n",
            "\n",
            " [[21 22 23 24]\n",
            "  [31 32 33 34]]]\n",
            "(2, 4)\n",
            "(2, 2, 4)\n"
          ]
        }
      ]
    },
    {
      "cell_type": "code",
      "source": [
        "# 초기화 함수로 넘파이 배열 생성\n",
        "z1 = np.zeros([4])  # 0으로 채운 배열\n",
        "o2 = np.ones([3,4]) # 1로 채운 배열\n",
        "r2 = np.random.randn(2,3) # 랜덤한 숫자 배열\n",
        "z1, o2, r2"
      ],
      "metadata": {
        "colab": {
          "base_uri": "https://localhost:8080/"
        },
        "id": "eR0BYLUFoQbb",
        "outputId": "021eabe9-7cd2-4d8f-e2c5-0d0dd6951b4e"
      },
      "execution_count": null,
      "outputs": [
        {
          "output_type": "execute_result",
          "data": {
            "text/plain": [
              "(array([0., 0., 0., 0.]),\n",
              " array([[1., 1., 1., 1.],\n",
              "        [1., 1., 1., 1.],\n",
              "        [1., 1., 1., 1.]]),\n",
              " array([[-0.43032298, -0.91069255,  0.51146781],\n",
              "        [ 0.20137912, -1.42558782, -0.18852619]]))"
            ]
          },
          "metadata": {},
          "execution_count": 10
        }
      ]
    },
    {
      "cell_type": "code",
      "source": [
        "# 4차원 배열 생성\n",
        "r4 = np.random.randn(2,2,4,5).round(3)\n",
        "r4"
      ],
      "metadata": {
        "colab": {
          "base_uri": "https://localhost:8080/"
        },
        "id": "s0hMkwbFoQYn",
        "outputId": "f7690182-a68b-4b76-8cba-0197ce760a4e"
      },
      "execution_count": null,
      "outputs": [
        {
          "output_type": "execute_result",
          "data": {
            "text/plain": [
              "array([[[[ 6.010e-01, -7.140e-01, -1.787e+00, -1.353e+00,  9.780e-01],\n",
              "         [-1.639e+00, -2.340e-01,  2.460e-01, -1.035e+00, -7.000e-02],\n",
              "         [-6.240e-01,  6.230e-01, -8.950e-01,  6.700e-01,  6.230e-01],\n",
              "         [ 6.100e-02,  1.722e+00,  4.700e-02,  9.550e-01,  7.000e-02]],\n",
              "\n",
              "        [[ 1.466e+00,  4.970e-01, -1.919e+00,  3.270e-01,  9.940e-01],\n",
              "         [ 8.190e-01,  1.554e+00,  3.670e-01,  1.288e+00,  1.855e+00],\n",
              "         [-1.192e+00,  7.230e-01, -8.450e-01,  6.200e-02,  1.280e-01],\n",
              "         [ 2.300e-01,  1.327e+00, -8.430e-01, -1.360e-01, -4.480e-01]]],\n",
              "\n",
              "\n",
              "       [[[ 3.020e-01, -7.190e-01, -1.312e+00, -5.440e-01, -2.227e+00],\n",
              "         [ 2.820e-01, -5.840e-01,  3.770e-01, -2.530e-01, -3.910e-01],\n",
              "         [ 9.630e-01, -1.137e+00,  4.500e-01, -1.000e-03,  1.200e-02],\n",
              "         [-1.056e+00, -1.383e+00, -6.460e-01,  1.880e-01,  1.330e+00]],\n",
              "\n",
              "        [[-1.630e-01,  5.610e-01, -3.920e-01, -1.814e+00,  3.700e-01],\n",
              "         [-1.067e+00, -1.250e-01, -3.070e-01,  1.590e-01,  1.085e+00],\n",
              "         [-9.300e-02,  7.510e-01,  7.900e-02,  6.020e-01,  2.418e+00],\n",
              "         [-2.690e-01, -1.316e+00,  9.080e-01, -1.003e+00,  2.180e-01]]]])"
            ]
          },
          "metadata": {},
          "execution_count": 11
        }
      ]
    },
    {
      "cell_type": "markdown",
      "source": [
        "## Indexing & Slicing"
      ],
      "metadata": {
        "id": "BpE0tOyJrhjc"
      }
    },
    {
      "cell_type": "code",
      "source": [
        "# r4 배열 : [두번째][첫번째] 접근해서 가져오기\n",
        "print(r4[1][0])\n",
        "print(r4[1][0][2])\n",
        "print(r4[1][0][2][4])\n",
        "print(r4[1,0,2,4])  # 대괄호 대신 콤마도 차원 접근 가능"
      ],
      "metadata": {
        "colab": {
          "base_uri": "https://localhost:8080/"
        },
        "id": "vThsLwx0rbQn",
        "outputId": "ab81c776-2266-4451-853c-ac74104302b5"
      },
      "execution_count": null,
      "outputs": [
        {
          "output_type": "stream",
          "name": "stdout",
          "text": [
            "[[ 3.020e-01 -7.190e-01 -1.312e+00 -5.440e-01 -2.227e+00]\n",
            " [ 2.820e-01 -5.840e-01  3.770e-01 -2.530e-01 -3.910e-01]\n",
            " [ 9.630e-01 -1.137e+00  4.500e-01 -1.000e-03  1.200e-02]\n",
            " [-1.056e+00 -1.383e+00 -6.460e-01  1.880e-01  1.330e+00]]\n",
            "[ 9.630e-01 -1.137e+00  4.500e-01 -1.000e-03  1.200e-02]\n",
            "0.012\n",
            "0.012\n"
          ]
        }
      ]
    },
    {
      "cell_type": "code",
      "source": [
        "# 슬라이싱\n",
        "print(r4[1][0][0:4:2])\n",
        "print(r4[1][0][1:4:2])\n",
        "\n",
        "# 인덱싱, 슬라이싱 같이 적용하기\n",
        "print(r4[1][0][1:4:2][1][3:])"
      ],
      "metadata": {
        "colab": {
          "base_uri": "https://localhost:8080/"
        },
        "id": "5h6XdT9NrbNy",
        "outputId": "e941fc7d-f896-4a1c-ddf8-e85bbdcc3655"
      },
      "execution_count": null,
      "outputs": [
        {
          "output_type": "stream",
          "name": "stdout",
          "text": [
            "[[ 3.020e-01 -7.190e-01 -1.312e+00 -5.440e-01 -2.227e+00]\n",
            " [ 9.630e-01 -1.137e+00  4.500e-01 -1.000e-03  1.200e-02]]\n",
            "[[ 0.282 -0.584  0.377 -0.253 -0.391]\n",
            " [-1.056 -1.383 -0.646  0.188  1.33 ]]\n",
            "[0.188 1.33 ]\n"
          ]
        }
      ]
    },
    {
      "cell_type": "code",
      "source": [
        "# 배열 간 연산\n",
        "arr = np.array([[1,2,3,4],[10,11,12,13]])\n",
        "print(arr + arr)\n",
        "\n",
        "# Broadcasting 연산\n",
        "print(arr + 20)\n",
        "print(arr * 100)"
      ],
      "metadata": {
        "colab": {
          "base_uri": "https://localhost:8080/"
        },
        "id": "6y7-nSUMrbKQ",
        "outputId": "c0a7922b-ee45-4b02-9bb5-cf3e8c276d84"
      },
      "execution_count": null,
      "outputs": [
        {
          "output_type": "stream",
          "name": "stdout",
          "text": [
            "[[ 2  4  6  8]\n",
            " [20 22 24 26]]\n",
            "[[21 22 23 24]\n",
            " [30 31 32 33]]\n",
            "[[ 100  200  300  400]\n",
            " [1000 1100 1200 1300]]\n"
          ]
        }
      ]
    },
    {
      "cell_type": "code",
      "source": [
        "# Aggregation : 넘파이 배열에 대해 모든 원소 집계하는 연산\n",
        "print(arr.sum(), arr.mean(), arr.prod(), arr.max(), arr.min())\n",
        "\n",
        "# 배열에서의 최대인 원소의 번호, 최소인 원소의 번호\n",
        "print(arr.argmax(), arr[1].argmax(), arr.argmin())\n",
        "\n",
        "# 특정 축으로 덧셈 수행\n",
        "print(arr.sum(axis=0), arr.sum(axis=1))\n",
        "\n",
        "# Indexing & Slicing & Aggregation\n",
        "print(arr[1].min(), arr[1][2:].sum())"
      ],
      "metadata": {
        "colab": {
          "base_uri": "https://localhost:8080/"
        },
        "id": "970TXYCprbGy",
        "outputId": "e70c2dc3-71e1-4d06-ddd1-e82a81cc8ef3"
      },
      "execution_count": null,
      "outputs": [
        {
          "output_type": "stream",
          "name": "stdout",
          "text": [
            "56 7.0 411840 13 1\n",
            "7 3 0\n",
            "[11 13 15 17] [10 46]\n",
            "10 25\n"
          ]
        }
      ]
    },
    {
      "cell_type": "code",
      "source": [
        "# 고급 Broadcasting\n",
        "arr1 = np.array([[0,0,0],[10,10,10],[20,20,20],[30,30,30]])\n",
        "arr2 = np.array([[0,1,2],[0,1,2],[0,1,2],[0,1,2]])\n",
        "print(arr1.shape, arr2.shape)\n",
        "\n",
        "print(arr1 + arr2)\n",
        "print(arr1 + np.array([0,1,2])) # (4X3) + (1X3)\n",
        "print(np.array([[0],[10],[20],[30]]) + np.array([0,1,2])) # (4X1) + (1X3)"
      ],
      "metadata": {
        "colab": {
          "base_uri": "https://localhost:8080/"
        },
        "id": "DQ8pbkeirbEL",
        "outputId": "f29a26f4-30bd-49eb-d647-f76fd5fcdce7"
      },
      "execution_count": null,
      "outputs": [
        {
          "output_type": "stream",
          "name": "stdout",
          "text": [
            "(4, 3) (4, 3)\n",
            "[[ 0  1  2]\n",
            " [10 11 12]\n",
            " [20 21 22]\n",
            " [30 31 32]]\n",
            "[[ 0  1  2]\n",
            " [10 11 12]\n",
            " [20 21 22]\n",
            " [30 31 32]]\n",
            "[[ 0  1  2]\n",
            " [10 11 12]\n",
            " [20 21 22]\n",
            " [30 31 32]]\n"
          ]
        }
      ]
    },
    {
      "cell_type": "markdown",
      "source": [
        "# Pandas\n",
        "- 1~2차원 표 형태의 데이터\n",
        "- 행과 열에 이름을 붙일 수 있음"
      ],
      "metadata": {
        "id": "X9Xfzrd4x2-i"
      }
    },
    {
      "cell_type": "markdown",
      "source": [
        "## Series\n",
        "- 행 X 값 데이터\n",
        "- 1차원 데이터를 잘 표현함"
      ],
      "metadata": {
        "id": "zPhjEab_yLyd"
      }
    },
    {
      "cell_type": "code",
      "source": [
        "# Series 출력\n",
        "import pandas as pd\n",
        "import numpy as np\n",
        "\n",
        "index = ['a', 'b', 'c', 'd', 'e', 'f']\n",
        "my_series = pd.Series(np.random.rand(6), index=index)\n",
        "my_series"
      ],
      "metadata": {
        "colab": {
          "base_uri": "https://localhost:8080/"
        },
        "id": "y8yMfvtcrbBe",
        "outputId": "71851a6c-f6c6-40cf-e640-71140897662c"
      },
      "execution_count": null,
      "outputs": [
        {
          "output_type": "execute_result",
          "data": {
            "text/plain": [
              "a    0.596250\n",
              "b    0.401723\n",
              "c    0.904681\n",
              "d    0.767353\n",
              "e    0.399973\n",
              "f    0.161715\n",
              "dtype: float64"
            ]
          },
          "metadata": {},
          "execution_count": 24
        }
      ]
    },
    {
      "cell_type": "code",
      "source": [
        "# 인덱스와 이름 보기\n",
        "print(my_series.index)\n",
        "print(my_series.name)"
      ],
      "metadata": {
        "colab": {
          "base_uri": "https://localhost:8080/"
        },
        "id": "HHU6OTS3yZxI",
        "outputId": "6c371467-0b00-49de-acc1-824d2a228864"
      },
      "execution_count": null,
      "outputs": [
        {
          "output_type": "stream",
          "name": "stdout",
          "text": [
            "Index(['a', 'b', 'c', 'd', 'e', 'f'], dtype='object')\n",
            "None\n"
          ]
        }
      ]
    },
    {
      "cell_type": "code",
      "source": [
        "# Slicing : .loc & .iloc\n",
        "print(my_series.loc['b'])\n",
        "print(my_series.iloc[4])\n",
        "print(my_series.iloc[4:6])"
      ],
      "metadata": {
        "colab": {
          "base_uri": "https://localhost:8080/"
        },
        "id": "KyQMPrG-yZuA",
        "outputId": "9554da77-c648-4db5-af23-23dd4edadd82"
      },
      "execution_count": null,
      "outputs": [
        {
          "output_type": "stream",
          "name": "stdout",
          "text": [
            "0.4017232998062249\n",
            "0.39997333244953703\n",
            "e    0.399973\n",
            "f    0.161715\n",
            "dtype: float64\n"
          ]
        }
      ]
    },
    {
      "cell_type": "markdown",
      "source": [
        "- .loc : 인덱스를 이용, 일부를 추출, 끝을 포함\n",
        "- .iloc : 배열번호를 이용, 일부를 추출, 끝을 포함X"
      ],
      "metadata": {
        "id": "D0kZZXJ54ZE-"
      }
    },
    {
      "cell_type": "code",
      "source": [
        "# Series 연산 : Broadcasting\n",
        "print(my_series.iloc[4:] + my_series.iloc[4:])\n",
        "print(my_series.loc['b'::2] + 30)"
      ],
      "metadata": {
        "colab": {
          "base_uri": "https://localhost:8080/"
        },
        "id": "FWASe-HTyZrE",
        "outputId": "0e642c2d-5ac6-4d48-90d9-76f10fbc2feb"
      },
      "execution_count": null,
      "outputs": [
        {
          "output_type": "stream",
          "name": "stdout",
          "text": [
            "e    0.799947\n",
            "f    0.323430\n",
            "dtype: float64\n",
            "b    30.401723\n",
            "d    30.767353\n",
            "f    30.161715\n",
            "dtype: float64\n"
          ]
        }
      ]
    },
    {
      "cell_type": "code",
      "source": [
        "# Aggregation\n",
        "my_series.iloc[4:].mean()"
      ],
      "metadata": {
        "colab": {
          "base_uri": "https://localhost:8080/"
        },
        "id": "dsg90vNsyZow",
        "outputId": "adf96bd9-d410-46d8-cb9b-70e469827d75"
      },
      "execution_count": null,
      "outputs": [
        {
          "output_type": "execute_result",
          "data": {
            "text/plain": [
              "0.28084428063824873"
            ]
          },
          "metadata": {},
          "execution_count": 30
        }
      ]
    },
    {
      "cell_type": "markdown",
      "source": [
        "## Dataframe\n",
        "- 2차원 데이터를 잘 다루기 위해 만든다\n",
        "- 여러 개의 Series를 묶어서 만든 형태"
      ],
      "metadata": {
        "id": "fgZBqcn_51_l"
      }
    },
    {
      "cell_type": "code",
      "source": [
        "import pandas as pd\n",
        "import numpy as np\n",
        "\n",
        "\n",
        "# 임의의 값을 가지는 6개의 열(column) 생성\n",
        "data = np.random.rand(10000, 6)\n",
        "\n",
        "# 데이터프레임 생성\n",
        "my_df = pd.DataFrame(data, columns=['col1', 'col2', 'col3', 'col4', 'col5', 'col6'])\n",
        "\n",
        "# 결과 확인\n",
        "my_df"
      ],
      "metadata": {
        "colab": {
          "base_uri": "https://localhost:8080/",
          "height": 423
        },
        "id": "XQ1iBiY1yZmG",
        "outputId": "a000ecbb-1946-4f7c-ee61-dd9f4b20e7ec"
      },
      "execution_count": null,
      "outputs": [
        {
          "output_type": "execute_result",
          "data": {
            "text/plain": [
              "          col1      col2      col3      col4      col5      col6\n",
              "0     0.201085  0.000488  0.446632  0.904962  0.762049  0.578763\n",
              "1     0.316288  0.279243  0.973143  0.177220  0.548947  0.621673\n",
              "2     0.006840  0.772093  0.110612  0.686555  0.753640  0.233685\n",
              "3     0.973987  0.409143  0.776717  0.541838  0.112562  0.594712\n",
              "4     0.789472  0.297827  0.914082  0.189953  0.895012  0.103588\n",
              "...        ...       ...       ...       ...       ...       ...\n",
              "9995  0.105089  0.740626  0.030219  0.340826  0.301719  0.013156\n",
              "9996  0.949459  0.790176  0.788357  0.634414  0.388958  0.835366\n",
              "9997  0.241324  0.760169  0.811489  0.874570  0.619239  0.097485\n",
              "9998  0.499262  0.744648  0.299509  0.020809  0.749399  0.443982\n",
              "9999  0.150196  0.499592  0.348524  0.854607  0.552479  0.718417\n",
              "\n",
              "[10000 rows x 6 columns]"
            ],
            "text/html": [
              "\n",
              "  <div id=\"df-feb6e1ff-5e42-4b0d-adac-2789073a31b1\">\n",
              "    <div class=\"colab-df-container\">\n",
              "      <div>\n",
              "<style scoped>\n",
              "    .dataframe tbody tr th:only-of-type {\n",
              "        vertical-align: middle;\n",
              "    }\n",
              "\n",
              "    .dataframe tbody tr th {\n",
              "        vertical-align: top;\n",
              "    }\n",
              "\n",
              "    .dataframe thead th {\n",
              "        text-align: right;\n",
              "    }\n",
              "</style>\n",
              "<table border=\"1\" class=\"dataframe\">\n",
              "  <thead>\n",
              "    <tr style=\"text-align: right;\">\n",
              "      <th></th>\n",
              "      <th>col1</th>\n",
              "      <th>col2</th>\n",
              "      <th>col3</th>\n",
              "      <th>col4</th>\n",
              "      <th>col5</th>\n",
              "      <th>col6</th>\n",
              "    </tr>\n",
              "  </thead>\n",
              "  <tbody>\n",
              "    <tr>\n",
              "      <th>0</th>\n",
              "      <td>0.201085</td>\n",
              "      <td>0.000488</td>\n",
              "      <td>0.446632</td>\n",
              "      <td>0.904962</td>\n",
              "      <td>0.762049</td>\n",
              "      <td>0.578763</td>\n",
              "    </tr>\n",
              "    <tr>\n",
              "      <th>1</th>\n",
              "      <td>0.316288</td>\n",
              "      <td>0.279243</td>\n",
              "      <td>0.973143</td>\n",
              "      <td>0.177220</td>\n",
              "      <td>0.548947</td>\n",
              "      <td>0.621673</td>\n",
              "    </tr>\n",
              "    <tr>\n",
              "      <th>2</th>\n",
              "      <td>0.006840</td>\n",
              "      <td>0.772093</td>\n",
              "      <td>0.110612</td>\n",
              "      <td>0.686555</td>\n",
              "      <td>0.753640</td>\n",
              "      <td>0.233685</td>\n",
              "    </tr>\n",
              "    <tr>\n",
              "      <th>3</th>\n",
              "      <td>0.973987</td>\n",
              "      <td>0.409143</td>\n",
              "      <td>0.776717</td>\n",
              "      <td>0.541838</td>\n",
              "      <td>0.112562</td>\n",
              "      <td>0.594712</td>\n",
              "    </tr>\n",
              "    <tr>\n",
              "      <th>4</th>\n",
              "      <td>0.789472</td>\n",
              "      <td>0.297827</td>\n",
              "      <td>0.914082</td>\n",
              "      <td>0.189953</td>\n",
              "      <td>0.895012</td>\n",
              "      <td>0.103588</td>\n",
              "    </tr>\n",
              "    <tr>\n",
              "      <th>...</th>\n",
              "      <td>...</td>\n",
              "      <td>...</td>\n",
              "      <td>...</td>\n",
              "      <td>...</td>\n",
              "      <td>...</td>\n",
              "      <td>...</td>\n",
              "    </tr>\n",
              "    <tr>\n",
              "      <th>9995</th>\n",
              "      <td>0.105089</td>\n",
              "      <td>0.740626</td>\n",
              "      <td>0.030219</td>\n",
              "      <td>0.340826</td>\n",
              "      <td>0.301719</td>\n",
              "      <td>0.013156</td>\n",
              "    </tr>\n",
              "    <tr>\n",
              "      <th>9996</th>\n",
              "      <td>0.949459</td>\n",
              "      <td>0.790176</td>\n",
              "      <td>0.788357</td>\n",
              "      <td>0.634414</td>\n",
              "      <td>0.388958</td>\n",
              "      <td>0.835366</td>\n",
              "    </tr>\n",
              "    <tr>\n",
              "      <th>9997</th>\n",
              "      <td>0.241324</td>\n",
              "      <td>0.760169</td>\n",
              "      <td>0.811489</td>\n",
              "      <td>0.874570</td>\n",
              "      <td>0.619239</td>\n",
              "      <td>0.097485</td>\n",
              "    </tr>\n",
              "    <tr>\n",
              "      <th>9998</th>\n",
              "      <td>0.499262</td>\n",
              "      <td>0.744648</td>\n",
              "      <td>0.299509</td>\n",
              "      <td>0.020809</td>\n",
              "      <td>0.749399</td>\n",
              "      <td>0.443982</td>\n",
              "    </tr>\n",
              "    <tr>\n",
              "      <th>9999</th>\n",
              "      <td>0.150196</td>\n",
              "      <td>0.499592</td>\n",
              "      <td>0.348524</td>\n",
              "      <td>0.854607</td>\n",
              "      <td>0.552479</td>\n",
              "      <td>0.718417</td>\n",
              "    </tr>\n",
              "  </tbody>\n",
              "</table>\n",
              "<p>10000 rows × 6 columns</p>\n",
              "</div>\n",
              "      <button class=\"colab-df-convert\" onclick=\"convertToInteractive('df-feb6e1ff-5e42-4b0d-adac-2789073a31b1')\"\n",
              "              title=\"Convert this dataframe to an interactive table.\"\n",
              "              style=\"display:none;\">\n",
              "        \n",
              "  <svg xmlns=\"http://www.w3.org/2000/svg\" height=\"24px\"viewBox=\"0 0 24 24\"\n",
              "       width=\"24px\">\n",
              "    <path d=\"M0 0h24v24H0V0z\" fill=\"none\"/>\n",
              "    <path d=\"M18.56 5.44l.94 2.06.94-2.06 2.06-.94-2.06-.94-.94-2.06-.94 2.06-2.06.94zm-11 1L8.5 8.5l.94-2.06 2.06-.94-2.06-.94L8.5 2.5l-.94 2.06-2.06.94zm10 10l.94 2.06.94-2.06 2.06-.94-2.06-.94-.94-2.06-.94 2.06-2.06.94z\"/><path d=\"M17.41 7.96l-1.37-1.37c-.4-.4-.92-.59-1.43-.59-.52 0-1.04.2-1.43.59L10.3 9.45l-7.72 7.72c-.78.78-.78 2.05 0 2.83L4 21.41c.39.39.9.59 1.41.59.51 0 1.02-.2 1.41-.59l7.78-7.78 2.81-2.81c.8-.78.8-2.07 0-2.86zM5.41 20L4 18.59l7.72-7.72 1.47 1.35L5.41 20z\"/>\n",
              "  </svg>\n",
              "      </button>\n",
              "      \n",
              "  <style>\n",
              "    .colab-df-container {\n",
              "      display:flex;\n",
              "      flex-wrap:wrap;\n",
              "      gap: 12px;\n",
              "    }\n",
              "\n",
              "    .colab-df-convert {\n",
              "      background-color: #E8F0FE;\n",
              "      border: none;\n",
              "      border-radius: 50%;\n",
              "      cursor: pointer;\n",
              "      display: none;\n",
              "      fill: #1967D2;\n",
              "      height: 32px;\n",
              "      padding: 0 0 0 0;\n",
              "      width: 32px;\n",
              "    }\n",
              "\n",
              "    .colab-df-convert:hover {\n",
              "      background-color: #E2EBFA;\n",
              "      box-shadow: 0px 1px 2px rgba(60, 64, 67, 0.3), 0px 1px 3px 1px rgba(60, 64, 67, 0.15);\n",
              "      fill: #174EA6;\n",
              "    }\n",
              "\n",
              "    [theme=dark] .colab-df-convert {\n",
              "      background-color: #3B4455;\n",
              "      fill: #D2E3FC;\n",
              "    }\n",
              "\n",
              "    [theme=dark] .colab-df-convert:hover {\n",
              "      background-color: #434B5C;\n",
              "      box-shadow: 0px 1px 3px 1px rgba(0, 0, 0, 0.15);\n",
              "      filter: drop-shadow(0px 1px 2px rgba(0, 0, 0, 0.3));\n",
              "      fill: #FFFFFF;\n",
              "    }\n",
              "  </style>\n",
              "\n",
              "      <script>\n",
              "        const buttonEl =\n",
              "          document.querySelector('#df-feb6e1ff-5e42-4b0d-adac-2789073a31b1 button.colab-df-convert');\n",
              "        buttonEl.style.display =\n",
              "          google.colab.kernel.accessAllowed ? 'block' : 'none';\n",
              "\n",
              "        async function convertToInteractive(key) {\n",
              "          const element = document.querySelector('#df-feb6e1ff-5e42-4b0d-adac-2789073a31b1');\n",
              "          const dataTable =\n",
              "            await google.colab.kernel.invokeFunction('convertToInteractive',\n",
              "                                                     [key], {});\n",
              "          if (!dataTable) return;\n",
              "\n",
              "          const docLinkHtml = 'Like what you see? Visit the ' +\n",
              "            '<a target=\"_blank\" href=https://colab.research.google.com/notebooks/data_table.ipynb>data table notebook</a>'\n",
              "            + ' to learn more about interactive tables.';\n",
              "          element.innerHTML = '';\n",
              "          dataTable['output_type'] = 'display_data';\n",
              "          await google.colab.output.renderOutput(dataTable, element);\n",
              "          const docLink = document.createElement('div');\n",
              "          docLink.innerHTML = docLinkHtml;\n",
              "          element.appendChild(docLink);\n",
              "        }\n",
              "      </script>\n",
              "    </div>\n",
              "  </div>\n",
              "  "
            ]
          },
          "metadata": {},
          "execution_count": 39
        }
      ]
    },
    {
      "cell_type": "code",
      "source": [
        "# Indexing & Slicing 접근 시, 접근 결과 1차원이면 Series 반환\n",
        "print(my_df.loc[4,'col2'])\n",
        "print(my_df.loc[4,'col2':'col5'])\n",
        "\n",
        "# Indexing & Slicing 접근 시, 접근 결과 2차원이면 Series 반환\n",
        "print(my_df.loc[4:8:2, 'col2':'col5'])"
      ],
      "metadata": {
        "colab": {
          "base_uri": "https://localhost:8080/"
        },
        "id": "sbQ8rvD_5yzo",
        "outputId": "dab621e5-14f3-48db-dac0-c6a14159aa8c"
      },
      "execution_count": null,
      "outputs": [
        {
          "output_type": "stream",
          "name": "stdout",
          "text": [
            "0.7147391474759154\n",
            "col2    0.714739\n",
            "col3    0.629748\n",
            "col4    0.609233\n",
            "col5    0.616235\n",
            "Name: 4, dtype: float64\n",
            "       col2      col3      col4      col5\n",
            "4  0.714739  0.629748  0.609233  0.616235\n",
            "6  0.266960  0.668296  0.367124  0.067873\n",
            "8  0.968421  0.884647  0.613409  0.618156\n"
          ]
        }
      ]
    },
    {
      "cell_type": "code",
      "source": [
        "# .iloc 접근\n",
        "print(my_df.iloc[0,3:])\n",
        "print(my_df.iloc[4:7:2, 1:4])"
      ],
      "metadata": {
        "colab": {
          "base_uri": "https://localhost:8080/"
        },
        "id": "RHiw0knj5yxh",
        "outputId": "8643bdda-82b6-486f-ab10-69dd62ae932c"
      },
      "execution_count": null,
      "outputs": [
        {
          "output_type": "stream",
          "name": "stdout",
          "text": [
            "col4    0.533000\n",
            "col5    0.536241\n",
            "col6    0.575249\n",
            "Name: 0, dtype: float64\n",
            "       col2      col3      col4\n",
            "4  0.714739  0.629748  0.609233\n",
            "6  0.266960  0.668296  0.367124\n"
          ]
        }
      ]
    },
    {
      "cell_type": "code",
      "source": [
        "# : 로 모든 원소 지칭하기\n",
        "my_df.loc[::, 'col3']"
      ],
      "metadata": {
        "colab": {
          "base_uri": "https://localhost:8080/"
        },
        "id": "rq6M5rkL5yva",
        "outputId": "ed6b923a-b252-4c01-c8fa-3a58e8bef32d"
      },
      "execution_count": null,
      "outputs": [
        {
          "output_type": "execute_result",
          "data": {
            "text/plain": [
              "0       0.446632\n",
              "1       0.973143\n",
              "2       0.110612\n",
              "3       0.776717\n",
              "4       0.914082\n",
              "          ...   \n",
              "9995    0.030219\n",
              "9996    0.788357\n",
              "9997    0.811489\n",
              "9998    0.299509\n",
              "9999    0.348524\n",
              "Name: col3, Length: 10000, dtype: float64"
            ]
          },
          "metadata": {},
          "execution_count": 40
        }
      ]
    },
    {
      "cell_type": "code",
      "source": [
        "# Broadcasting\n",
        "my_df_2 = my_df.loc[:5000,'col4':]\n",
        "my_df_2\n",
        "\n",
        "my_df_2 * 3"
      ],
      "metadata": {
        "colab": {
          "base_uri": "https://localhost:8080/",
          "height": 423
        },
        "id": "VzBCfUaU8MPw",
        "outputId": "66c477a1-f81a-4a37-c2ca-36c63dade5e5"
      },
      "execution_count": null,
      "outputs": [
        {
          "output_type": "execute_result",
          "data": {
            "text/plain": [
              "          col4      col5      col6\n",
              "0     2.714886  2.286146  1.736289\n",
              "1     0.531659  1.646841  1.865019\n",
              "2     2.059666  2.260920  0.701054\n",
              "3     1.625513  0.337685  1.784136\n",
              "4     0.569860  2.685037  0.310764\n",
              "...        ...       ...       ...\n",
              "4996  1.746219  0.883169  1.450158\n",
              "4997  0.367732  1.959153  1.956103\n",
              "4998  2.618897  0.775868  0.468437\n",
              "4999  0.206822  1.927184  2.931043\n",
              "5000  2.841804  0.401329  1.385310\n",
              "\n",
              "[5001 rows x 3 columns]"
            ],
            "text/html": [
              "\n",
              "  <div id=\"df-b899c9e7-116a-45b4-a084-a12347e65415\">\n",
              "    <div class=\"colab-df-container\">\n",
              "      <div>\n",
              "<style scoped>\n",
              "    .dataframe tbody tr th:only-of-type {\n",
              "        vertical-align: middle;\n",
              "    }\n",
              "\n",
              "    .dataframe tbody tr th {\n",
              "        vertical-align: top;\n",
              "    }\n",
              "\n",
              "    .dataframe thead th {\n",
              "        text-align: right;\n",
              "    }\n",
              "</style>\n",
              "<table border=\"1\" class=\"dataframe\">\n",
              "  <thead>\n",
              "    <tr style=\"text-align: right;\">\n",
              "      <th></th>\n",
              "      <th>col4</th>\n",
              "      <th>col5</th>\n",
              "      <th>col6</th>\n",
              "    </tr>\n",
              "  </thead>\n",
              "  <tbody>\n",
              "    <tr>\n",
              "      <th>0</th>\n",
              "      <td>2.714886</td>\n",
              "      <td>2.286146</td>\n",
              "      <td>1.736289</td>\n",
              "    </tr>\n",
              "    <tr>\n",
              "      <th>1</th>\n",
              "      <td>0.531659</td>\n",
              "      <td>1.646841</td>\n",
              "      <td>1.865019</td>\n",
              "    </tr>\n",
              "    <tr>\n",
              "      <th>2</th>\n",
              "      <td>2.059666</td>\n",
              "      <td>2.260920</td>\n",
              "      <td>0.701054</td>\n",
              "    </tr>\n",
              "    <tr>\n",
              "      <th>3</th>\n",
              "      <td>1.625513</td>\n",
              "      <td>0.337685</td>\n",
              "      <td>1.784136</td>\n",
              "    </tr>\n",
              "    <tr>\n",
              "      <th>4</th>\n",
              "      <td>0.569860</td>\n",
              "      <td>2.685037</td>\n",
              "      <td>0.310764</td>\n",
              "    </tr>\n",
              "    <tr>\n",
              "      <th>...</th>\n",
              "      <td>...</td>\n",
              "      <td>...</td>\n",
              "      <td>...</td>\n",
              "    </tr>\n",
              "    <tr>\n",
              "      <th>4996</th>\n",
              "      <td>1.746219</td>\n",
              "      <td>0.883169</td>\n",
              "      <td>1.450158</td>\n",
              "    </tr>\n",
              "    <tr>\n",
              "      <th>4997</th>\n",
              "      <td>0.367732</td>\n",
              "      <td>1.959153</td>\n",
              "      <td>1.956103</td>\n",
              "    </tr>\n",
              "    <tr>\n",
              "      <th>4998</th>\n",
              "      <td>2.618897</td>\n",
              "      <td>0.775868</td>\n",
              "      <td>0.468437</td>\n",
              "    </tr>\n",
              "    <tr>\n",
              "      <th>4999</th>\n",
              "      <td>0.206822</td>\n",
              "      <td>1.927184</td>\n",
              "      <td>2.931043</td>\n",
              "    </tr>\n",
              "    <tr>\n",
              "      <th>5000</th>\n",
              "      <td>2.841804</td>\n",
              "      <td>0.401329</td>\n",
              "      <td>1.385310</td>\n",
              "    </tr>\n",
              "  </tbody>\n",
              "</table>\n",
              "<p>5001 rows × 3 columns</p>\n",
              "</div>\n",
              "      <button class=\"colab-df-convert\" onclick=\"convertToInteractive('df-b899c9e7-116a-45b4-a084-a12347e65415')\"\n",
              "              title=\"Convert this dataframe to an interactive table.\"\n",
              "              style=\"display:none;\">\n",
              "        \n",
              "  <svg xmlns=\"http://www.w3.org/2000/svg\" height=\"24px\"viewBox=\"0 0 24 24\"\n",
              "       width=\"24px\">\n",
              "    <path d=\"M0 0h24v24H0V0z\" fill=\"none\"/>\n",
              "    <path d=\"M18.56 5.44l.94 2.06.94-2.06 2.06-.94-2.06-.94-.94-2.06-.94 2.06-2.06.94zm-11 1L8.5 8.5l.94-2.06 2.06-.94-2.06-.94L8.5 2.5l-.94 2.06-2.06.94zm10 10l.94 2.06.94-2.06 2.06-.94-2.06-.94-.94-2.06-.94 2.06-2.06.94z\"/><path d=\"M17.41 7.96l-1.37-1.37c-.4-.4-.92-.59-1.43-.59-.52 0-1.04.2-1.43.59L10.3 9.45l-7.72 7.72c-.78.78-.78 2.05 0 2.83L4 21.41c.39.39.9.59 1.41.59.51 0 1.02-.2 1.41-.59l7.78-7.78 2.81-2.81c.8-.78.8-2.07 0-2.86zM5.41 20L4 18.59l7.72-7.72 1.47 1.35L5.41 20z\"/>\n",
              "  </svg>\n",
              "      </button>\n",
              "      \n",
              "  <style>\n",
              "    .colab-df-container {\n",
              "      display:flex;\n",
              "      flex-wrap:wrap;\n",
              "      gap: 12px;\n",
              "    }\n",
              "\n",
              "    .colab-df-convert {\n",
              "      background-color: #E8F0FE;\n",
              "      border: none;\n",
              "      border-radius: 50%;\n",
              "      cursor: pointer;\n",
              "      display: none;\n",
              "      fill: #1967D2;\n",
              "      height: 32px;\n",
              "      padding: 0 0 0 0;\n",
              "      width: 32px;\n",
              "    }\n",
              "\n",
              "    .colab-df-convert:hover {\n",
              "      background-color: #E2EBFA;\n",
              "      box-shadow: 0px 1px 2px rgba(60, 64, 67, 0.3), 0px 1px 3px 1px rgba(60, 64, 67, 0.15);\n",
              "      fill: #174EA6;\n",
              "    }\n",
              "\n",
              "    [theme=dark] .colab-df-convert {\n",
              "      background-color: #3B4455;\n",
              "      fill: #D2E3FC;\n",
              "    }\n",
              "\n",
              "    [theme=dark] .colab-df-convert:hover {\n",
              "      background-color: #434B5C;\n",
              "      box-shadow: 0px 1px 3px 1px rgba(0, 0, 0, 0.15);\n",
              "      filter: drop-shadow(0px 1px 2px rgba(0, 0, 0, 0.3));\n",
              "      fill: #FFFFFF;\n",
              "    }\n",
              "  </style>\n",
              "\n",
              "      <script>\n",
              "        const buttonEl =\n",
              "          document.querySelector('#df-b899c9e7-116a-45b4-a084-a12347e65415 button.colab-df-convert');\n",
              "        buttonEl.style.display =\n",
              "          google.colab.kernel.accessAllowed ? 'block' : 'none';\n",
              "\n",
              "        async function convertToInteractive(key) {\n",
              "          const element = document.querySelector('#df-b899c9e7-116a-45b4-a084-a12347e65415');\n",
              "          const dataTable =\n",
              "            await google.colab.kernel.invokeFunction('convertToInteractive',\n",
              "                                                     [key], {});\n",
              "          if (!dataTable) return;\n",
              "\n",
              "          const docLinkHtml = 'Like what you see? Visit the ' +\n",
              "            '<a target=\"_blank\" href=https://colab.research.google.com/notebooks/data_table.ipynb>data table notebook</a>'\n",
              "            + ' to learn more about interactive tables.';\n",
              "          element.innerHTML = '';\n",
              "          dataTable['output_type'] = 'display_data';\n",
              "          await google.colab.output.renderOutput(dataTable, element);\n",
              "          const docLink = document.createElement('div');\n",
              "          docLink.innerHTML = docLinkHtml;\n",
              "          element.appendChild(docLink);\n",
              "        }\n",
              "      </script>\n",
              "    </div>\n",
              "  </div>\n",
              "  "
            ]
          },
          "metadata": {},
          "execution_count": 42
        }
      ]
    },
    {
      "cell_type": "code",
      "source": [
        "# Aggregation\n",
        "print(my_df_2.mean(axis=0))\n",
        "\n",
        "# 연산\n",
        "print(my_df_2.notna())"
      ],
      "metadata": {
        "colab": {
          "base_uri": "https://localhost:8080/"
        },
        "id": "vj5Ooflk8MM1",
        "outputId": "3f257e42-686f-4b5b-9057-f6d4dcd3a527"
      },
      "execution_count": null,
      "outputs": [
        {
          "output_type": "stream",
          "name": "stdout",
          "text": [
            "col4    0.495576\n",
            "col5    0.503789\n",
            "col6    0.503598\n",
            "dtype: float64\n",
            "      col4  col5  col6\n",
            "0     True  True  True\n",
            "1     True  True  True\n",
            "2     True  True  True\n",
            "3     True  True  True\n",
            "4     True  True  True\n",
            "...    ...   ...   ...\n",
            "4996  True  True  True\n",
            "4997  True  True  True\n",
            "4998  True  True  True\n",
            "4999  True  True  True\n",
            "5000  True  True  True\n",
            "\n",
            "[5001 rows x 3 columns]\n"
          ]
        }
      ]
    },
    {
      "cell_type": "markdown",
      "source": [
        "연산 총 정리\n",
        "- .abs() = 절댓값, .isna() = na여부, .notna() = 유효여부, .pow() = 거듭제곱"
      ],
      "metadata": {
        "id": "5fc2fGJ087mv"
      }
    },
    {
      "cell_type": "code",
      "source": [
        "# 축 방향 연산 : axis=0 or 1\n",
        "print(my_df_2.sum(axis=0))\n",
        "print(my_df_2.median(axis=1))"
      ],
      "metadata": {
        "colab": {
          "base_uri": "https://localhost:8080/"
        },
        "id": "9VQYavJb8MKQ",
        "outputId": "1b1928c5-6dcf-4ae8-af38-17210a9c7de7"
      },
      "execution_count": null,
      "outputs": [
        {
          "output_type": "stream",
          "name": "stdout",
          "text": [
            "col4    2478.377591\n",
            "col5    2519.449685\n",
            "col6    2518.491804\n",
            "dtype: float64\n",
            "0       0.762049\n",
            "1       0.548947\n",
            "2       0.686555\n",
            "3       0.541838\n",
            "4       0.189953\n",
            "          ...   \n",
            "4996    0.483386\n",
            "4997    0.652034\n",
            "4998    0.258623\n",
            "4999    0.642395\n",
            "5000    0.461770\n",
            "Length: 5001, dtype: float64\n"
          ]
        }
      ]
    },
    {
      "cell_type": "markdown",
      "source": [
        "- mean, median, max, min, sum, prod = 곱하기, idmax = 최대원소의 인덱스, idmin = 최소원소의 인덱스"
      ],
      "metadata": {
        "id": "bUrFXHCd9TPg"
      }
    },
    {
      "cell_type": "code",
      "source": [
        "# 누적 축 방향 연산\n",
        "my_df_2.cumsum(axis=0)"
      ],
      "metadata": {
        "colab": {
          "base_uri": "https://localhost:8080/",
          "height": 423
        },
        "id": "hsguoDna5ytI",
        "outputId": "d9367555-7c9c-46f3-83aa-60a274c10dcd"
      },
      "execution_count": null,
      "outputs": [
        {
          "output_type": "execute_result",
          "data": {
            "text/plain": [
              "             col4         col5         col6\n",
              "0        0.904962     0.762049     0.578763\n",
              "1        1.082181     1.310996     1.200436\n",
              "2        1.768737     2.064636     1.434121\n",
              "3        2.310574     2.177197     2.028833\n",
              "4        2.500528     3.072209     2.132421\n",
              "...           ...          ...          ...\n",
              "4996  2476.365839  2517.761840  2516.244839\n",
              "4997  2476.488416  2518.414891  2516.896874\n",
              "4998  2477.361382  2518.673514  2517.053020\n",
              "4999  2477.430322  2519.315908  2518.030034\n",
              "5000  2478.377591  2519.449685  2518.491804\n",
              "\n",
              "[5001 rows x 3 columns]"
            ],
            "text/html": [
              "\n",
              "  <div id=\"df-aed3dcc0-809b-463c-8d57-580d4c4e04fc\">\n",
              "    <div class=\"colab-df-container\">\n",
              "      <div>\n",
              "<style scoped>\n",
              "    .dataframe tbody tr th:only-of-type {\n",
              "        vertical-align: middle;\n",
              "    }\n",
              "\n",
              "    .dataframe tbody tr th {\n",
              "        vertical-align: top;\n",
              "    }\n",
              "\n",
              "    .dataframe thead th {\n",
              "        text-align: right;\n",
              "    }\n",
              "</style>\n",
              "<table border=\"1\" class=\"dataframe\">\n",
              "  <thead>\n",
              "    <tr style=\"text-align: right;\">\n",
              "      <th></th>\n",
              "      <th>col4</th>\n",
              "      <th>col5</th>\n",
              "      <th>col6</th>\n",
              "    </tr>\n",
              "  </thead>\n",
              "  <tbody>\n",
              "    <tr>\n",
              "      <th>0</th>\n",
              "      <td>0.904962</td>\n",
              "      <td>0.762049</td>\n",
              "      <td>0.578763</td>\n",
              "    </tr>\n",
              "    <tr>\n",
              "      <th>1</th>\n",
              "      <td>1.082181</td>\n",
              "      <td>1.310996</td>\n",
              "      <td>1.200436</td>\n",
              "    </tr>\n",
              "    <tr>\n",
              "      <th>2</th>\n",
              "      <td>1.768737</td>\n",
              "      <td>2.064636</td>\n",
              "      <td>1.434121</td>\n",
              "    </tr>\n",
              "    <tr>\n",
              "      <th>3</th>\n",
              "      <td>2.310574</td>\n",
              "      <td>2.177197</td>\n",
              "      <td>2.028833</td>\n",
              "    </tr>\n",
              "    <tr>\n",
              "      <th>4</th>\n",
              "      <td>2.500528</td>\n",
              "      <td>3.072209</td>\n",
              "      <td>2.132421</td>\n",
              "    </tr>\n",
              "    <tr>\n",
              "      <th>...</th>\n",
              "      <td>...</td>\n",
              "      <td>...</td>\n",
              "      <td>...</td>\n",
              "    </tr>\n",
              "    <tr>\n",
              "      <th>4996</th>\n",
              "      <td>2476.365839</td>\n",
              "      <td>2517.761840</td>\n",
              "      <td>2516.244839</td>\n",
              "    </tr>\n",
              "    <tr>\n",
              "      <th>4997</th>\n",
              "      <td>2476.488416</td>\n",
              "      <td>2518.414891</td>\n",
              "      <td>2516.896874</td>\n",
              "    </tr>\n",
              "    <tr>\n",
              "      <th>4998</th>\n",
              "      <td>2477.361382</td>\n",
              "      <td>2518.673514</td>\n",
              "      <td>2517.053020</td>\n",
              "    </tr>\n",
              "    <tr>\n",
              "      <th>4999</th>\n",
              "      <td>2477.430322</td>\n",
              "      <td>2519.315908</td>\n",
              "      <td>2518.030034</td>\n",
              "    </tr>\n",
              "    <tr>\n",
              "      <th>5000</th>\n",
              "      <td>2478.377591</td>\n",
              "      <td>2519.449685</td>\n",
              "      <td>2518.491804</td>\n",
              "    </tr>\n",
              "  </tbody>\n",
              "</table>\n",
              "<p>5001 rows × 3 columns</p>\n",
              "</div>\n",
              "      <button class=\"colab-df-convert\" onclick=\"convertToInteractive('df-aed3dcc0-809b-463c-8d57-580d4c4e04fc')\"\n",
              "              title=\"Convert this dataframe to an interactive table.\"\n",
              "              style=\"display:none;\">\n",
              "        \n",
              "  <svg xmlns=\"http://www.w3.org/2000/svg\" height=\"24px\"viewBox=\"0 0 24 24\"\n",
              "       width=\"24px\">\n",
              "    <path d=\"M0 0h24v24H0V0z\" fill=\"none\"/>\n",
              "    <path d=\"M18.56 5.44l.94 2.06.94-2.06 2.06-.94-2.06-.94-.94-2.06-.94 2.06-2.06.94zm-11 1L8.5 8.5l.94-2.06 2.06-.94-2.06-.94L8.5 2.5l-.94 2.06-2.06.94zm10 10l.94 2.06.94-2.06 2.06-.94-2.06-.94-.94-2.06-.94 2.06-2.06.94z\"/><path d=\"M17.41 7.96l-1.37-1.37c-.4-.4-.92-.59-1.43-.59-.52 0-1.04.2-1.43.59L10.3 9.45l-7.72 7.72c-.78.78-.78 2.05 0 2.83L4 21.41c.39.39.9.59 1.41.59.51 0 1.02-.2 1.41-.59l7.78-7.78 2.81-2.81c.8-.78.8-2.07 0-2.86zM5.41 20L4 18.59l7.72-7.72 1.47 1.35L5.41 20z\"/>\n",
              "  </svg>\n",
              "      </button>\n",
              "      \n",
              "  <style>\n",
              "    .colab-df-container {\n",
              "      display:flex;\n",
              "      flex-wrap:wrap;\n",
              "      gap: 12px;\n",
              "    }\n",
              "\n",
              "    .colab-df-convert {\n",
              "      background-color: #E8F0FE;\n",
              "      border: none;\n",
              "      border-radius: 50%;\n",
              "      cursor: pointer;\n",
              "      display: none;\n",
              "      fill: #1967D2;\n",
              "      height: 32px;\n",
              "      padding: 0 0 0 0;\n",
              "      width: 32px;\n",
              "    }\n",
              "\n",
              "    .colab-df-convert:hover {\n",
              "      background-color: #E2EBFA;\n",
              "      box-shadow: 0px 1px 2px rgba(60, 64, 67, 0.3), 0px 1px 3px 1px rgba(60, 64, 67, 0.15);\n",
              "      fill: #174EA6;\n",
              "    }\n",
              "\n",
              "    [theme=dark] .colab-df-convert {\n",
              "      background-color: #3B4455;\n",
              "      fill: #D2E3FC;\n",
              "    }\n",
              "\n",
              "    [theme=dark] .colab-df-convert:hover {\n",
              "      background-color: #434B5C;\n",
              "      box-shadow: 0px 1px 3px 1px rgba(0, 0, 0, 0.15);\n",
              "      filter: drop-shadow(0px 1px 2px rgba(0, 0, 0, 0.3));\n",
              "      fill: #FFFFFF;\n",
              "    }\n",
              "  </style>\n",
              "\n",
              "      <script>\n",
              "        const buttonEl =\n",
              "          document.querySelector('#df-aed3dcc0-809b-463c-8d57-580d4c4e04fc button.colab-df-convert');\n",
              "        buttonEl.style.display =\n",
              "          google.colab.kernel.accessAllowed ? 'block' : 'none';\n",
              "\n",
              "        async function convertToInteractive(key) {\n",
              "          const element = document.querySelector('#df-aed3dcc0-809b-463c-8d57-580d4c4e04fc');\n",
              "          const dataTable =\n",
              "            await google.colab.kernel.invokeFunction('convertToInteractive',\n",
              "                                                     [key], {});\n",
              "          if (!dataTable) return;\n",
              "\n",
              "          const docLinkHtml = 'Like what you see? Visit the ' +\n",
              "            '<a target=\"_blank\" href=https://colab.research.google.com/notebooks/data_table.ipynb>data table notebook</a>'\n",
              "            + ' to learn more about interactive tables.';\n",
              "          element.innerHTML = '';\n",
              "          dataTable['output_type'] = 'display_data';\n",
              "          await google.colab.output.renderOutput(dataTable, element);\n",
              "          const docLink = document.createElement('div');\n",
              "          docLink.innerHTML = docLinkHtml;\n",
              "          element.appendChild(docLink);\n",
              "        }\n",
              "      </script>\n",
              "    </div>\n",
              "  </div>\n",
              "  "
            ]
          },
          "metadata": {},
          "execution_count": 46
        }
      ]
    },
    {
      "cell_type": "markdown",
      "source": [
        "- cummax, cummin, cumprod, cumsum"
      ],
      "metadata": {
        "id": "K0Wqd5vp9kQN"
      }
    },
    {
      "cell_type": "code",
      "source": [
        "# 정렬 : sort_values(정렬기준, axis = 축, ascending = True)\n",
        "my_df_2.sort_values(4, axis='columns', ascending=True)"
      ],
      "metadata": {
        "colab": {
          "base_uri": "https://localhost:8080/",
          "height": 423
        },
        "id": "QMo2EcCM9kIw",
        "outputId": "462ff5e7-0c34-4b9a-cfc7-69ec286ca691"
      },
      "execution_count": null,
      "outputs": [
        {
          "output_type": "execute_result",
          "data": {
            "text/plain": [
              "          col6      col4      col5\n",
              "0     0.578763  0.904962  0.762049\n",
              "1     0.621673  0.177220  0.548947\n",
              "2     0.233685  0.686555  0.753640\n",
              "3     0.594712  0.541838  0.112562\n",
              "4     0.103588  0.189953  0.895012\n",
              "...        ...       ...       ...\n",
              "4996  0.483386  0.582073  0.294390\n",
              "4997  0.652034  0.122577  0.653051\n",
              "4998  0.156146  0.872966  0.258623\n",
              "4999  0.977014  0.068941  0.642395\n",
              "5000  0.461770  0.947268  0.133776\n",
              "\n",
              "[5001 rows x 3 columns]"
            ],
            "text/html": [
              "\n",
              "  <div id=\"df-76360628-d3a7-4bcd-8bd7-373c0d4676ed\">\n",
              "    <div class=\"colab-df-container\">\n",
              "      <div>\n",
              "<style scoped>\n",
              "    .dataframe tbody tr th:only-of-type {\n",
              "        vertical-align: middle;\n",
              "    }\n",
              "\n",
              "    .dataframe tbody tr th {\n",
              "        vertical-align: top;\n",
              "    }\n",
              "\n",
              "    .dataframe thead th {\n",
              "        text-align: right;\n",
              "    }\n",
              "</style>\n",
              "<table border=\"1\" class=\"dataframe\">\n",
              "  <thead>\n",
              "    <tr style=\"text-align: right;\">\n",
              "      <th></th>\n",
              "      <th>col6</th>\n",
              "      <th>col4</th>\n",
              "      <th>col5</th>\n",
              "    </tr>\n",
              "  </thead>\n",
              "  <tbody>\n",
              "    <tr>\n",
              "      <th>0</th>\n",
              "      <td>0.578763</td>\n",
              "      <td>0.904962</td>\n",
              "      <td>0.762049</td>\n",
              "    </tr>\n",
              "    <tr>\n",
              "      <th>1</th>\n",
              "      <td>0.621673</td>\n",
              "      <td>0.177220</td>\n",
              "      <td>0.548947</td>\n",
              "    </tr>\n",
              "    <tr>\n",
              "      <th>2</th>\n",
              "      <td>0.233685</td>\n",
              "      <td>0.686555</td>\n",
              "      <td>0.753640</td>\n",
              "    </tr>\n",
              "    <tr>\n",
              "      <th>3</th>\n",
              "      <td>0.594712</td>\n",
              "      <td>0.541838</td>\n",
              "      <td>0.112562</td>\n",
              "    </tr>\n",
              "    <tr>\n",
              "      <th>4</th>\n",
              "      <td>0.103588</td>\n",
              "      <td>0.189953</td>\n",
              "      <td>0.895012</td>\n",
              "    </tr>\n",
              "    <tr>\n",
              "      <th>...</th>\n",
              "      <td>...</td>\n",
              "      <td>...</td>\n",
              "      <td>...</td>\n",
              "    </tr>\n",
              "    <tr>\n",
              "      <th>4996</th>\n",
              "      <td>0.483386</td>\n",
              "      <td>0.582073</td>\n",
              "      <td>0.294390</td>\n",
              "    </tr>\n",
              "    <tr>\n",
              "      <th>4997</th>\n",
              "      <td>0.652034</td>\n",
              "      <td>0.122577</td>\n",
              "      <td>0.653051</td>\n",
              "    </tr>\n",
              "    <tr>\n",
              "      <th>4998</th>\n",
              "      <td>0.156146</td>\n",
              "      <td>0.872966</td>\n",
              "      <td>0.258623</td>\n",
              "    </tr>\n",
              "    <tr>\n",
              "      <th>4999</th>\n",
              "      <td>0.977014</td>\n",
              "      <td>0.068941</td>\n",
              "      <td>0.642395</td>\n",
              "    </tr>\n",
              "    <tr>\n",
              "      <th>5000</th>\n",
              "      <td>0.461770</td>\n",
              "      <td>0.947268</td>\n",
              "      <td>0.133776</td>\n",
              "    </tr>\n",
              "  </tbody>\n",
              "</table>\n",
              "<p>5001 rows × 3 columns</p>\n",
              "</div>\n",
              "      <button class=\"colab-df-convert\" onclick=\"convertToInteractive('df-76360628-d3a7-4bcd-8bd7-373c0d4676ed')\"\n",
              "              title=\"Convert this dataframe to an interactive table.\"\n",
              "              style=\"display:none;\">\n",
              "        \n",
              "  <svg xmlns=\"http://www.w3.org/2000/svg\" height=\"24px\"viewBox=\"0 0 24 24\"\n",
              "       width=\"24px\">\n",
              "    <path d=\"M0 0h24v24H0V0z\" fill=\"none\"/>\n",
              "    <path d=\"M18.56 5.44l.94 2.06.94-2.06 2.06-.94-2.06-.94-.94-2.06-.94 2.06-2.06.94zm-11 1L8.5 8.5l.94-2.06 2.06-.94-2.06-.94L8.5 2.5l-.94 2.06-2.06.94zm10 10l.94 2.06.94-2.06 2.06-.94-2.06-.94-.94-2.06-.94 2.06-2.06.94z\"/><path d=\"M17.41 7.96l-1.37-1.37c-.4-.4-.92-.59-1.43-.59-.52 0-1.04.2-1.43.59L10.3 9.45l-7.72 7.72c-.78.78-.78 2.05 0 2.83L4 21.41c.39.39.9.59 1.41.59.51 0 1.02-.2 1.41-.59l7.78-7.78 2.81-2.81c.8-.78.8-2.07 0-2.86zM5.41 20L4 18.59l7.72-7.72 1.47 1.35L5.41 20z\"/>\n",
              "  </svg>\n",
              "      </button>\n",
              "      \n",
              "  <style>\n",
              "    .colab-df-container {\n",
              "      display:flex;\n",
              "      flex-wrap:wrap;\n",
              "      gap: 12px;\n",
              "    }\n",
              "\n",
              "    .colab-df-convert {\n",
              "      background-color: #E8F0FE;\n",
              "      border: none;\n",
              "      border-radius: 50%;\n",
              "      cursor: pointer;\n",
              "      display: none;\n",
              "      fill: #1967D2;\n",
              "      height: 32px;\n",
              "      padding: 0 0 0 0;\n",
              "      width: 32px;\n",
              "    }\n",
              "\n",
              "    .colab-df-convert:hover {\n",
              "      background-color: #E2EBFA;\n",
              "      box-shadow: 0px 1px 2px rgba(60, 64, 67, 0.3), 0px 1px 3px 1px rgba(60, 64, 67, 0.15);\n",
              "      fill: #174EA6;\n",
              "    }\n",
              "\n",
              "    [theme=dark] .colab-df-convert {\n",
              "      background-color: #3B4455;\n",
              "      fill: #D2E3FC;\n",
              "    }\n",
              "\n",
              "    [theme=dark] .colab-df-convert:hover {\n",
              "      background-color: #434B5C;\n",
              "      box-shadow: 0px 1px 3px 1px rgba(0, 0, 0, 0.15);\n",
              "      filter: drop-shadow(0px 1px 2px rgba(0, 0, 0, 0.3));\n",
              "      fill: #FFFFFF;\n",
              "    }\n",
              "  </style>\n",
              "\n",
              "      <script>\n",
              "        const buttonEl =\n",
              "          document.querySelector('#df-76360628-d3a7-4bcd-8bd7-373c0d4676ed button.colab-df-convert');\n",
              "        buttonEl.style.display =\n",
              "          google.colab.kernel.accessAllowed ? 'block' : 'none';\n",
              "\n",
              "        async function convertToInteractive(key) {\n",
              "          const element = document.querySelector('#df-76360628-d3a7-4bcd-8bd7-373c0d4676ed');\n",
              "          const dataTable =\n",
              "            await google.colab.kernel.invokeFunction('convertToInteractive',\n",
              "                                                     [key], {});\n",
              "          if (!dataTable) return;\n",
              "\n",
              "          const docLinkHtml = 'Like what you see? Visit the ' +\n",
              "            '<a target=\"_blank\" href=https://colab.research.google.com/notebooks/data_table.ipynb>data table notebook</a>'\n",
              "            + ' to learn more about interactive tables.';\n",
              "          element.innerHTML = '';\n",
              "          dataTable['output_type'] = 'display_data';\n",
              "          await google.colab.output.renderOutput(dataTable, element);\n",
              "          const docLink = document.createElement('div');\n",
              "          docLink.innerHTML = docLinkHtml;\n",
              "          element.appendChild(docLink);\n",
              "        }\n",
              "      </script>\n",
              "    </div>\n",
              "  </div>\n",
              "  "
            ]
          },
          "metadata": {},
          "execution_count": 48
        }
      ]
    },
    {
      "cell_type": "code",
      "source": [
        "# rank : 특정 axis 기준으로 랭킹 매기기\n",
        "my_df_2.rank(axis=0, ascending=False)"
      ],
      "metadata": {
        "colab": {
          "base_uri": "https://localhost:8080/",
          "height": 423
        },
        "id": "MDQdA35o9kGS",
        "outputId": "9923f2f1-15b7-4572-e6e5-d7c5c401f341"
      },
      "execution_count": null,
      "outputs": [
        {
          "output_type": "execute_result",
          "data": {
            "text/plain": [
              "        col4    col5    col6\n",
              "0      466.0  1205.0  2129.0\n",
              "1     4100.0  2308.0  1925.0\n",
              "2     1514.0  1253.0  3825.0\n",
              "3     2234.0  4427.0  2051.0\n",
              "4     4029.0   536.0  4501.0\n",
              "...      ...     ...     ...\n",
              "4996  2034.0  3547.0  2600.0\n",
              "4997  4395.0  1771.0  1780.0\n",
              "4998   619.0  3715.0  4248.0\n",
              "4999  4653.0  1818.0   118.0\n",
              "5000   250.0  4300.0  2716.0\n",
              "\n",
              "[5001 rows x 3 columns]"
            ],
            "text/html": [
              "\n",
              "  <div id=\"df-524098c2-2d53-464d-b6b3-b0e2628c62c5\">\n",
              "    <div class=\"colab-df-container\">\n",
              "      <div>\n",
              "<style scoped>\n",
              "    .dataframe tbody tr th:only-of-type {\n",
              "        vertical-align: middle;\n",
              "    }\n",
              "\n",
              "    .dataframe tbody tr th {\n",
              "        vertical-align: top;\n",
              "    }\n",
              "\n",
              "    .dataframe thead th {\n",
              "        text-align: right;\n",
              "    }\n",
              "</style>\n",
              "<table border=\"1\" class=\"dataframe\">\n",
              "  <thead>\n",
              "    <tr style=\"text-align: right;\">\n",
              "      <th></th>\n",
              "      <th>col4</th>\n",
              "      <th>col5</th>\n",
              "      <th>col6</th>\n",
              "    </tr>\n",
              "  </thead>\n",
              "  <tbody>\n",
              "    <tr>\n",
              "      <th>0</th>\n",
              "      <td>466.0</td>\n",
              "      <td>1205.0</td>\n",
              "      <td>2129.0</td>\n",
              "    </tr>\n",
              "    <tr>\n",
              "      <th>1</th>\n",
              "      <td>4100.0</td>\n",
              "      <td>2308.0</td>\n",
              "      <td>1925.0</td>\n",
              "    </tr>\n",
              "    <tr>\n",
              "      <th>2</th>\n",
              "      <td>1514.0</td>\n",
              "      <td>1253.0</td>\n",
              "      <td>3825.0</td>\n",
              "    </tr>\n",
              "    <tr>\n",
              "      <th>3</th>\n",
              "      <td>2234.0</td>\n",
              "      <td>4427.0</td>\n",
              "      <td>2051.0</td>\n",
              "    </tr>\n",
              "    <tr>\n",
              "      <th>4</th>\n",
              "      <td>4029.0</td>\n",
              "      <td>536.0</td>\n",
              "      <td>4501.0</td>\n",
              "    </tr>\n",
              "    <tr>\n",
              "      <th>...</th>\n",
              "      <td>...</td>\n",
              "      <td>...</td>\n",
              "      <td>...</td>\n",
              "    </tr>\n",
              "    <tr>\n",
              "      <th>4996</th>\n",
              "      <td>2034.0</td>\n",
              "      <td>3547.0</td>\n",
              "      <td>2600.0</td>\n",
              "    </tr>\n",
              "    <tr>\n",
              "      <th>4997</th>\n",
              "      <td>4395.0</td>\n",
              "      <td>1771.0</td>\n",
              "      <td>1780.0</td>\n",
              "    </tr>\n",
              "    <tr>\n",
              "      <th>4998</th>\n",
              "      <td>619.0</td>\n",
              "      <td>3715.0</td>\n",
              "      <td>4248.0</td>\n",
              "    </tr>\n",
              "    <tr>\n",
              "      <th>4999</th>\n",
              "      <td>4653.0</td>\n",
              "      <td>1818.0</td>\n",
              "      <td>118.0</td>\n",
              "    </tr>\n",
              "    <tr>\n",
              "      <th>5000</th>\n",
              "      <td>250.0</td>\n",
              "      <td>4300.0</td>\n",
              "      <td>2716.0</td>\n",
              "    </tr>\n",
              "  </tbody>\n",
              "</table>\n",
              "<p>5001 rows × 3 columns</p>\n",
              "</div>\n",
              "      <button class=\"colab-df-convert\" onclick=\"convertToInteractive('df-524098c2-2d53-464d-b6b3-b0e2628c62c5')\"\n",
              "              title=\"Convert this dataframe to an interactive table.\"\n",
              "              style=\"display:none;\">\n",
              "        \n",
              "  <svg xmlns=\"http://www.w3.org/2000/svg\" height=\"24px\"viewBox=\"0 0 24 24\"\n",
              "       width=\"24px\">\n",
              "    <path d=\"M0 0h24v24H0V0z\" fill=\"none\"/>\n",
              "    <path d=\"M18.56 5.44l.94 2.06.94-2.06 2.06-.94-2.06-.94-.94-2.06-.94 2.06-2.06.94zm-11 1L8.5 8.5l.94-2.06 2.06-.94-2.06-.94L8.5 2.5l-.94 2.06-2.06.94zm10 10l.94 2.06.94-2.06 2.06-.94-2.06-.94-.94-2.06-.94 2.06-2.06.94z\"/><path d=\"M17.41 7.96l-1.37-1.37c-.4-.4-.92-.59-1.43-.59-.52 0-1.04.2-1.43.59L10.3 9.45l-7.72 7.72c-.78.78-.78 2.05 0 2.83L4 21.41c.39.39.9.59 1.41.59.51 0 1.02-.2 1.41-.59l7.78-7.78 2.81-2.81c.8-.78.8-2.07 0-2.86zM5.41 20L4 18.59l7.72-7.72 1.47 1.35L5.41 20z\"/>\n",
              "  </svg>\n",
              "      </button>\n",
              "      \n",
              "  <style>\n",
              "    .colab-df-container {\n",
              "      display:flex;\n",
              "      flex-wrap:wrap;\n",
              "      gap: 12px;\n",
              "    }\n",
              "\n",
              "    .colab-df-convert {\n",
              "      background-color: #E8F0FE;\n",
              "      border: none;\n",
              "      border-radius: 50%;\n",
              "      cursor: pointer;\n",
              "      display: none;\n",
              "      fill: #1967D2;\n",
              "      height: 32px;\n",
              "      padding: 0 0 0 0;\n",
              "      width: 32px;\n",
              "    }\n",
              "\n",
              "    .colab-df-convert:hover {\n",
              "      background-color: #E2EBFA;\n",
              "      box-shadow: 0px 1px 2px rgba(60, 64, 67, 0.3), 0px 1px 3px 1px rgba(60, 64, 67, 0.15);\n",
              "      fill: #174EA6;\n",
              "    }\n",
              "\n",
              "    [theme=dark] .colab-df-convert {\n",
              "      background-color: #3B4455;\n",
              "      fill: #D2E3FC;\n",
              "    }\n",
              "\n",
              "    [theme=dark] .colab-df-convert:hover {\n",
              "      background-color: #434B5C;\n",
              "      box-shadow: 0px 1px 3px 1px rgba(0, 0, 0, 0.15);\n",
              "      filter: drop-shadow(0px 1px 2px rgba(0, 0, 0, 0.3));\n",
              "      fill: #FFFFFF;\n",
              "    }\n",
              "  </style>\n",
              "\n",
              "      <script>\n",
              "        const buttonEl =\n",
              "          document.querySelector('#df-524098c2-2d53-464d-b6b3-b0e2628c62c5 button.colab-df-convert');\n",
              "        buttonEl.style.display =\n",
              "          google.colab.kernel.accessAllowed ? 'block' : 'none';\n",
              "\n",
              "        async function convertToInteractive(key) {\n",
              "          const element = document.querySelector('#df-524098c2-2d53-464d-b6b3-b0e2628c62c5');\n",
              "          const dataTable =\n",
              "            await google.colab.kernel.invokeFunction('convertToInteractive',\n",
              "                                                     [key], {});\n",
              "          if (!dataTable) return;\n",
              "\n",
              "          const docLinkHtml = 'Like what you see? Visit the ' +\n",
              "            '<a target=\"_blank\" href=https://colab.research.google.com/notebooks/data_table.ipynb>data table notebook</a>'\n",
              "            + ' to learn more about interactive tables.';\n",
              "          element.innerHTML = '';\n",
              "          dataTable['output_type'] = 'display_data';\n",
              "          await google.colab.output.renderOutput(dataTable, element);\n",
              "          const docLink = document.createElement('div');\n",
              "          docLink.innerHTML = docLinkHtml;\n",
              "          element.appendChild(docLink);\n",
              "        }\n",
              "      </script>\n",
              "    </div>\n",
              "  </div>\n",
              "  "
            ]
          },
          "metadata": {},
          "execution_count": 49
        }
      ]
    },
    {
      "cell_type": "code",
      "source": [
        "# 새로운 행,열 추가하기\n",
        "my_df_2.loc[:,'new'] = np.nan   # 새로운 열 추가\n",
        "my_df_2.loc[:,'new'] = range(0,5001)  # 새로운 행 추가\n",
        "my_df_2.loc[:,'new2'] = 1 # 숫자 하나만 주면 broadcast 됨\n",
        "my_df_2"
      ],
      "metadata": {
        "colab": {
          "base_uri": "https://localhost:8080/",
          "height": 479
        },
        "id": "e97OTgLq9kEG",
        "outputId": "2c28b0b8-b90d-4fce-910c-22fb597e22da"
      },
      "execution_count": null,
      "outputs": [
        {
          "output_type": "stream",
          "name": "stderr",
          "text": [
            "<ipython-input-55-51314dd88359>:3: DeprecationWarning: In a future version, `df.iloc[:, i] = newvals` will attempt to set the values inplace instead of always setting a new array. To retain the old behavior, use either `df[df.columns[i]] = newvals` or, if columns are non-unique, `df.isetitem(i, newvals)`\n",
            "  my_df_2.loc[:,'new'] = range(0,5001)  # 새로운 행 추가\n"
          ]
        },
        {
          "output_type": "execute_result",
          "data": {
            "text/plain": [
              "          col4      col5      col6   new  new2\n",
              "0     0.904962  0.762049  0.578763     0     1\n",
              "1     0.177220  0.548947  0.621673     1     1\n",
              "2     0.686555  0.753640  0.233685     2     1\n",
              "3     0.541838  0.112562  0.594712     3     1\n",
              "4     0.189953  0.895012  0.103588     4     1\n",
              "...        ...       ...       ...   ...   ...\n",
              "4996  0.582073  0.294390  0.483386  4996     1\n",
              "4997  0.122577  0.653051  0.652034  4997     1\n",
              "4998  0.872966  0.258623  0.156146  4998     1\n",
              "4999  0.068941  0.642395  0.977014  4999     1\n",
              "5000  0.947268  0.133776  0.461770  5000     1\n",
              "\n",
              "[5001 rows x 5 columns]"
            ],
            "text/html": [
              "\n",
              "  <div id=\"df-a1c17618-5fe7-4f1f-a515-5a02a472b7da\">\n",
              "    <div class=\"colab-df-container\">\n",
              "      <div>\n",
              "<style scoped>\n",
              "    .dataframe tbody tr th:only-of-type {\n",
              "        vertical-align: middle;\n",
              "    }\n",
              "\n",
              "    .dataframe tbody tr th {\n",
              "        vertical-align: top;\n",
              "    }\n",
              "\n",
              "    .dataframe thead th {\n",
              "        text-align: right;\n",
              "    }\n",
              "</style>\n",
              "<table border=\"1\" class=\"dataframe\">\n",
              "  <thead>\n",
              "    <tr style=\"text-align: right;\">\n",
              "      <th></th>\n",
              "      <th>col4</th>\n",
              "      <th>col5</th>\n",
              "      <th>col6</th>\n",
              "      <th>new</th>\n",
              "      <th>new2</th>\n",
              "    </tr>\n",
              "  </thead>\n",
              "  <tbody>\n",
              "    <tr>\n",
              "      <th>0</th>\n",
              "      <td>0.904962</td>\n",
              "      <td>0.762049</td>\n",
              "      <td>0.578763</td>\n",
              "      <td>0</td>\n",
              "      <td>1</td>\n",
              "    </tr>\n",
              "    <tr>\n",
              "      <th>1</th>\n",
              "      <td>0.177220</td>\n",
              "      <td>0.548947</td>\n",
              "      <td>0.621673</td>\n",
              "      <td>1</td>\n",
              "      <td>1</td>\n",
              "    </tr>\n",
              "    <tr>\n",
              "      <th>2</th>\n",
              "      <td>0.686555</td>\n",
              "      <td>0.753640</td>\n",
              "      <td>0.233685</td>\n",
              "      <td>2</td>\n",
              "      <td>1</td>\n",
              "    </tr>\n",
              "    <tr>\n",
              "      <th>3</th>\n",
              "      <td>0.541838</td>\n",
              "      <td>0.112562</td>\n",
              "      <td>0.594712</td>\n",
              "      <td>3</td>\n",
              "      <td>1</td>\n",
              "    </tr>\n",
              "    <tr>\n",
              "      <th>4</th>\n",
              "      <td>0.189953</td>\n",
              "      <td>0.895012</td>\n",
              "      <td>0.103588</td>\n",
              "      <td>4</td>\n",
              "      <td>1</td>\n",
              "    </tr>\n",
              "    <tr>\n",
              "      <th>...</th>\n",
              "      <td>...</td>\n",
              "      <td>...</td>\n",
              "      <td>...</td>\n",
              "      <td>...</td>\n",
              "      <td>...</td>\n",
              "    </tr>\n",
              "    <tr>\n",
              "      <th>4996</th>\n",
              "      <td>0.582073</td>\n",
              "      <td>0.294390</td>\n",
              "      <td>0.483386</td>\n",
              "      <td>4996</td>\n",
              "      <td>1</td>\n",
              "    </tr>\n",
              "    <tr>\n",
              "      <th>4997</th>\n",
              "      <td>0.122577</td>\n",
              "      <td>0.653051</td>\n",
              "      <td>0.652034</td>\n",
              "      <td>4997</td>\n",
              "      <td>1</td>\n",
              "    </tr>\n",
              "    <tr>\n",
              "      <th>4998</th>\n",
              "      <td>0.872966</td>\n",
              "      <td>0.258623</td>\n",
              "      <td>0.156146</td>\n",
              "      <td>4998</td>\n",
              "      <td>1</td>\n",
              "    </tr>\n",
              "    <tr>\n",
              "      <th>4999</th>\n",
              "      <td>0.068941</td>\n",
              "      <td>0.642395</td>\n",
              "      <td>0.977014</td>\n",
              "      <td>4999</td>\n",
              "      <td>1</td>\n",
              "    </tr>\n",
              "    <tr>\n",
              "      <th>5000</th>\n",
              "      <td>0.947268</td>\n",
              "      <td>0.133776</td>\n",
              "      <td>0.461770</td>\n",
              "      <td>5000</td>\n",
              "      <td>1</td>\n",
              "    </tr>\n",
              "  </tbody>\n",
              "</table>\n",
              "<p>5001 rows × 5 columns</p>\n",
              "</div>\n",
              "      <button class=\"colab-df-convert\" onclick=\"convertToInteractive('df-a1c17618-5fe7-4f1f-a515-5a02a472b7da')\"\n",
              "              title=\"Convert this dataframe to an interactive table.\"\n",
              "              style=\"display:none;\">\n",
              "        \n",
              "  <svg xmlns=\"http://www.w3.org/2000/svg\" height=\"24px\"viewBox=\"0 0 24 24\"\n",
              "       width=\"24px\">\n",
              "    <path d=\"M0 0h24v24H0V0z\" fill=\"none\"/>\n",
              "    <path d=\"M18.56 5.44l.94 2.06.94-2.06 2.06-.94-2.06-.94-.94-2.06-.94 2.06-2.06.94zm-11 1L8.5 8.5l.94-2.06 2.06-.94-2.06-.94L8.5 2.5l-.94 2.06-2.06.94zm10 10l.94 2.06.94-2.06 2.06-.94-2.06-.94-.94-2.06-.94 2.06-2.06.94z\"/><path d=\"M17.41 7.96l-1.37-1.37c-.4-.4-.92-.59-1.43-.59-.52 0-1.04.2-1.43.59L10.3 9.45l-7.72 7.72c-.78.78-.78 2.05 0 2.83L4 21.41c.39.39.9.59 1.41.59.51 0 1.02-.2 1.41-.59l7.78-7.78 2.81-2.81c.8-.78.8-2.07 0-2.86zM5.41 20L4 18.59l7.72-7.72 1.47 1.35L5.41 20z\"/>\n",
              "  </svg>\n",
              "      </button>\n",
              "      \n",
              "  <style>\n",
              "    .colab-df-container {\n",
              "      display:flex;\n",
              "      flex-wrap:wrap;\n",
              "      gap: 12px;\n",
              "    }\n",
              "\n",
              "    .colab-df-convert {\n",
              "      background-color: #E8F0FE;\n",
              "      border: none;\n",
              "      border-radius: 50%;\n",
              "      cursor: pointer;\n",
              "      display: none;\n",
              "      fill: #1967D2;\n",
              "      height: 32px;\n",
              "      padding: 0 0 0 0;\n",
              "      width: 32px;\n",
              "    }\n",
              "\n",
              "    .colab-df-convert:hover {\n",
              "      background-color: #E2EBFA;\n",
              "      box-shadow: 0px 1px 2px rgba(60, 64, 67, 0.3), 0px 1px 3px 1px rgba(60, 64, 67, 0.15);\n",
              "      fill: #174EA6;\n",
              "    }\n",
              "\n",
              "    [theme=dark] .colab-df-convert {\n",
              "      background-color: #3B4455;\n",
              "      fill: #D2E3FC;\n",
              "    }\n",
              "\n",
              "    [theme=dark] .colab-df-convert:hover {\n",
              "      background-color: #434B5C;\n",
              "      box-shadow: 0px 1px 3px 1px rgba(0, 0, 0, 0.15);\n",
              "      filter: drop-shadow(0px 1px 2px rgba(0, 0, 0, 0.3));\n",
              "      fill: #FFFFFF;\n",
              "    }\n",
              "  </style>\n",
              "\n",
              "      <script>\n",
              "        const buttonEl =\n",
              "          document.querySelector('#df-a1c17618-5fe7-4f1f-a515-5a02a472b7da button.colab-df-convert');\n",
              "        buttonEl.style.display =\n",
              "          google.colab.kernel.accessAllowed ? 'block' : 'none';\n",
              "\n",
              "        async function convertToInteractive(key) {\n",
              "          const element = document.querySelector('#df-a1c17618-5fe7-4f1f-a515-5a02a472b7da');\n",
              "          const dataTable =\n",
              "            await google.colab.kernel.invokeFunction('convertToInteractive',\n",
              "                                                     [key], {});\n",
              "          if (!dataTable) return;\n",
              "\n",
              "          const docLinkHtml = 'Like what you see? Visit the ' +\n",
              "            '<a target=\"_blank\" href=https://colab.research.google.com/notebooks/data_table.ipynb>data table notebook</a>'\n",
              "            + ' to learn more about interactive tables.';\n",
              "          element.innerHTML = '';\n",
              "          dataTable['output_type'] = 'display_data';\n",
              "          await google.colab.output.renderOutput(dataTable, element);\n",
              "          const docLink = document.createElement('div');\n",
              "          docLink.innerHTML = docLinkHtml;\n",
              "          element.appendChild(docLink);\n",
              "        }\n",
              "      </script>\n",
              "    </div>\n",
              "  </div>\n",
              "  "
            ]
          },
          "metadata": {},
          "execution_count": 55
        }
      ]
    },
    {
      "cell_type": "markdown",
      "source": [
        "## 참고\n",
        "- concat : 데이터프레임 병합\n",
        "  - 0 또는 index : 행 방향 병합\n",
        "  - 1 또는 column : 열 방향 병합\n",
        "\n",
        "```\n",
        "df.concat([df_a, df_b]), axis = 0/1)\n",
        "```\n",
        "\n",
        "\n",
        "- groupby : 특정 인덱스, 컬럼의 값별로 그룹핑하여 Aggregation 수행\n",
        "  - Aggregation : sum(), count(), mean(), max() 등\n",
        "\n",
        "\n",
        "```\n",
        "groupby(by = 집계대상, axis = 집계축).Aggregation\n",
        "```\n",
        "\n",
        "- query : 작성한 쿼리문으로 dataframe 필터링하여 추출\n",
        "\n",
        "\n",
        "```\n",
        "my_df.query('col1' == 'A' and 'col2' > 10)\n",
        "```\n",
        "\n",
        "- set_index, reset_index : 인덱스를 잡거나 푼다\n",
        "- fillna : NaN 결측치를 채운다 (method 인자)\n",
        "- drop : 특정 row, column 지우는 함수\n",
        "\n",
        "\n",
        "```\n",
        "my_df.drop(index = [지울 인덱스], columns = [지울 컬럼])\n",
        "my_df.dropna(axis = 0, how = 'any')\n",
        "```\n"
      ],
      "metadata": {
        "id": "2_7rcZQj_Uha"
      }
    }
  ]
}