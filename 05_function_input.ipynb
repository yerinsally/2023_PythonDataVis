{
  "nbformat": 4,
  "nbformat_minor": 0,
  "metadata": {
    "colab": {
      "provenance": [],
      "authorship_tag": "ABX9TyMcfAJr7dsZPOVLzczXBN+I",
      "include_colab_link": true
    },
    "kernelspec": {
      "name": "python3",
      "display_name": "Python 3"
    },
    "language_info": {
      "name": "python"
    }
  },
  "cells": [
    {
      "cell_type": "markdown",
      "metadata": {
        "id": "view-in-github",
        "colab_type": "text"
      },
      "source": [
        "<a href=\"https://colab.research.google.com/github/yerinsally/2023_PythonDataVis/blob/main/05_function_input.ipynb\" target=\"_parent\"><img src=\"https://colab.research.google.com/assets/colab-badge.svg\" alt=\"Open In Colab\"/></a>"
      ]
    },
    {
      "cell_type": "markdown",
      "source": [
        "# 함수 function\n",
        "\n",
        "\n",
        "```\n",
        "def 함수명(매개변수):\n",
        "  수행할 문장1\n",
        "  수행할 문장2\n",
        "```\n",
        "\n"
      ],
      "metadata": {
        "id": "bI3kW39-P7MN"
      }
    },
    {
      "cell_type": "code",
      "execution_count": null,
      "metadata": {
        "id": "0B2l0ZmSP3OX",
        "colab": {
          "base_uri": "https://localhost:8080/"
        },
        "outputId": "54786fe9-4994-4312-d088-99be5b8a72c3"
      },
      "outputs": [
        {
          "output_type": "stream",
          "name": "stdout",
          "text": [
            "7\n"
          ]
        }
      ],
      "source": [
        "def add(a,b):\n",
        "    return a+b\n",
        "\n",
        "a = 3\n",
        "b = 4\n",
        "c = add(a,b)\n",
        "print(c)"
      ]
    },
    {
      "cell_type": "markdown",
      "source": [
        "## 매개변수 & 인수"
      ],
      "metadata": {
        "id": "7K_t6Lpi5QLV"
      }
    },
    {
      "cell_type": "code",
      "source": [
        "def add(a,b):   # a,b = 매개변수\n",
        "  return a+b\n",
        "print(add(3,4)) # 3,4 = 인수"
      ],
      "metadata": {
        "colab": {
          "base_uri": "https://localhost:8080/"
        },
        "id": "jVScZqiC6dz0",
        "outputId": "c9440d86-a50a-43d9-d206-39b5e7f432d1"
      },
      "execution_count": null,
      "outputs": [
        {
          "output_type": "stream",
          "name": "stdout",
          "text": [
            "7\n"
          ]
        }
      ]
    },
    {
      "cell_type": "code",
      "source": [
        "a = 3\n",
        "b = 4\n",
        "def add(a, b):\n",
        "    result = a + b\n",
        "    return(result)\n",
        "\n",
        "a = add(a, b)\n",
        "print(a)"
      ],
      "metadata": {
        "id": "oD5cjQVPQId_",
        "colab": {
          "base_uri": "https://localhost:8080/"
        },
        "outputId": "75bf2316-7053-4c40-abfb-24d209ba8b97"
      },
      "execution_count": null,
      "outputs": [
        {
          "output_type": "stream",
          "name": "stdout",
          "text": [
            "7\n"
          ]
        }
      ]
    },
    {
      "cell_type": "code",
      "source": [
        "# 입력값이 없는 함수\n",
        "def say():\n",
        "    return('Hi')\n",
        "a = say()\n",
        "print(a)"
      ],
      "metadata": {
        "id": "FGCl1KRbRBJC",
        "colab": {
          "base_uri": "https://localhost:8080/"
        },
        "outputId": "21d19dfd-e651-4f3a-efa5-bcba5cc4f2f3"
      },
      "execution_count": null,
      "outputs": [
        {
          "output_type": "stream",
          "name": "stdout",
          "text": [
            "Hi\n"
          ]
        }
      ]
    },
    {
      "cell_type": "code",
      "source": [
        "# 리턴값이 없는 함수\n",
        "def add(a, b):\n",
        "    print('%d, %d의 합은 %d입니다.' %(a, b, a+b))\n",
        "add(3,4)"
      ],
      "metadata": {
        "colab": {
          "base_uri": "https://localhost:8080/"
        },
        "id": "5T1CyCGzRV14",
        "outputId": "385b586d-bfcd-4c47-ed80-da2a6472bf4d"
      },
      "execution_count": null,
      "outputs": [
        {
          "output_type": "stream",
          "name": "stdout",
          "text": [
            "3, 4의 합은 7입니다.\n"
          ]
        }
      ]
    },
    {
      "cell_type": "code",
      "source": [
        "a = add(3,4)\n",
        "print(a)  # return으로 받은 값 없음"
      ],
      "metadata": {
        "colab": {
          "base_uri": "https://localhost:8080/"
        },
        "id": "9tBglI-fRxvT",
        "outputId": "c1c42033-ea67-433a-b01e-55e4d7539314"
      },
      "execution_count": null,
      "outputs": [
        {
          "output_type": "stream",
          "name": "stdout",
          "text": [
            "3, 4의 합은 7입니다.\n",
            "None\n"
          ]
        }
      ]
    },
    {
      "cell_type": "code",
      "source": [
        "# 매개변수 지정하여 호출하기\n",
        "def sub(a, b):\n",
        "    return a-b\n",
        "result = sub(a=7, b=4) # 매개변수에 값 대입\n",
        "print(result)"
      ],
      "metadata": {
        "colab": {
          "base_uri": "https://localhost:8080/"
        },
        "id": "DvCEVOq2SGwW",
        "outputId": "dec8bc21-5705-4967-f671-6aefeb05a321"
      },
      "execution_count": null,
      "outputs": [
        {
          "output_type": "stream",
          "name": "stdout",
          "text": [
            "3\n"
          ]
        }
      ]
    },
    {
      "cell_type": "code",
      "source": [
        "# 입력값이 몇개가 될지 모르는 경우 : *args\n",
        "# def 함수이름(*매개변수): 수행할 문장\n",
        "from ast import Return\n",
        "def add_many(*args):\n",
        "    result = 0\n",
        "    for i in args:\n",
        "      result = result + i\n",
        "    return(result)\n",
        "\n",
        "result = add_many(1,3,5,7)\n",
        "print(result)"
      ],
      "metadata": {
        "colab": {
          "base_uri": "https://localhost:8080/"
        },
        "id": "74-OonbnSeZp",
        "outputId": "ba974a8f-ad81-4dad-a5f5-a35fbd6c004f"
      },
      "execution_count": null,
      "outputs": [
        {
          "output_type": "stream",
          "name": "stdout",
          "text": [
            "16\n"
          ]
        }
      ]
    },
    {
      "cell_type": "markdown",
      "source": [
        "*args처럼 매개변수 이름 앞에 *을 붙이면 입력값을 전부 모아서 튜플로 만들어 줌"
      ],
      "metadata": {
        "id": "ymfNVvPv8E15"
      }
    },
    {
      "cell_type": "code",
      "source": [
        "result = add_many(1,2,3,4,5,6,7,8,9,10)\n",
        "print(result)"
      ],
      "metadata": {
        "colab": {
          "base_uri": "https://localhost:8080/"
        },
        "id": "IxQ4fKHKTVdl",
        "outputId": "bc9b5029-1be2-42fb-d03d-c14b47edd7b1"
      },
      "execution_count": null,
      "outputs": [
        {
          "output_type": "stream",
          "name": "stdout",
          "text": [
            "55\n"
          ]
        }
      ]
    },
    {
      "cell_type": "code",
      "source": [
        "def add_mul(choice, *args):\n",
        "    if choice == \"add\":\n",
        "      result = 0\n",
        "      for i in args:\n",
        "        result = result + i\n",
        "    elif choice == \"mul\":\n",
        "      result = 1\n",
        "      for i in args:\n",
        "        result = result * i\n",
        "    return result\n",
        "\n",
        "result = add_mul('add', 1,2,3,4,5)\n",
        "print(result)\n",
        "\n",
        "result = add_mul('mul', 12,10,4,8,3)\n",
        "print(result)"
      ],
      "metadata": {
        "id": "DGWLBN11TbGg",
        "colab": {
          "base_uri": "https://localhost:8080/"
        },
        "outputId": "9282366c-ee2e-4768-9445-f2db63b7c3d9"
      },
      "execution_count": null,
      "outputs": [
        {
          "output_type": "stream",
          "name": "stdout",
          "text": [
            "15\n",
            "11520\n"
          ]
        }
      ]
    },
    {
      "cell_type": "code",
      "source": [
        "# 키워드 매개변수 : **kwargs\n",
        "def print_kwargs(**kwargs):\n",
        "    print(kwargs)\n",
        "\n",
        "print_kwargs(a=1)\n",
        "print_kwargs(name='foo', age=3, city='Seoul')"
      ],
      "metadata": {
        "colab": {
          "base_uri": "https://localhost:8080/"
        },
        "id": "v0SZorACUBmI",
        "outputId": "b9b9b815-eb61-4c43-ce6e-fdd161e74542"
      },
      "execution_count": null,
      "outputs": [
        {
          "output_type": "stream",
          "name": "stdout",
          "text": [
            "{'a': 1}\n",
            "{'name': 'foo', 'age': 3, 'city': 'Seoul'}\n"
          ]
        }
      ]
    },
    {
      "cell_type": "code",
      "source": [
        "def add_and_mul(a,b):\n",
        "    return a+b, a*b\n",
        "result = add_and_mul(3,4)\n",
        "print(result)"
      ],
      "metadata": {
        "colab": {
          "base_uri": "https://localhost:8080/"
        },
        "id": "ujCBJFBXU3I1",
        "outputId": "08f7a408-6c62-4d56-ef52-ff99a205452c"
      },
      "execution_count": null,
      "outputs": [
        {
          "output_type": "stream",
          "name": "stdout",
          "text": [
            "(7, 12)\n"
          ]
        }
      ]
    },
    {
      "cell_type": "markdown",
      "source": [
        "함수의 리턴값은 언제나 하나 : 튜플값 하나인 (a+b, a*b)로 리턴"
      ],
      "metadata": {
        "id": "Hvlzj4fG9EDy"
      }
    },
    {
      "cell_type": "code",
      "source": [
        "result1, result2 = add_and_mul(3,4)\n",
        "print(result1, result2)"
      ],
      "metadata": {
        "colab": {
          "base_uri": "https://localhost:8080/"
        },
        "id": "BdBhZyeMVBdu",
        "outputId": "c073ec3c-c7ca-41d8-9522-93c9266095f0"
      },
      "execution_count": null,
      "outputs": [
        {
          "output_type": "stream",
          "name": "stdout",
          "text": [
            "7 12\n"
          ]
        }
      ]
    },
    {
      "cell_type": "code",
      "source": [
        "def add_and_mul(a,b):\n",
        "    return a+b\n",
        "    return a*b\n",
        "\n",
        "add_and_mul(3,4) # 첫번째만 출력됨"
      ],
      "metadata": {
        "colab": {
          "base_uri": "https://localhost:8080/"
        },
        "id": "kaMK1Aa4VGYp",
        "outputId": "c7241afc-0246-410f-84c5-490ed8129fe0"
      },
      "execution_count": null,
      "outputs": [
        {
          "output_type": "execute_result",
          "data": {
            "text/plain": [
              "7"
            ]
          },
          "metadata": {},
          "execution_count": 21
        }
      ]
    },
    {
      "cell_type": "code",
      "source": [
        "# 매개변수에 초깃값 미리 설정하기\n",
        "def say_myself(name, age, man=True):\n",
        "    print('나의 이름은 %s입니다.' %name)\n",
        "    print('나이는 %d살입니다.' %age)\n",
        "    if man:\n",
        "      print('남자입니다.')\n",
        "    else:\n",
        "      print('여자입니다.')\n",
        "\n",
        "say_myself(\"박응용\", 27, True)\n",
        "say_myself('김숙명', 20, False)"
      ],
      "metadata": {
        "id": "0-gbJTksVXGO",
        "colab": {
          "base_uri": "https://localhost:8080/"
        },
        "outputId": "dc37dac0-82c0-4b0f-a457-300e30d3653e"
      },
      "execution_count": null,
      "outputs": [
        {
          "output_type": "stream",
          "name": "stdout",
          "text": [
            "나의 이름은 박응용입니다.\n",
            "나이는 27살입니다.\n",
            "남자입니다.\n",
            "나의 이름은 김숙명입니다.\n",
            "나이는 20살입니다.\n",
            "여자입니다.\n"
          ]
        }
      ]
    },
    {
      "cell_type": "code",
      "source": [
        "# 함수 안에서 선언한 변수의 효력 범위\n",
        "a = 1\n",
        "def vartest(a):\n",
        "    a = a+1\n",
        "\n",
        "vartest(a)\n",
        "print(a)"
      ],
      "metadata": {
        "colab": {
          "base_uri": "https://localhost:8080/"
        },
        "id": "Gd0ehUnqWG5K",
        "outputId": "f0aa7616-0439-420e-d323-bf53f333e4de"
      },
      "execution_count": null,
      "outputs": [
        {
          "output_type": "stream",
          "name": "stdout",
          "text": [
            "1\n"
          ]
        }
      ]
    },
    {
      "cell_type": "markdown",
      "source": [
        "함수 안에서 사용하는 매개변수는 함수 안에서만 사용하는 \"함수만의 변수\"이기 때문"
      ],
      "metadata": {
        "id": "dGNRbBsU9_Ws"
      }
    },
    {
      "cell_type": "code",
      "source": [
        "def vartest(hello):\n",
        "    hello = hello + 1\n",
        "\n",
        "a = 3\n",
        "vartest(a)\n",
        "print(a)"
      ],
      "metadata": {
        "colab": {
          "base_uri": "https://localhost:8080/"
        },
        "id": "Ug2d2E8jWhuO",
        "outputId": "b26163a8-9f48-4be7-c42d-8e46514b96c6"
      },
      "execution_count": null,
      "outputs": [
        {
          "output_type": "stream",
          "name": "stdout",
          "text": [
            "3\n"
          ]
        }
      ]
    },
    {
      "cell_type": "code",
      "source": [
        "# 함수 안에서 함수 밖의 변수를 변경하는 방법\n",
        "# return\n",
        "a = 1\n",
        "def vartest(a):\n",
        "    a = a+1\n",
        "    return a\n",
        "\n",
        "a = vartest(a)\n",
        "print(a)\n",
        "\n",
        "# global\n",
        "a = 1\n",
        "def vartest():\n",
        "    global a\n",
        "    a = a+1\n",
        "\n",
        "vartest()\n",
        "print(a)"
      ],
      "metadata": {
        "colab": {
          "base_uri": "https://localhost:8080/"
        },
        "id": "zWZ57H_gXK6_",
        "outputId": "dcc67dc8-7e79-4db5-8304-f9c2ff2176c0"
      },
      "execution_count": null,
      "outputs": [
        {
          "output_type": "stream",
          "name": "stdout",
          "text": [
            "2\n",
            "2\n"
          ]
        }
      ]
    },
    {
      "cell_type": "code",
      "source": [
        "# lambda : 함수 생성할때 사용하는 예약어\n",
        "# 함수명 = lambda 매개변수1, 매개변수2, ... : 매개변수를 이용한 표현식\n",
        "add = lambda a, b: a+b\n",
        "result = add(3,4)\n",
        "print(result)"
      ],
      "metadata": {
        "colab": {
          "base_uri": "https://localhost:8080/"
        },
        "id": "EDxTNCNaXhBz",
        "outputId": "21629685-197e-4e67-a38f-e5732f2120f8"
      },
      "execution_count": null,
      "outputs": [
        {
          "output_type": "stream",
          "name": "stdout",
          "text": [
            "7\n"
          ]
        }
      ]
    },
    {
      "cell_type": "markdown",
      "source": [
        "# 사용자 입력과 출력\n",
        "input()"
      ],
      "metadata": {
        "id": "rcsUsV7vX9gN"
      }
    },
    {
      "cell_type": "code",
      "source": [
        "a = input()\n",
        "print(a)"
      ],
      "metadata": {
        "colab": {
          "base_uri": "https://localhost:8080/"
        },
        "id": "OGpFEWalXqnA",
        "outputId": "91563c6e-7974-4d87-c778-808851623262"
      },
      "execution_count": null,
      "outputs": [
        {
          "output_type": "stream",
          "name": "stdout",
          "text": [
            "Life is too short, you need python\n",
            "Life is too short, you need python\n"
          ]
        }
      ]
    },
    {
      "cell_type": "code",
      "source": [
        "number = input('숫자를 입력하세요 :')\n",
        "print(number) # int 아닌 str 문자열 값\n",
        "type(number)"
      ],
      "metadata": {
        "colab": {
          "base_uri": "https://localhost:8080/"
        },
        "id": "j5LMFKsWYI5z",
        "outputId": "5d61df8f-caf5-4495-c89f-cce598c5d4c7"
      },
      "execution_count": null,
      "outputs": [
        {
          "output_type": "stream",
          "name": "stdout",
          "text": [
            "숫자를 입력하세요 :46\n",
            "46\n"
          ]
        },
        {
          "output_type": "execute_result",
          "data": {
            "text/plain": [
              "str"
            ]
          },
          "metadata": {},
          "execution_count": 29
        }
      ]
    },
    {
      "cell_type": "code",
      "source": [
        "# 문자열 띄어쓰기는 콤마로 함\n",
        "print(\"life\", \"is\", \"too short\")"
      ],
      "metadata": {
        "colab": {
          "base_uri": "https://localhost:8080/"
        },
        "id": "qkgMZ2bcAYKx",
        "outputId": "71909863-ae46-4299-d6fe-b325367539a8"
      },
      "execution_count": null,
      "outputs": [
        {
          "output_type": "stream",
          "name": "stdout",
          "text": [
            "life is too short\n"
          ]
        }
      ]
    },
    {
      "cell_type": "code",
      "source": [
        "# 한 줄에 결괏값 출력하기 : end=' '\n",
        "for i in range(10):\n",
        "    print(i, end=' ')"
      ],
      "metadata": {
        "colab": {
          "base_uri": "https://localhost:8080/"
        },
        "id": "2QuesODWYdhr",
        "outputId": "f5e55ba7-e36f-4483-c939-33d2d5e911c5"
      },
      "execution_count": null,
      "outputs": [
        {
          "output_type": "stream",
          "name": "stdout",
          "text": [
            "0 1 2 3 4 5 6 7 8 9 "
          ]
        }
      ]
    }
  ]
}