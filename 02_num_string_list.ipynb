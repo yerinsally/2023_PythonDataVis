{
  "nbformat": 4,
  "nbformat_minor": 0,
  "metadata": {
    "colab": {
      "provenance": [],
      "authorship_tag": "ABX9TyNmzeBE/MdFl1DlruB92xyq",
      "include_colab_link": true
    },
    "kernelspec": {
      "name": "python3",
      "display_name": "Python 3"
    },
    "language_info": {
      "name": "python"
    }
  },
  "cells": [
    {
      "cell_type": "markdown",
      "metadata": {
        "id": "view-in-github",
        "colab_type": "text"
      },
      "source": [
        "<a href=\"https://colab.research.google.com/github/yerinsally/2023_PythonDataVis/blob/main/02_num_string_list.ipynb\" target=\"_parent\"><img src=\"https://colab.research.google.com/assets/colab-badge.svg\" alt=\"Open In Colab\"/></a>"
      ]
    },
    {
      "cell_type": "markdown",
      "source": [
        "# 숫자형\n",
        "- 실수형의 소수점 표현방식 : 4.24e-10 = 4.24 * 10^-10\n",
        "- 8진수와 16진수\n",
        "    1. 8진수(Octal) : 숫자가 0o 또는 0O(숫자 0 + 알파벳 소문자 o, 대문자 O)로 시작 ex. a = 0o177\n",
        "    2. 16진수(Hexadecimal) : 0x로 시작 ex. a = 0x8ff"
      ],
      "metadata": {
        "id": "xR6UbL9aQMxl"
      }
    },
    {
      "cell_type": "markdown",
      "source": [
        "## 활용 연산자\n",
        "숫자형 활용하기 위한 연산자"
      ],
      "metadata": {
        "id": "Z100w5JAQZlD"
      }
    },
    {
      "cell_type": "code",
      "source": [
        "# ** : x의 y제곱\n",
        "a = 3\n",
        "b = 4\n",
        "a ** b"
      ],
      "metadata": {
        "colab": {
          "base_uri": "https://localhost:8080/"
        },
        "id": "i_VtQo4bQuim",
        "outputId": "fe5b9f3c-93ab-4d9c-e6c7-59aea053480a"
      },
      "execution_count": null,
      "outputs": [
        {
          "output_type": "execute_result",
          "data": {
            "text/plain": [
              "81"
            ]
          },
          "metadata": {},
          "execution_count": 2
        }
      ]
    },
    {
      "cell_type": "code",
      "source": [
        "# % : 나눗셈 후 나머지 반환\n",
        "7 % 3"
      ],
      "metadata": {
        "colab": {
          "base_uri": "https://localhost:8080/"
        },
        "id": "RykkRCIaQ5fg",
        "outputId": "23922eb7-79d7-4b20-a3e8-5dde3ea5df2f"
      },
      "execution_count": null,
      "outputs": [
        {
          "output_type": "execute_result",
          "data": {
            "text/plain": [
              "1"
            ]
          },
          "metadata": {},
          "execution_count": 3
        }
      ]
    },
    {
      "cell_type": "code",
      "source": [
        "# // : 나눗셈 후 몫 반환\n",
        "7 // 3"
      ],
      "metadata": {
        "colab": {
          "base_uri": "https://localhost:8080/"
        },
        "id": "eaQg2jbbQ5dG",
        "outputId": "3b2a82a4-20af-4ceb-f8ea-ab70299428ab"
      },
      "execution_count": null,
      "outputs": [
        {
          "output_type": "execute_result",
          "data": {
            "text/plain": [
              "2"
            ]
          },
          "metadata": {},
          "execution_count": 4
        }
      ]
    },
    {
      "cell_type": "markdown",
      "source": [
        "# 문자열\n",
        "문자열 어떻게 만들고 사용할까?\n",
        "→ 'a', \"a\", '''a''', \"\"\"a\"\"\"\n"
      ],
      "metadata": {
        "id": "7ZG5BPAWRIJA"
      }
    },
    {
      "cell_type": "code",
      "source": [
        "# 문자열 안에 작은따옴표, 큰따옴표 포함시키고 싶을 때\n",
        "a = \"Python's favorite food is perl\"\n",
        "print(a)\n",
        "b = '\"Python is very easy.\" he says.'\n",
        "print(b)"
      ],
      "metadata": {
        "colab": {
          "base_uri": "https://localhost:8080/"
        },
        "id": "_4YuCCsuQ5aW",
        "outputId": "a5554b1f-af02-44d9-c48b-366c89b7bc22"
      },
      "execution_count": null,
      "outputs": [
        {
          "output_type": "stream",
          "name": "stdout",
          "text": [
            "Python's favorite food is perl\n",
            "\"Python is very easy.\" he says.\n"
          ]
        }
      ]
    },
    {
      "cell_type": "code",
      "source": [
        "a = 'Python\\'s favorite food is perl'\n",
        "b = \"\\\"Python is very easy.\\\" he says.\"\n",
        "print(a)\n",
        "print(b)"
      ],
      "metadata": {
        "colab": {
          "base_uri": "https://localhost:8080/"
        },
        "id": "WfhHB97QQ5Vd",
        "outputId": "b4a437a7-3dcd-4b33-a632-ec1e2dd08843"
      },
      "execution_count": null,
      "outputs": [
        {
          "output_type": "stream",
          "name": "stdout",
          "text": [
            "Python's favorite food is perl\n",
            "\"Python is very easy.\" he says.\n"
          ]
        }
      ]
    },
    {
      "cell_type": "code",
      "source": [
        "# 여러 줄인 문자열을 변수에ㅔ 대입하고 싶을 때\n",
        "# 이스케이프 코드 \\n 삽입\n",
        "multiline = \"Life is too short\\nYou need python\"\n",
        "print(multiline)"
      ],
      "metadata": {
        "colab": {
          "base_uri": "https://localhost:8080/"
        },
        "id": "o-GpzMARXRSq",
        "outputId": "95eaba48-b863-4cc5-fdf1-e7bbf3c2e4e4"
      },
      "execution_count": null,
      "outputs": [
        {
          "output_type": "stream",
          "name": "stdout",
          "text": [
            "Life is too short\n",
            "You need python\n"
          ]
        }
      ]
    },
    {
      "cell_type": "code",
      "source": [
        "# 연속된 작은따옴표/큰따옴표 3개 사용\n",
        "multiline = '''\n",
        "Life is too short\n",
        "You need python\n",
        "'''\n",
        "print(multiline)"
      ],
      "metadata": {
        "colab": {
          "base_uri": "https://localhost:8080/"
        },
        "id": "LlfZ0vcCXaUj",
        "outputId": "d684c209-0cc9-4f40-dd2f-be8398a0226f"
      },
      "execution_count": null,
      "outputs": [
        {
          "output_type": "stream",
          "name": "stdout",
          "text": [
            "\n",
            "Life is too short\n",
            "You need python\n",
            "\n"
          ]
        }
      ]
    },
    {
      "cell_type": "markdown",
      "source": [
        "이스케이프 코드 = \\n, \\t, \\\\, \\', \\\" 등"
      ],
      "metadata": {
        "id": "lwBV_fq0fAEd"
      }
    },
    {
      "cell_type": "markdown",
      "source": [
        "## 문자열 연산"
      ],
      "metadata": {
        "id": "amV0VHiWYtOR"
      }
    },
    {
      "cell_type": "code",
      "source": [
        "# 문자열 더하기\n",
        "a = \"Python\"\n",
        "b = \" is fun!\"\n",
        "print(a + b)\n",
        "\n",
        "# 문자열 곱하기\n",
        "print(a * 2)\n",
        "\n",
        "print(\"=\" * 50)\n",
        "print(\"My program\")\n",
        "print(\"=\" * 50)\n",
        "\n",
        "# 문자열 길이 구하기\n",
        "a = \"Life is too short\"\n",
        "len(a)"
      ],
      "metadata": {
        "colab": {
          "base_uri": "https://localhost:8080/"
        },
        "id": "goCTiER2YJH7",
        "outputId": "28720062-e1ab-4be9-e45c-3b8718272ea9"
      },
      "execution_count": null,
      "outputs": [
        {
          "output_type": "stream",
          "name": "stdout",
          "text": [
            "Python is fun!\n",
            "PythonPython\n",
            "==================================================\n",
            "My program\n",
            "==================================================\n"
          ]
        },
        {
          "output_type": "execute_result",
          "data": {
            "text/plain": [
              "17"
            ]
          },
          "metadata": {},
          "execution_count": 59
        }
      ]
    },
    {
      "cell_type": "markdown",
      "source": [
        "## 인덱싱 & 슬라이싱\n",
        "- 인덱싱 : 무언가를 가리킨다\n",
        "- 슬라이싱 : 무언가를 잘라낸다"
      ],
      "metadata": {
        "id": "1TB7nH8RZbU8"
      }
    },
    {
      "cell_type": "code",
      "source": [
        "# 인덱싱 : 파이썬은 0부터 숫자를 센다!\n",
        "a = \"Life is too short, You need Python\"\n",
        "print(a[3])\n",
        "print(a[-1])"
      ],
      "metadata": {
        "colab": {
          "base_uri": "https://localhost:8080/"
        },
        "id": "L9MBL6YwZesL",
        "outputId": "d4e1a571-3f1a-44fe-b190-07fa242af69d"
      },
      "execution_count": null,
      "outputs": [
        {
          "output_type": "stream",
          "name": "stdout",
          "text": [
            "e\n",
            "n\n"
          ]
        }
      ]
    },
    {
      "cell_type": "code",
      "source": [
        "# 문자열 슬라이싱\n",
        "print(a[0:4])\n",
        "print(a[12:17])\n",
        "print(a[19:])\n",
        "print(a[19:-7])"
      ],
      "metadata": {
        "colab": {
          "base_uri": "https://localhost:8080/"
        },
        "id": "XbCIC4WFZeCa",
        "outputId": "a7e5de51-16b8-4126-ab29-6fdbf0c0bc3e"
      },
      "execution_count": null,
      "outputs": [
        {
          "output_type": "stream",
          "name": "stdout",
          "text": [
            "Life\n",
            "short\n",
            "You need Python\n",
            "You need\n"
          ]
        }
      ]
    },
    {
      "cell_type": "code",
      "source": [
        "a = \"20010331Rainy\"\n",
        "year = a[:4]\n",
        "day = a[4:8]\n",
        "weather = a[8:]\n",
        "print(year)\n",
        "print(day)\n",
        "print(weather)"
      ],
      "metadata": {
        "colab": {
          "base_uri": "https://localhost:8080/"
        },
        "id": "nM6p_FoydcNk",
        "outputId": "2601f36a-2842-4250-f747-ad4f973fdc2e"
      },
      "execution_count": null,
      "outputs": [
        {
          "output_type": "stream",
          "name": "stdout",
          "text": [
            "2001\n",
            "0331\n",
            "Rainy\n"
          ]
        }
      ]
    },
    {
      "cell_type": "markdown",
      "source": [
        "## 문자열 포매팅\n",
        "문자열 안에 어떤 값을 삽입하는 방법 → 문자열 안의 특정한 값을 바꿔야 할 경우에 사용"
      ],
      "metadata": {
        "id": "ubgtGtvtd9Ru"
      }
    },
    {
      "cell_type": "code",
      "source": [
        "# 숫자 바로 대입 : %d\n",
        "print(\"I eat %d apples\" %3)\n",
        "\n",
        "# 문자열 바로 대입 : %s\n",
        "print(\"I eat %s apples\" %\"five\")\n",
        "\n",
        "# 숫자 값을 나타내는 변수 대입 : %d\n",
        "number = 3\n",
        "print(\"I eat %d apples\" %number)"
      ],
      "metadata": {
        "colab": {
          "base_uri": "https://localhost:8080/"
        },
        "id": "xZS18dMYd7Dx",
        "outputId": "7242c465-0b85-4379-bc2f-c982acf1afcb"
      },
      "execution_count": null,
      "outputs": [
        {
          "output_type": "stream",
          "name": "stdout",
          "text": [
            "I eat 3 apples\n",
            "I eat five apples\n",
            "I eat 3 apples\n"
          ]
        }
      ]
    },
    {
      "cell_type": "code",
      "source": [
        "# 2개 이상의 값 넣기\n",
        "number = 10\n",
        "day = \"three\"\n",
        "\"I ate %d apples. So I was sick for %s days\" %(number, day)"
      ],
      "metadata": {
        "colab": {
          "base_uri": "https://localhost:8080/",
          "height": 35
        },
        "id": "pOIgscUUeY7K",
        "outputId": "813f7b99-e5b6-4d86-985d-1783b253a22c"
      },
      "execution_count": null,
      "outputs": [
        {
          "output_type": "execute_result",
          "data": {
            "text/plain": [
              "'I ate 10 apples. So I was sick for three days'"
            ],
            "application/vnd.google.colaboratory.intrinsic+json": {
              "type": "string"
            }
          },
          "metadata": {},
          "execution_count": 33
        }
      ]
    },
    {
      "cell_type": "markdown",
      "source": [
        "- 문자열 포맷 코드 : %d, %s 등\n",
        "- 포매팅 연산자 %d와 %를 같이 쓸 경우에는 %%"
      ],
      "metadata": {
        "id": "bJVhBDgZfDLI"
      }
    },
    {
      "cell_type": "code",
      "source": [
        "\"Error is %d%%\" %98"
      ],
      "metadata": {
        "colab": {
          "base_uri": "https://localhost:8080/",
          "height": 35
        },
        "id": "wI_QJ_n2fOqt",
        "outputId": "54012e32-03f1-40b4-c4cd-8cc4ead205d7"
      },
      "execution_count": null,
      "outputs": [
        {
          "output_type": "execute_result",
          "data": {
            "text/plain": [
              "'Error is 98%'"
            ],
            "application/vnd.google.colaboratory.intrinsic+json": {
              "type": "string"
            }
          },
          "metadata": {},
          "execution_count": 34
        }
      ]
    },
    {
      "cell_type": "markdown",
      "source": [
        "### 포맷 코드와 숫자 함께 사용"
      ],
      "metadata": {
        "id": "0LVVosrcfa5O"
      }
    },
    {
      "cell_type": "code",
      "source": [
        "# 정렬과 공백\n",
        "print(\"%10s\" %\"hi\")\n",
        "print(\"%-10sjane\" %\"hi\")"
      ],
      "metadata": {
        "colab": {
          "base_uri": "https://localhost:8080/"
        },
        "id": "8OTozhByfhqj",
        "outputId": "8034d81a-5ae0-44c8-e1a2-4cd8be048686"
      },
      "execution_count": null,
      "outputs": [
        {
          "output_type": "stream",
          "name": "stdout",
          "text": [
            "        hi\n",
            "hi        jane\n"
          ]
        }
      ]
    },
    {
      "cell_type": "markdown",
      "source": [
        "%10s = 전체 길이가 10개인 문자열 공간에서 대입되는 값을 오른쪽으로 정렬하고 그 앞의 나머지는 공백으로 남겨두라는 의미"
      ],
      "metadata": {
        "id": "TWPu8vAkfq7C"
      }
    },
    {
      "cell_type": "code",
      "source": [
        "# 소수점 표현하기\n",
        "print(\"%0.4f\" %3.42134234)\n",
        "print(\"%10.4f\" % 3.42134234)"
      ],
      "metadata": {
        "colab": {
          "base_uri": "https://localhost:8080/"
        },
        "id": "qjzx0cwqfhkq",
        "outputId": "606850b0-271e-4014-b4e4-a7eeb916efd5"
      },
      "execution_count": null,
      "outputs": [
        {
          "output_type": "stream",
          "name": "stdout",
          "text": [
            "3.4213\n",
            "    3.4213\n"
          ]
        }
      ]
    },
    {
      "cell_type": "markdown",
      "source": [
        "- '.' = 소수점 포인트, 그 뒤의 숫자 4는 소수점 뒤에 나올 숫자의 개수\n",
        "- 소수점 네 번째 자리까지만 표시하고 전체 길이가 10개인 문자열 공간에서 오른쪽으로 정렬\n"
      ],
      "metadata": {
        "id": "OSFXpirPgAd1"
      }
    },
    {
      "cell_type": "markdown",
      "source": [
        "### format 함수"
      ],
      "metadata": {
        "id": "EUGHurM9gflP"
      }
    },
    {
      "cell_type": "code",
      "source": [
        "# 숫자 바로 대입\n",
        "print(\"I eat {0} apples\".format(3))\n",
        "\n",
        "# 문자열 바로 대입\n",
        "print(\"I eat {0} apples\".format(\"five\"))\n",
        "\n",
        "# 숫자 값을 가진 변수 대입\n",
        "number = 3\n",
        "print(\"I eat {0} apples\".format(number))"
      ],
      "metadata": {
        "colab": {
          "base_uri": "https://localhost:8080/"
        },
        "id": "NuBCqkZIfhdx",
        "outputId": "b694cef8-3512-45cd-b2a2-cfb58b0a3df4"
      },
      "execution_count": null,
      "outputs": [
        {
          "output_type": "stream",
          "name": "stdout",
          "text": [
            "I eat 3 apples\n",
            "I eat five apples\n",
            "I eat 3 apples\n"
          ]
        }
      ]
    },
    {
      "cell_type": "code",
      "source": [
        "# 2개 이상의 값 넣기\n",
        "number = 10\n",
        "day = \"three\"\n",
        "print(\"I ate {0} apples. so I was sick for {1} days.\".format(number, day))\n",
        "\n",
        "# 이름으로 넣기\n",
        "print(\"I ate {number} apples. so I was sick for {day} days.\".format(number=10, day=3))\n",
        "\n",
        "# 인덱스와 이름을 혼용해서 넣기\n",
        "print(\"I ate {0} apples. so I was sick for {day} days.\".format(10, day=3))"
      ],
      "metadata": {
        "colab": {
          "base_uri": "https://localhost:8080/"
        },
        "id": "blgsWDgagnw6",
        "outputId": "4348c7ac-4845-473a-d472-1e713b39adb7"
      },
      "execution_count": null,
      "outputs": [
        {
          "output_type": "stream",
          "name": "stdout",
          "text": [
            "I ate 10 apples. so I was sick for three days.\n",
            "I ate 10 apples. so I was sick for 3 days.\n",
            "I ate 10 apples. so I was sick for 3 days.\n"
          ]
        }
      ]
    },
    {
      "cell_type": "code",
      "source": [
        "# 왼쪽 정렬\n",
        "print(\"{0:<10}\".format(\"hi\"))\n",
        "\n",
        "# 가운데 정렬\n",
        "print(\"{0:^10}\".format(\"hi\"))"
      ],
      "metadata": {
        "colab": {
          "base_uri": "https://localhost:8080/"
        },
        "id": "Y1jGxsd8hAaF",
        "outputId": "ceae8a5d-f927-44fc-f776-017e9b536305"
      },
      "execution_count": null,
      "outputs": [
        {
          "output_type": "stream",
          "name": "stdout",
          "text": [
            "hi        \n",
            "    hi    \n"
          ]
        }
      ]
    },
    {
      "cell_type": "code",
      "source": [
        "# 공백 채우기\n",
        "print(\"{0:=^10}\".format(\"hi\"))\n",
        "print(\"{0:!<10}\".format(\"hi\"))"
      ],
      "metadata": {
        "colab": {
          "base_uri": "https://localhost:8080/"
        },
        "id": "YYGN38uzhLav",
        "outputId": "286f440a-ee79-4701-b5ea-4a61bd1cbbfc"
      },
      "execution_count": null,
      "outputs": [
        {
          "output_type": "stream",
          "name": "stdout",
          "text": [
            "====hi====\n",
            "hi!!!!!!!!\n"
          ]
        }
      ]
    },
    {
      "cell_type": "code",
      "source": [
        "# 소수점 표현하기\n",
        "y = 3.42134234\n",
        "\"{0:0.4f}\".format(y)"
      ],
      "metadata": {
        "colab": {
          "base_uri": "https://localhost:8080/",
          "height": 35
        },
        "id": "AmK9roxjhLYt",
        "outputId": "ac2f21c1-20c5-48b8-aa1a-7b33e197e23e"
      },
      "execution_count": null,
      "outputs": [
        {
          "output_type": "execute_result",
          "data": {
            "text/plain": [
              "'3.4213'"
            ],
            "application/vnd.google.colaboratory.intrinsic+json": {
              "type": "string"
            }
          },
          "metadata": {},
          "execution_count": 51
        }
      ]
    },
    {
      "cell_type": "markdown",
      "source": [
        "### f 문자열 포매팅\n",
        "- 변수 값을 생성한 후에 그 값을 참조할 수 있다.\n"
      ],
      "metadata": {
        "id": "Nk_RfieQhc3U"
      }
    },
    {
      "cell_type": "code",
      "source": [
        "name = '홍길동'\n",
        "age = 30\n",
        "f'나의 이름은 {name}입니다. 나이는 {age}입니다.'"
      ],
      "metadata": {
        "colab": {
          "base_uri": "https://localhost:8080/",
          "height": 35
        },
        "id": "XTzFVxiGhLVd",
        "outputId": "781f11f4-f680-4d25-b8a6-547016585f02"
      },
      "execution_count": null,
      "outputs": [
        {
          "output_type": "execute_result",
          "data": {
            "text/plain": [
              "'나의 이름은 홍길동입니다. 나이는 30입니다.'"
            ],
            "application/vnd.google.colaboratory.intrinsic+json": {
              "type": "string"
            }
          },
          "metadata": {},
          "execution_count": 52
        }
      ]
    },
    {
      "cell_type": "code",
      "source": [
        "age = 30\n",
        "f'나는 내년이면 {age+1}살이 된다.'"
      ],
      "metadata": {
        "colab": {
          "base_uri": "https://localhost:8080/",
          "height": 35
        },
        "id": "OeXs_YGUhh6a",
        "outputId": "6a82de3d-1401-4395-e8a7-1d95b62f678f"
      },
      "execution_count": null,
      "outputs": [
        {
          "output_type": "execute_result",
          "data": {
            "text/plain": [
              "'나는 내년이면 31살이 된다.'"
            ],
            "application/vnd.google.colaboratory.intrinsic+json": {
              "type": "string"
            }
          },
          "metadata": {},
          "execution_count": 53
        }
      ]
    },
    {
      "cell_type": "code",
      "source": [
        "# 딕셔너리\n",
        "d = {'name':'홍길동', 'age':30}\n",
        "f'나의 이름은 {d[\"name\"]}입니다. 나이는 {d[\"age\"]}입니다.'"
      ],
      "metadata": {
        "colab": {
          "base_uri": "https://localhost:8080/",
          "height": 35
        },
        "id": "RDy8xQ4Ehh4C",
        "outputId": "d52fd657-68c7-440c-8730-0b1de0bc144b"
      },
      "execution_count": null,
      "outputs": [
        {
          "output_type": "execute_result",
          "data": {
            "text/plain": [
              "'나의 이름은 홍길동입니다. 나이는 30입니다.'"
            ],
            "application/vnd.google.colaboratory.intrinsic+json": {
              "type": "string"
            }
          },
          "metadata": {},
          "execution_count": 54
        }
      ]
    },
    {
      "cell_type": "code",
      "source": [
        "# 정렬\n",
        "print(f'{\"hi\":<10}')  # 왼쪽 정렬\n",
        "print(f'{\"hi\":>10}')  # 오른쪽 정렬\n",
        "print(f'{\"hi\":^10}')  # 가운데 정렬"
      ],
      "metadata": {
        "colab": {
          "base_uri": "https://localhost:8080/"
        },
        "id": "tR2pTw-ahh1y",
        "outputId": "4643d41a-1ded-4171-8fd5-26299e20077f"
      },
      "execution_count": null,
      "outputs": [
        {
          "output_type": "stream",
          "name": "stdout",
          "text": [
            "hi        \n",
            "        hi\n",
            "    hi    \n"
          ]
        }
      ]
    },
    {
      "cell_type": "code",
      "source": [
        "# 공백 채우기\n",
        "print(f'{\"hi\":=^10}')\n",
        "print(f'{\"hi\":!<10}')"
      ],
      "metadata": {
        "colab": {
          "base_uri": "https://localhost:8080/"
        },
        "id": "8hL1oY24iJw-",
        "outputId": "0cfd6b96-91f7-43eb-8c9d-d1e273ea902a"
      },
      "execution_count": null,
      "outputs": [
        {
          "output_type": "stream",
          "name": "stdout",
          "text": [
            "====hi====\n",
            "hi!!!!!!!!\n"
          ]
        }
      ]
    },
    {
      "cell_type": "code",
      "source": [
        "# 소수점 표현\n",
        "y = 3.42134234\n",
        "print(f'{y:0.4f}')  # 소수점 4자리까지만 표현\n",
        "print(f'{y:10.4f}')  # 소수점 4자리까지 표현하고 총 자리수를 10으로 맞춤"
      ],
      "metadata": {
        "colab": {
          "base_uri": "https://localhost:8080/"
        },
        "id": "1Ck3e0CtiSmc",
        "outputId": "523aed46-52fc-476c-dd13-b1b987b77c6e"
      },
      "execution_count": null,
      "outputs": [
        {
          "output_type": "stream",
          "name": "stdout",
          "text": [
            "3.4213\n",
            "    3.4213\n"
          ]
        }
      ]
    },
    {
      "cell_type": "markdown",
      "source": [
        "## 문자열 관련 함수"
      ],
      "metadata": {
        "id": "bz6Uiibtid_E"
      }
    },
    {
      "cell_type": "code",
      "source": [
        "# 문자 개수 세기 : count\n",
        "a = \"hobby\"\n",
        "a.count('b')"
      ],
      "metadata": {
        "colab": {
          "base_uri": "https://localhost:8080/"
        },
        "id": "PE6pdZyokGMb",
        "outputId": "2922bd80-df0a-477b-a2db-3dd3b53b7a8b"
      },
      "execution_count": null,
      "outputs": [
        {
          "output_type": "execute_result",
          "data": {
            "text/plain": [
              "2"
            ]
          },
          "metadata": {},
          "execution_count": 70
        }
      ]
    },
    {
      "cell_type": "code",
      "source": [
        "# 위치 알려주기1 : find\n",
        "a = \"Python is the best choice\"\n",
        "print(a.find('b'))\n",
        "print(a.find('k'))\n",
        "\n",
        "# 위치 알려주기2 : index\n",
        "a = \"Life is too short\"\n",
        "print(a.index('t'))"
      ],
      "metadata": {
        "colab": {
          "base_uri": "https://localhost:8080/"
        },
        "id": "3vQxu_9TkGJv",
        "outputId": "f2ceca42-777f-49d3-e778-31825e5485e2"
      },
      "execution_count": null,
      "outputs": [
        {
          "output_type": "stream",
          "name": "stdout",
          "text": [
            "14\n",
            "-1\n",
            "8\n"
          ]
        }
      ]
    },
    {
      "cell_type": "code",
      "source": [
        "# 문자열 삽입 : join\n",
        "\",\".join('abcd')"
      ],
      "metadata": {
        "colab": {
          "base_uri": "https://localhost:8080/",
          "height": 35
        },
        "id": "ISOu1LsRkTa9",
        "outputId": "962a7cf3-c6a2-4953-8f86-dbbcef5a18e9"
      },
      "execution_count": null,
      "outputs": [
        {
          "output_type": "execute_result",
          "data": {
            "text/plain": [
              "'a,b,c,d'"
            ],
            "application/vnd.google.colaboratory.intrinsic+json": {
              "type": "string"
            }
          },
          "metadata": {},
          "execution_count": 73
        }
      ]
    },
    {
      "cell_type": "code",
      "source": [
        "# 소문자를 대문자로 바꾸기 : upper\n",
        "a = \"hi\"\n",
        "print(a.upper())\n",
        "\n",
        "# 대문자를 소문자로 바꾸기 : lower\n",
        "a = \"HI\"\n",
        "print(a.lower())"
      ],
      "metadata": {
        "colab": {
          "base_uri": "https://localhost:8080/"
        },
        "id": "iOY1oYtykTZe",
        "outputId": "5d4749fb-70ff-4148-ebab-e45e1de04f1a"
      },
      "execution_count": null,
      "outputs": [
        {
          "output_type": "stream",
          "name": "stdout",
          "text": [
            "HI\n",
            "hi\n"
          ]
        }
      ]
    },
    {
      "cell_type": "code",
      "source": [
        "# 왼쪽 공백 지우기 : lstrip\n",
        "a = \" hi \"\n",
        "print(a.lstrip())\n",
        "\n",
        "# 오른쪽 공백 지우기 : rstrip\n",
        "a= \" hi \"\n",
        "print(a.rstrip())\n",
        "\n",
        "# 양쪽 공백 지우기 : strip\n",
        "a = \" hi \"\n",
        "print(a.strip())"
      ],
      "metadata": {
        "colab": {
          "base_uri": "https://localhost:8080/"
        },
        "id": "h3yMWEZSkTWb",
        "outputId": "5828d21d-ac6a-41aa-c537-d1a85905288e"
      },
      "execution_count": null,
      "outputs": [
        {
          "output_type": "stream",
          "name": "stdout",
          "text": [
            "hi \n",
            " hi\n",
            "hi\n"
          ]
        }
      ]
    },
    {
      "cell_type": "code",
      "source": [
        "# 문자열 바꾸기 : replace\n",
        "a = \"Life is too short\"\n",
        "print(a.replace(\"Life\", \"Your leg\"))\n",
        "\n",
        "# 문자열 나누기 : split\n",
        "a = \"Life is too short\"\n",
        "print(a.split())\n",
        "b = \"a:b:c:d\"\n",
        "print(b.split(':'))"
      ],
      "metadata": {
        "colab": {
          "base_uri": "https://localhost:8080/"
        },
        "id": "eaiwyI3RkTTs",
        "outputId": "ac24fddc-97f2-4059-af2e-7abffc6749bb"
      },
      "execution_count": null,
      "outputs": [
        {
          "output_type": "stream",
          "name": "stdout",
          "text": [
            "Your leg is too short\n",
            "['Life', 'is', 'too', 'short']\n",
            "['a', 'b', 'c', 'd']\n"
          ]
        }
      ]
    },
    {
      "cell_type": "markdown",
      "source": [
        "# 리스트"
      ],
      "metadata": {
        "id": "W-2aVfZxQsoS"
      }
    },
    {
      "cell_type": "code",
      "execution_count": null,
      "metadata": {
        "id": "-n6qqYB3UVl4",
        "colab": {
          "base_uri": "https://localhost:8080/"
        },
        "outputId": "5b20e5e1-1abd-41ec-9a2d-639a39cd0cd1"
      },
      "outputs": [
        {
          "output_type": "execute_result",
          "data": {
            "text/plain": [
              "[1, 2, 3, ['a', 'b', 'c'], 4, 5]"
            ]
          },
          "metadata": {},
          "execution_count": 2
        }
      ],
      "source": [
        "a = [1,2,3,['a','b','c'],4,5]\n",
        "a"
      ]
    },
    {
      "cell_type": "markdown",
      "source": [
        "## 인덱싱 & 슬라이싱"
      ],
      "metadata": {
        "id": "FObeiox7mOY8"
      }
    },
    {
      "cell_type": "code",
      "source": [
        "print(a[2])\n",
        "print(a[3][2])"
      ],
      "metadata": {
        "colab": {
          "base_uri": "https://localhost:8080/"
        },
        "id": "CebFD2rFDHQz",
        "outputId": "a3f27dcd-0cc2-4033-8445-3cc10073ebc8"
      },
      "execution_count": null,
      "outputs": [
        {
          "output_type": "stream",
          "name": "stdout",
          "text": [
            "3\n",
            "c\n"
          ]
        }
      ]
    },
    {
      "cell_type": "code",
      "source": [
        "print(a[2:5])\n",
        "print(a[3][:2])\n",
        "print(\"hi\" * a[2])"
      ],
      "metadata": {
        "colab": {
          "base_uri": "https://localhost:8080/"
        },
        "id": "h_OTw-P_X34S",
        "outputId": "6bb9a64f-d56c-427d-830e-dc7411f690b8"
      },
      "execution_count": null,
      "outputs": [
        {
          "output_type": "stream",
          "name": "stdout",
          "text": [
            "[3, ['a', 'b', 'c'], 4]\n",
            "['a', 'b']\n",
            "hihihi\n"
          ]
        }
      ]
    },
    {
      "cell_type": "code",
      "source": [
        "# str = 문자열로 바꾸는 함수\n",
        "\"hi\" + str(a[2])"
      ],
      "metadata": {
        "colab": {
          "base_uri": "https://localhost:8080/",
          "height": 35
        },
        "id": "N8B425PJZpiy",
        "outputId": "95d920cb-d344-40ce-d0a5-48e685708ca9"
      },
      "execution_count": null,
      "outputs": [
        {
          "output_type": "execute_result",
          "data": {
            "text/plain": [
              "'hi3'"
            ],
            "application/vnd.google.colaboratory.intrinsic+json": {
              "type": "string"
            }
          },
          "metadata": {},
          "execution_count": 4
        }
      ]
    },
    {
      "cell_type": "markdown",
      "source": [
        "## 리스트 연산"
      ],
      "metadata": {
        "id": "RPaEjuo0D40i"
      }
    },
    {
      "cell_type": "code",
      "source": [
        "# 리스트 더하기\n",
        "a = [1,2,3]\n",
        "b = [4,5,6]\n",
        "print(a + b)\n",
        "\n",
        "# 리스트 반복하기\n",
        "print(a * 3)\n",
        "\n",
        "# 리스트 길이 구하기\n",
        "print(len(a))"
      ],
      "metadata": {
        "colab": {
          "base_uri": "https://localhost:8080/"
        },
        "id": "k3q9XvdgD7xB",
        "outputId": "d35855c7-2626-4e80-8f85-fecd4baf8737"
      },
      "execution_count": null,
      "outputs": [
        {
          "output_type": "stream",
          "name": "stdout",
          "text": [
            "[1, 2, 3, 4, 5, 6]\n",
            "[1, 2, 3, 1, 2, 3, 1, 2, 3]\n",
            "3\n"
          ]
        }
      ]
    },
    {
      "cell_type": "markdown",
      "source": [
        "## 리스트 관련 함수\n",
        "리스트 수정 & 삭제\n",
        "\n"
      ],
      "metadata": {
        "id": "xTQfZXunEP7Q"
      }
    },
    {
      "cell_type": "code",
      "source": [
        "# 리스트에 값 수정\n",
        "a = [1,2,3,4,5]\n",
        "a[2] = 4\n",
        "print(a)\n",
        "\n",
        "# 리스트에 요소 삭제 : del 객체\n",
        "del a[2:]\n",
        "print(a)"
      ],
      "metadata": {
        "colab": {
          "base_uri": "https://localhost:8080/"
        },
        "id": "xwzbRX7qaF2q",
        "outputId": "84766551-690f-40a2-f585-6f0490079283"
      },
      "execution_count": null,
      "outputs": [
        {
          "output_type": "stream",
          "name": "stdout",
          "text": [
            "[1, 2, 4, 4, 5]\n",
            "[1, 2]\n"
          ]
        }
      ]
    },
    {
      "cell_type": "code",
      "source": [
        "# 리스트에 요소 추가 : append\n",
        "a = [1,2,3,4,5]\n",
        "a.append(4)\n",
        "print(a)\n",
        "a.append([5,6])\n",
        "print(a)"
      ],
      "metadata": {
        "colab": {
          "base_uri": "https://localhost:8080/"
        },
        "id": "MVp_WSukbTWs",
        "outputId": "a32796a4-b45c-4f31-d8b2-6808e39eb0d4"
      },
      "execution_count": null,
      "outputs": [
        {
          "output_type": "stream",
          "name": "stdout",
          "text": [
            "[1, 2, 3, 4, 5, 4]\n",
            "[1, 2, 3, 4, 5, 4, [5, 6]]\n"
          ]
        }
      ]
    },
    {
      "cell_type": "code",
      "source": [
        "# 리스트 정렬 : sort\n",
        "a = [1,4,2,3]\n",
        "a.sort()\n",
        "print(a)\n",
        "\n",
        "a = ['a','c','b']\n",
        "a.sort()\n",
        "print(a)"
      ],
      "metadata": {
        "colab": {
          "base_uri": "https://localhost:8080/"
        },
        "id": "5pN04n2kbp52",
        "outputId": "605de328-e911-4831-d952-ce7afabe691f"
      },
      "execution_count": null,
      "outputs": [
        {
          "output_type": "stream",
          "name": "stdout",
          "text": [
            "[1, 2, 3, 4]\n",
            "['a', 'b', 'c']\n"
          ]
        }
      ]
    },
    {
      "cell_type": "code",
      "source": [
        "# 리스트 뒤집기 : reverse\n",
        "a.reverse()\n",
        "a"
      ],
      "metadata": {
        "colab": {
          "base_uri": "https://localhost:8080/"
        },
        "id": "CLv6vptfb6XX",
        "outputId": "cf8db89e-cf2e-4aeb-f2cd-3a250dcfe472"
      },
      "execution_count": null,
      "outputs": [
        {
          "output_type": "execute_result",
          "data": {
            "text/plain": [
              "['c', 'b', 'a']"
            ]
          },
          "metadata": {},
          "execution_count": 14
        }
      ]
    },
    {
      "cell_type": "code",
      "source": [
        "# 인덱스값 반환\n",
        "a = [1,2,3,4,5,6,7]\n",
        "print(a.index(3))\n",
        "print(a.index(6))"
      ],
      "metadata": {
        "colab": {
          "base_uri": "https://localhost:8080/"
        },
        "id": "cIyoybhXb-6-",
        "outputId": "320958f3-43ef-4638-8d08-06212ff68586"
      },
      "execution_count": null,
      "outputs": [
        {
          "output_type": "stream",
          "name": "stdout",
          "text": [
            "2\n",
            "5\n"
          ]
        }
      ]
    },
    {
      "cell_type": "code",
      "source": [
        "# 리스트에 요소 삽입 : insert\n",
        "a = [1,2,3,4,5,6,7]\n",
        "a.insert(0,8)\n",
        "a"
      ],
      "metadata": {
        "colab": {
          "base_uri": "https://localhost:8080/"
        },
        "id": "lm1kAJuccP7Q",
        "outputId": "9e7cde1a-9f72-414d-8219-1fa6cc252698"
      },
      "execution_count": null,
      "outputs": [
        {
          "output_type": "execute_result",
          "data": {
            "text/plain": [
              "[8, 1, 2, 3, 4, 5, 6, 7]"
            ]
          },
          "metadata": {},
          "execution_count": 17
        }
      ]
    },
    {
      "cell_type": "code",
      "source": [
        "# 리스트 제거 : remove\n",
        "a = [1,2,3,1,2,3]\n",
        "a.remove(3) # 첫번째로 나오는 x 삭제\n",
        "print(a)\n",
        "\n",
        "a.remove(3)\n",
        "print(a)"
      ],
      "metadata": {
        "colab": {
          "base_uri": "https://localhost:8080/"
        },
        "id": "k2NmsJw0cbQE",
        "outputId": "10462be8-da5d-4016-eb5e-318fd39976b8"
      },
      "execution_count": null,
      "outputs": [
        {
          "output_type": "stream",
          "name": "stdout",
          "text": [
            "[1, 2, 1, 2, 3]\n",
            "[1, 2, 1, 2]\n"
          ]
        }
      ]
    },
    {
      "cell_type": "code",
      "source": [
        "# 리스트 요소 끄집어내기 : pop\n",
        "# 리스트의 맨 마지막 요소 리턴 후 삭제\n",
        "a = [1,2,3,4,5,6,7]\n",
        "a.pop()\n",
        "print(a)\n",
        "\n",
        "a.pop(4)  # 리스트의 x번째 요소 리턴, 그 요소는 삭제\n",
        "print(a)"
      ],
      "metadata": {
        "colab": {
          "base_uri": "https://localhost:8080/"
        },
        "id": "gXGJH8Jqc0xt",
        "outputId": "b55112cd-89e7-4efa-bbee-c8c3ea0886f5"
      },
      "execution_count": null,
      "outputs": [
        {
          "output_type": "stream",
          "name": "stdout",
          "text": [
            "[1, 2, 3, 4, 5, 6]\n",
            "[1, 2, 3, 4, 6]\n"
          ]
        }
      ]
    },
    {
      "cell_type": "code",
      "source": [
        "# 리스트 확장 : extend\n",
        "a = [1,2,3]\n",
        "a.extend([4,5])\n",
        "print(a)\n",
        "\n",
        "a = a + [6,7]\n",
        "print(a)\n",
        "\n",
        "a += [8,9,10] # a = a + [8,9,10]\n",
        "print(a)"
      ],
      "metadata": {
        "colab": {
          "base_uri": "https://localhost:8080/"
        },
        "id": "eRukjA79dTUn",
        "outputId": "d6ecd6ba-94ac-4a73-c373-8fdc56b9a741"
      },
      "execution_count": null,
      "outputs": [
        {
          "output_type": "stream",
          "name": "stdout",
          "text": [
            "[1, 2, 3, 4, 5]\n",
            "[1, 2, 3, 4, 5, 6, 7]\n",
            "[1, 2, 3, 4, 5, 6, 7, 8, 9, 10]\n"
          ]
        }
      ]
    }
  ]
}