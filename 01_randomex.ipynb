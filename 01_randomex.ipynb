{
  "nbformat": 4,
  "nbformat_minor": 0,
  "metadata": {
    "colab": {
      "provenance": [],
      "authorship_tag": "ABX9TyPPpuMPperiU7s7FeBQR2Uy",
      "include_colab_link": true
    },
    "kernelspec": {
      "name": "python3",
      "display_name": "Python 3"
    },
    "language_info": {
      "name": "python"
    }
  },
  "cells": [
    {
      "cell_type": "markdown",
      "metadata": {
        "id": "view-in-github",
        "colab_type": "text"
      },
      "source": [
        "<a href=\"https://colab.research.google.com/github/yerinsally/2023_PythonDataVis/blob/main/01_randomex.ipynb\" target=\"_parent\"><img src=\"https://colab.research.google.com/assets/colab-badge.svg\" alt=\"Open In Colab\"/></a>"
      ]
    },
    {
      "cell_type": "markdown",
      "source": [
        "## 파이썬 예제"
      ],
      "metadata": {
        "id": "uQ08CN_Xqq7q"
      }
    },
    {
      "cell_type": "code",
      "source": [
        "# Num개 난수의 평균값 구하기\n",
        "import random"
      ],
      "metadata": {
        "id": "3C9_Zp_qqrXR"
      },
      "execution_count": null,
      "outputs": []
    },
    {
      "cell_type": "code",
      "source": [
        "Num = int(input(\"몇 개의 난수로 평균을 구할까요?\"))"
      ],
      "metadata": {
        "colab": {
          "base_uri": "https://localhost:8080/"
        },
        "id": "vSQiTLYMqrUc",
        "outputId": "0857a8a7-b6d8-4bef-80e5-8bab23d9aaf5"
      },
      "execution_count": null,
      "outputs": [
        {
          "name": "stdout",
          "output_type": "stream",
          "text": [
            "몇 개의 난수로 평균을 구할까요?5000\n"
          ]
        }
      ]
    },
    {
      "cell_type": "code",
      "execution_count": null,
      "metadata": {
        "id": "MfMgenFwqkuM"
      },
      "outputs": [],
      "source": [
        "count = 0\n",
        "sum1 = 0"
      ]
    },
    {
      "cell_type": "code",
      "source": [
        "while count < Num:\n",
        "  x = random.random()\n",
        "  if x <= 0.5:\n",
        "    k = 0.0\n",
        "  else:\n",
        "    k = 1.0\n",
        "  sum1 = sum1 + k\n",
        "  count = count + 1"
      ],
      "metadata": {
        "id": "wj9KzsLQrOuJ"
      },
      "execution_count": null,
      "outputs": []
    },
    {
      "cell_type": "code",
      "source": [
        "average = sum1 / Num"
      ],
      "metadata": {
        "id": "T0A7Wqjqrt0l"
      },
      "execution_count": null,
      "outputs": []
    },
    {
      "cell_type": "code",
      "source": [
        "print(\"난수의 개수는\", Num, \"이고, 평균값은\", average, \"입니다.\")"
      ],
      "metadata": {
        "colab": {
          "base_uri": "https://localhost:8080/"
        },
        "id": "WpCBVSUsrzeC",
        "outputId": "4f1bd651-0fb4-4daa-f1db-bbeb56df6b34"
      },
      "execution_count": null,
      "outputs": [
        {
          "output_type": "stream",
          "name": "stdout",
          "text": [
            "난수의 개수는 5000 이고, 평균값은 0.5074 입니다.\n"
          ]
        }
      ]
    }
  ]
}